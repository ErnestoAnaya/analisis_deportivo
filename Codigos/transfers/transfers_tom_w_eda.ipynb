{
 "cells": [
  {
   "cell_type": "code",
   "execution_count": 2,
   "id": "1bc95730",
   "metadata": {},
   "outputs": [],
   "source": [
    "import pandas as pd\n",
    "import numpy as np\n",
    "\n",
    "import matplotlib.pyplot as plt\n",
    "import seaborn as sns"
   ]
  },
  {
   "cell_type": "markdown",
   "id": "fbd84e10",
   "metadata": {},
   "source": [
    "# EDA for transfer market data\n",
    "\n",
    "data from : https://gist.github.com/Worville/c4149ece45a75928a404d316151ba0fe\n",
    "- Tom Worville https://twitter.com/Worville/status/1420035521988993034\n",
    "- Supposedly is from the same source used by **The Guardian**"
   ]
  },
  {
   "cell_type": "code",
   "execution_count": 3,
   "id": "54c63b02",
   "metadata": {},
   "outputs": [],
   "source": [
    "df = pd.read_csv('../data/transfer_data/guardian_transfer_data.csv')"
   ]
  },
  {
   "cell_type": "code",
   "execution_count": 15,
   "id": "ffa909ba",
   "metadata": {},
   "outputs": [
    {
     "data": {
      "text/html": [
       "<div>\n",
       "<style scoped>\n",
       "    .dataframe tbody tr th:only-of-type {\n",
       "        vertical-align: middle;\n",
       "    }\n",
       "\n",
       "    .dataframe tbody tr th {\n",
       "        vertical-align: top;\n",
       "    }\n",
       "\n",
       "    .dataframe thead th {\n",
       "        text-align: right;\n",
       "    }\n",
       "</style>\n",
       "<table border=\"1\" class=\"dataframe\">\n",
       "  <thead>\n",
       "    <tr style=\"text-align: right;\">\n",
       "      <th></th>\n",
       "      <th>transfer_id</th>\n",
       "      <th>transfer_year</th>\n",
       "      <th>window_day</th>\n",
       "      <th>window_open</th>\n",
       "      <th>timestamp</th>\n",
       "      <th>player_name</th>\n",
       "      <th>transfer_status</th>\n",
       "      <th>transfer_type</th>\n",
       "      <th>primary_player_position</th>\n",
       "      <th>price_in_pounds</th>\n",
       "      <th>previous_club</th>\n",
       "      <th>new_club</th>\n",
       "      <th>previous_league</th>\n",
       "      <th>new_league</th>\n",
       "      <th>big_deal</th>\n",
       "      <th>flow_id</th>\n",
       "    </tr>\n",
       "  </thead>\n",
       "  <tbody>\n",
       "    <tr>\n",
       "      <th>0</th>\n",
       "      <td>1</td>\n",
       "      <td>2021</td>\n",
       "      <td>48</td>\n",
       "      <td>2021-06-09</td>\n",
       "      <td>2021-07-27</td>\n",
       "      <td>Zito Luvumbo</td>\n",
       "      <td>done deal</td>\n",
       "      <td>loan</td>\n",
       "      <td>W</td>\n",
       "      <td>NaN</td>\n",
       "      <td>Cagliari</td>\n",
       "      <td>Como</td>\n",
       "      <td>Serie A</td>\n",
       "      <td>Serie C</td>\n",
       "      <td>NaN</td>\n",
       "      <td>100</td>\n",
       "    </tr>\n",
       "    <tr>\n",
       "      <th>1</th>\n",
       "      <td>2</td>\n",
       "      <td>2021</td>\n",
       "      <td>48</td>\n",
       "      <td>2021-06-09</td>\n",
       "      <td>2021-07-27</td>\n",
       "      <td>David Juncà</td>\n",
       "      <td>done deal</td>\n",
       "      <td>free</td>\n",
       "      <td>D</td>\n",
       "      <td>NaN</td>\n",
       "      <td>Celta Vigo</td>\n",
       "      <td>Girona</td>\n",
       "      <td>La Liga</td>\n",
       "      <td>Spanish Segunda</td>\n",
       "      <td>NaN</td>\n",
       "      <td>241</td>\n",
       "    </tr>\n",
       "    <tr>\n",
       "      <th>2</th>\n",
       "      <td>1</td>\n",
       "      <td>2021</td>\n",
       "      <td>48</td>\n",
       "      <td>2021-06-09</td>\n",
       "      <td>2021-07-27</td>\n",
       "      <td>Giuseppe Pezzella</td>\n",
       "      <td>done deal</td>\n",
       "      <td>loan</td>\n",
       "      <td>D</td>\n",
       "      <td>NaN</td>\n",
       "      <td>Parma</td>\n",
       "      <td>Atalanta</td>\n",
       "      <td>Serie B</td>\n",
       "      <td>Serie A</td>\n",
       "      <td>NaN</td>\n",
       "      <td>106</td>\n",
       "    </tr>\n",
       "    <tr>\n",
       "      <th>3</th>\n",
       "      <td>1</td>\n",
       "      <td>2021</td>\n",
       "      <td>48</td>\n",
       "      <td>2021-06-09</td>\n",
       "      <td>2021-07-27</td>\n",
       "      <td>Pablo Rosario</td>\n",
       "      <td>done deal</td>\n",
       "      <td>fee</td>\n",
       "      <td>M</td>\n",
       "      <td>5130000.0</td>\n",
       "      <td>PSV Eindhoven</td>\n",
       "      <td>Nice</td>\n",
       "      <td>Eredivisie</td>\n",
       "      <td>Ligue 1</td>\n",
       "      <td>Yes</td>\n",
       "      <td>8</td>\n",
       "    </tr>\n",
       "    <tr>\n",
       "      <th>4</th>\n",
       "      <td>1</td>\n",
       "      <td>2021</td>\n",
       "      <td>48</td>\n",
       "      <td>2021-06-09</td>\n",
       "      <td>2021-07-27</td>\n",
       "      <td>Martín Calderón</td>\n",
       "      <td>done deal</td>\n",
       "      <td>undisclosed</td>\n",
       "      <td>M</td>\n",
       "      <td>NaN</td>\n",
       "      <td>Real Madrid</td>\n",
       "      <td>Cádiz</td>\n",
       "      <td>La Liga</td>\n",
       "      <td>La Liga</td>\n",
       "      <td>NaN</td>\n",
       "      <td>265</td>\n",
       "    </tr>\n",
       "  </tbody>\n",
       "</table>\n",
       "</div>"
      ],
      "text/plain": [
       "   transfer_id  transfer_year  window_day window_open   timestamp  \\\n",
       "0            1           2021          48  2021-06-09  2021-07-27   \n",
       "1            2           2021          48  2021-06-09  2021-07-27   \n",
       "2            1           2021          48  2021-06-09  2021-07-27   \n",
       "3            1           2021          48  2021-06-09  2021-07-27   \n",
       "4            1           2021          48  2021-06-09  2021-07-27   \n",
       "\n",
       "         player_name transfer_status transfer_type primary_player_position  \\\n",
       "0       Zito Luvumbo       done deal          loan                       W   \n",
       "1        David Juncà       done deal          free                       D   \n",
       "2  Giuseppe Pezzella       done deal          loan                       D   \n",
       "3      Pablo Rosario       done deal           fee                       M   \n",
       "4    Martín Calderón       done deal   undisclosed                       M   \n",
       "\n",
       "   price_in_pounds  previous_club  new_club previous_league       new_league  \\\n",
       "0              NaN       Cagliari      Como         Serie A          Serie C   \n",
       "1              NaN     Celta Vigo    Girona         La Liga  Spanish Segunda   \n",
       "2              NaN          Parma  Atalanta         Serie B          Serie A   \n",
       "3        5130000.0  PSV Eindhoven      Nice      Eredivisie          Ligue 1   \n",
       "4              NaN    Real Madrid     Cádiz         La Liga          La Liga   \n",
       "\n",
       "  big_deal  flow_id  \n",
       "0      NaN      100  \n",
       "1      NaN      241  \n",
       "2      NaN      106  \n",
       "3      Yes        8  \n",
       "4      NaN      265  "
      ]
     },
     "execution_count": 15,
     "metadata": {},
     "output_type": "execute_result"
    }
   ],
   "source": [
    "df.head()"
   ]
  },
  {
   "cell_type": "code",
   "execution_count": 14,
   "id": "f4389239",
   "metadata": {},
   "outputs": [
    {
     "data": {
      "text/plain": [
       "Index(['transfer_id', 'transfer_year', 'window_day', 'window_open',\n",
       "       'timestamp', 'player_name', 'transfer_status', 'transfer_type',\n",
       "       'primary_player_position', 'price_in_pounds', 'previous_club',\n",
       "       'new_club', 'previous_league', 'new_league', 'big_deal', 'flow_id'],\n",
       "      dtype='object')"
      ]
     },
     "execution_count": 14,
     "metadata": {},
     "output_type": "execute_result"
    }
   ],
   "source": [
    "df.columns"
   ]
  },
  {
   "cell_type": "code",
   "execution_count": 10,
   "id": "c24fa72b",
   "metadata": {},
   "outputs": [
    {
     "data": {
      "text/plain": [
       "array(['Serie A', 'La Liga', 'Serie B', 'Eredivisie', 'Premier League',\n",
       "       'Ligue 1', 'Cameroon', '1. Bundesliga', 'Segunda B',\n",
       "       'Championship', 'Eliteserien', 'NL South', 'Scottish Premiership',\n",
       "       'Portugal Liga NOS', 'Brazilian Serie A', 'Russian Premier League',\n",
       "       'Danish SuperLiga', 'League Two', 'Ligue 2',\n",
       "       'Belgian Jupiler Pro League', 'League One', 'National',\n",
       "       'Colombian Primera', 'Senegalese League', 'Croatian 1.HNL',\n",
       "       'Ukrainian Premier League', '2. Bundesliga', 'Hungarian NB I',\n",
       "       \"Cote d'Ivoire\", 'Montenegro CFL', 'Turkish Super Lig', 'Serie C',\n",
       "       'MLS', 'Greek Super League', 'Spanish Segunda',\n",
       "       'Swiss Superleague', 'Chilean Primera', 'Paraguay',\n",
       "       'Austrian Bundesliga', 'Argentina Primera Division', nan,\n",
       "       'Slovakian Fortuna Liga', 'Liga MX', 'Ereste Divisie',\n",
       "       'Polish Ekstraklasa', 'Liga Portugal 2', 'Mali', 'J League',\n",
       "       'Serbian Super Liga', 'Israel Ligat', '3. Bundesliga',\n",
       "       'National League', 'Kazakh Premier Liga', 'NCAA Division I',\n",
       "       'A-League', 'ABSA Premiership', 'Romanian Liga 1', 'Peru Primera',\n",
       "       'Saudi Professional League', 'Uruguay Primera Division',\n",
       "       'Czech First League', 'Norwegian Eliteserien',\n",
       "       'Chinese Super League', 'Turkish 2nd Division',\n",
       "       'League of Ireland', 'Spanish Fourth Division', 'France CFA',\n",
       "       'Ecuador Primera', 'UAE Gulf League', 'Eerste Divisie',\n",
       "       'Algerian Ligue 1', 'Serie D', 'Ligue Professionnelle 1',\n",
       "       'Cypriot League', 'Free agent', 'Uruguay Segunda Division',\n",
       "       'Finnish Veikkausliiga', 'Congolese Linafoot', 'Allsvenskan',\n",
       "       'Egyptian Premier League', 'Ghanaian league', 'Angola',\n",
       "       'Qatar Stars League', 'Morocco Amateur National Championship',\n",
       "       'National 2', 'Scottish Championship', 'Belgian Proximus League',\n",
       "       'Segunda División B (Uruguay)', 'Austrian 2. Liga',\n",
       "       'Macedonian First League', 'Brazilian Campeonato Paulista',\n",
       "       'Venezuelan Primera', 'Spanish 3. Liga', 'Argentina Primera B',\n",
       "       'Regionalliga Nordost', 'Northern Premier League', '3. Liga',\n",
       "       'Swiss Challenge League', 'Bundesliga 2.',\n",
       "       'Swedish Second Division', 'National League North',\n",
       "       'Moldovan Divizia Nationala', 'Slovenian Prva Liga',\n",
       "       'Togolese Championnat', 'Tunisian Ligue Pro', 'Morocco Botola Pro',\n",
       "       'Sweden Second Division', 'Regionalliga Bayern',\n",
       "       'Bulgarian First League', 'Lega Pro', 'Norwegian second division',\n",
       "       'NCAA Division I FBS', 'Segunda División B', 'National 1',\n",
       "       'Premier League (Senegal)', 'Ligue 1 (Ivory Coast)'], dtype=object)"
      ]
     },
     "execution_count": 10,
     "metadata": {},
     "output_type": "execute_result"
    }
   ],
   "source": [
    "df['previous_league'].unique()"
   ]
  },
  {
   "cell_type": "code",
   "execution_count": 13,
   "id": "4cb330d4",
   "metadata": {},
   "outputs": [
    {
     "data": {
      "text/plain": [
       "count    2.077000e+03\n",
       "mean     8.547637e+06\n",
       "std      1.270805e+07\n",
       "min      0.000000e+00\n",
       "25%      1.800000e+06\n",
       "50%      4.400000e+06\n",
       "75%      1.052000e+07\n",
       "max      1.980000e+08\n",
       "Name: price_in_pounds, dtype: float64"
      ]
     },
     "execution_count": 13,
     "metadata": {},
     "output_type": "execute_result"
    }
   ],
   "source": [
    "df['price_in_pounds'].describe()"
   ]
  },
  {
   "cell_type": "code",
   "execution_count": 31,
   "id": "c83fdd79",
   "metadata": {},
   "outputs": [
    {
     "data": {
      "text/plain": [
       "<AxesSubplot:xlabel='price_in_pounds', ylabel='Count'>"
      ]
     },
     "execution_count": 31,
     "metadata": {},
     "output_type": "execute_result"
    },
    {
     "data": {
      "image/png": "[encoded data removed]",
      "text/plain": [
       "<Figure size 432x288 with 1 Axes>"
      ]
     },
     "metadata": {
      "needs_background": "light"
     },
     "output_type": "display_data"
    }
   ],
   "source": [
    "sns.histplot(data = df['price_in_pounds'])"
   ]
  },
  {
   "cell_type": "code",
   "execution_count": 70,
   "id": "6c0fa274",
   "metadata": {},
   "outputs": [
    {
     "name": "stdout",
     "output_type": "stream",
     "text": [
      "207\n"
     ]
    }
   ],
   "source": [
    "low_bound = 20000000\n",
    "one_mil = df[(df['price_in_pounds'] > low_bound) &\n",
    "             (df['price_in_pounds'].isna() == False)\n",
    "            ].sort_values(by='price_in_pounds')\n",
    "print(\"\"+len(one_mil))\n",
    "one_mil = one_mil.head(-5)"
   ]
  },
  {
   "cell_type": "code",
   "execution_count": 68,
   "id": "bc10956b",
   "metadata": {},
   "outputs": [
    {
     "data": {
      "text/plain": [
       "<AxesSubplot:xlabel='price_in_pounds', ylabel='Count'>"
      ]
     },
     "execution_count": 68,
     "metadata": {},
     "output_type": "execute_result"
    },
    {
     "data": {
      "image/png": "[encoded data removed]",
      "text/plain": [
       "<Figure size 432x288 with 1 Axes>"
      ]
     },
     "metadata": {
      "needs_background": "light"
     },
     "output_type": "display_data"
    }
   ],
   "source": [
    "sns.histplot(data = one_mil, x = 'price_in_pounds')"
   ]
  },
  {
   "cell_type": "code",
   "execution_count": 34,
   "id": "6e0c370e",
   "metadata": {},
   "outputs": [
    {
     "data": {
      "text/plain": [
       "<AxesSubplot:xlabel='transfer_year', ylabel='Count'>"
      ]
     },
     "execution_count": 34,
     "metadata": {},
     "output_type": "execute_result"
    },
    {
     "data": {
      "image/png": "[encoded data removed]",
      "text/plain": [
       "<Figure size 432x288 with 1 Axes>"
      ]
     },
     "metadata": {
      "needs_background": "light"
     },
     "output_type": "display_data"
    }
   ],
   "source": [
    "sns.histplot(data = df['transfer_year'])"
   ]
  },
  {
   "cell_type": "code",
   "execution_count": 47,
   "id": "9cd37dde",
   "metadata": {},
   "outputs": [
    {
     "data": {
      "text/plain": [
       "<AxesSubplot:xlabel='Count', ylabel='transfer_type'>"
      ]
     },
     "execution_count": 47,
     "metadata": {},
     "output_type": "execute_result"
    },
    {
     "data": {
      "image/png": "[encoded data removed]",
      "text/plain": [
       "<Figure size 432x288 with 1 Axes>"
      ]
     },
     "metadata": {
      "needs_background": "light"
     },
     "output_type": "display_data"
    }
   ],
   "source": [
    "sns.histplot(data = df, y = 'transfer_type')"
   ]
  }
 ],
 "metadata": {
  "kernelspec": {
   "display_name": "Python 3 (ipykernel)",
   "language": "python",
   "name": "python3"
  },
  "language_info": {
   "codemirror_mode": {
    "name": "ipython",
    "version": 3
   },
   "file_extension": ".py",
   "mimetype": "text/x-python",
   "name": "python",
   "nbconvert_exporter": "python",
   "pygments_lexer": "ipython3",
   "version": "3.9.7"
  }
 },
 "nbformat": 4,
 "nbformat_minor": 5
}
