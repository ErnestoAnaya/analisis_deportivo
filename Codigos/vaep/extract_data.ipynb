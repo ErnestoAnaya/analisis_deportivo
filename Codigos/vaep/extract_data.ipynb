{
 "cells": [
  {
   "cell_type": "code",
   "execution_count": 1,
   "id": "b3b52ccc",
   "metadata": {},
   "outputs": [],
   "source": [
    "import warnings\n",
    "from io import BytesIO\n",
    "from pathlib import Path\n",
    "from urllib.parse import urlparse\n",
    "from urllib.request import urlopen, urlretrieve\n",
    "from zipfile import ZipFile, is_zipfile\n",
    "\n",
    "import pandas as pd\n",
    "import socceraction.vaep.features as features\n",
    "import socceraction.vaep.labels as labels\n",
    "from sklearn.metrics import brier_score_loss, roc_auc_score\n",
    "from socceraction.spadl.wyscout import convert_to_spadl\n",
    "from socceraction.vaep.formula import value\n",
    "from tqdm.notebook import tqdm\n",
    "from xgboost import XGBClassifier"
   ]
  },
  {
   "cell_type": "code",
   "execution_count": 2,
   "id": "c9267eb4",
   "metadata": {},
   "outputs": [],
   "source": [
    "warnings.filterwarnings('ignore', category=pd.io.pytables.PerformanceWarning)\n"
   ]
  },
  {
   "cell_type": "code",
   "execution_count": 3,
   "id": "4da2d1bf",
   "metadata": {},
   "outputs": [],
   "source": [
    "data_files = {\n",
    "    'events': 'https://ndownloader.figshare.com/files/14464685',  # ZIP file containing one JSON file for each competition\n",
    "    'matches': 'https://ndownloader.figshare.com/files/14464622',  # ZIP file containing one JSON file for each competition\n",
    "    'players': 'https://ndownloader.figshare.com/files/15073721',  # JSON file\n",
    "    'teams': 'https://ndownloader.figshare.com/files/15073697'  # JSON file\n",
    "}"
   ]
  },
  {
   "cell_type": "code",
   "execution_count": 4,
   "id": "70ce2b61",
   "metadata": {},
   "outputs": [
    {
     "data": {
      "application/vnd.jupyter.widget-view+json": {
       "model_id": "251ad9fad69f45898500186a1e2e95e0",
       "version_major": 2,
       "version_minor": 0
      },
      "text/plain": [
       "  0%|          | 0/4 [00:00<?, ?it/s]"
      ]
     },
     "metadata": {},
     "output_type": "display_data"
    }
   ],
   "source": [
    "for url in tqdm(data_files.values()):\n",
    "    url_s3 = urlopen(url).geturl()\n",
    "    path = Path(urlparse(url_s3).path)\n",
    "    file_name = path.name\n",
    "    file_local, _ = urlretrieve(url_s3, file_name)\n",
    "    if is_zipfile(file_local):\n",
    "        with ZipFile(file_local) as zip_file:\n",
    "            zip_file.extractall()"
   ]
  },
  {
   "cell_type": "code",
   "execution_count": 5,
   "id": "064e033b",
   "metadata": {},
   "outputs": [],
   "source": [
    "def read_json_file(filename):\n",
    "    with open(filename, 'rb') as json_file:\n",
    "        return BytesIO(json_file.read()).getvalue().decode('unicode_escape')"
   ]
  },
  {
   "cell_type": "code",
   "execution_count": 6,
   "id": "25a6ac68",
   "metadata": {},
   "outputs": [],
   "source": [
    "json_teams = read_json_file('teams.json')\n",
    "df_teams = pd.read_json(json_teams)"
   ]
  },
  {
   "cell_type": "code",
   "execution_count": 26,
   "id": "3f921830",
   "metadata": {},
   "outputs": [],
   "source": [
    "df_teams.to_hdf('wyscout.h5', key='teams', mode='w')\n"
   ]
  },
  {
   "cell_type": "code",
   "execution_count": 12,
   "id": "706d7c84",
   "metadata": {},
   "outputs": [],
   "source": [
    "#df_temp = pd.read_json('./../../data/wyscout/Teams/teams.json')"
   ]
  },
  {
   "cell_type": "code",
   "execution_count": 31,
   "id": "161430f9",
   "metadata": {},
   "outputs": [],
   "source": [
    "json_players = read_json_file('players.json')\n",
    "df_players = pd.read_json(json_players)"
   ]
  },
  {
   "cell_type": "code",
   "execution_count": 32,
   "id": "c4ddfb35",
   "metadata": {},
   "outputs": [],
   "source": [
    "df_players.to_hdf('wyscout.h5', key='players', mode='a')\n",
    "#que hay que descargar otra cosa"
   ]
  },
  {
   "cell_type": "code",
   "execution_count": 35,
   "id": "37235e54",
   "metadata": {},
   "outputs": [],
   "source": [
    "competitions = [\n",
    "     'England',\n",
    "     'France',\n",
    "     'Germany',\n",
    "     'Italy',\n",
    "    'Spain',\n",
    "    'European Championship',\n",
    "    'World Cup'\n",
    "]"
   ]
  },
  {
   "cell_type": "code",
   "execution_count": 36,
   "id": "c7cf2566",
   "metadata": {},
   "outputs": [],
   "source": [
    "dfs_matches = []\n",
    "for competition in competitions:\n",
    "    competition_name = competition.replace(' ', '_')\n",
    "    file_matches = f'matches_{competition_name}.json'\n",
    "    json_matches = read_json_file(file_matches)\n",
    "    df_matches = pd.read_json(json_matches)\n",
    "    dfs_matches.append(df_matches)\n",
    "df_matches = pd.concat(dfs_matches)"
   ]
  },
  {
   "cell_type": "code",
   "execution_count": 37,
   "id": "5d7fd97d",
   "metadata": {},
   "outputs": [],
   "source": [
    "df_matches.to_hdf('wyscout.h5', key='matches', mode='a')"
   ]
  },
  {
   "cell_type": "code",
   "execution_count": 38,
   "id": "5737bdee",
   "metadata": {},
   "outputs": [],
   "source": [
    "for competition in competitions:\n",
    "    competition_name = competition.replace(' ', '_')\n",
    "    file_events = f'events_{competition_name}.json'\n",
    "    json_events = read_json_file(file_events)\n",
    "    df_events = pd.read_json(json_events)\n",
    "    df_events_matches = df_events.groupby('matchId', as_index=False)\n",
    "    for match_id, df_events_match in df_events_matches:\n",
    "        df_events_match.to_hdf('wyscout.h5', key=f'events/match_{match_id}', mode='a')"
   ]
  },
  {
   "cell_type": "code",
   "execution_count": null,
   "id": "5785662c",
   "metadata": {},
   "outputs": [],
   "source": []
  },
  {
   "cell_type": "markdown",
   "id": "60b74849",
   "metadata": {},
   "source": [
    "# Change features"
   ]
  },
  {
   "cell_type": "code",
   "execution_count": 39,
   "id": "efc237be",
   "metadata": {},
   "outputs": [
    {
     "name": "stdout",
     "output_type": "stream",
     "text": [
      "...Inserting actiontypes\n",
      "...Inserting bodyparts\n",
      "...Inserting results\n",
      "...Converting games\n",
      "...Converting players\n",
      "...Converting teams\n",
      "...Generating player_games\n"
     ]
    },
    {
     "name": "stderr",
     "output_type": "stream",
     "text": [
      "100%|████████████████████████████████████████████████████████████████████████████| 1941/1941 [02:59<00:00, 10.81game/s]\n"
     ]
    },
    {
     "name": "stdout",
     "output_type": "stream",
     "text": [
      "...Converting events to actions\n"
     ]
    },
    {
     "name": "stderr",
     "output_type": "stream",
     "text": [
      "100%|████████████████████████████████████████████████████████████████████████████| 1941/1941 [18:13<00:00,  1.77game/s]\n"
     ]
    }
   ],
   "source": [
    "convert_to_spadl('wyscout.h5', 'spadl.h5')\n"
   ]
  },
  {
   "cell_type": "code",
   "execution_count": 40,
   "id": "b0734450",
   "metadata": {},
   "outputs": [],
   "source": [
    "df_games = pd.read_hdf('spadl.h5', key='games')\n",
    "df_actiontypes = pd.read_hdf('spadl.h5', key='actiontypes')\n",
    "df_bodyparts = pd.read_hdf('spadl.h5', key='bodyparts')\n",
    "df_results = pd.read_hdf('spadl.h5', key='results')"
   ]
  },
  {
   "cell_type": "code",
   "execution_count": 41,
   "id": "49845c9a",
   "metadata": {},
   "outputs": [],
   "source": [
    "nb_prev_actions = 3\n"
   ]
  },
  {
   "cell_type": "code",
   "execution_count": 42,
   "id": "b37dd673",
   "metadata": {},
   "outputs": [],
   "source": [
    "functions_features = [\n",
    "    features.actiontype_onehot,\n",
    "    features.bodypart_onehot,\n",
    "    features.result_onehot,\n",
    "    features.goalscore,\n",
    "    features.startlocation,\n",
    "    features.endlocation,\n",
    "    features.movement,\n",
    "    features.space_delta,\n",
    "    features.startpolar,\n",
    "    features.endpolar,\n",
    "    features.team,\n",
    "    features.time_delta\n",
    "]"
   ]
  },
  {
   "cell_type": "code",
   "execution_count": 43,
   "id": "00a46fbd",
   "metadata": {},
   "outputs": [
    {
     "data": {
      "application/vnd.jupyter.widget-view+json": {
       "model_id": "591b7986ad764b03927742f9f31a7e17",
       "version_major": 2,
       "version_minor": 0
      },
      "text/plain": [
       "  0%|          | 0/1941 [00:00<?, ?it/s]"
      ]
     },
     "metadata": {},
     "output_type": "display_data"
    }
   ],
   "source": [
    "\n",
    "for _, game in tqdm(df_games.iterrows(), total=len(df_games)):\n",
    "    game_id = game['game_id']\n",
    "    df_actions = pd.read_hdf('spadl.h5', key=f'actions/game_{game_id}')\n",
    "    df_actions = (df_actions\n",
    "        .merge(df_actiontypes, how='left')\n",
    "        .merge(df_results, how='left')\n",
    "        .merge(df_bodyparts, how='left')\n",
    "        .reset_index(drop=True)\n",
    "    )\n",
    "    \n",
    "    dfs_gamestates = features.gamestates(df_actions, nb_prev_actions=nb_prev_actions)\n",
    "    dfs_gamestates = features.play_left_to_right(dfs_gamestates, game['home_team_id'])\n",
    "    \n",
    "    df_features = pd.concat([function(dfs_gamestates) for function in functions_features], axis=1)\n",
    "    df_features.to_hdf('features.h5', key=f'game_{game_id}')"
   ]
  },
  {
   "cell_type": "code",
   "execution_count": 44,
   "id": "ba501cb9",
   "metadata": {},
   "outputs": [],
   "source": [
    "functions_labels = [\n",
    "    labels.scores,\n",
    "    labels.concedes\n",
    "]"
   ]
  },
  {
   "cell_type": "code",
   "execution_count": 45,
   "id": "4a9fb95d",
   "metadata": {},
   "outputs": [
    {
     "data": {
      "application/vnd.jupyter.widget-view+json": {
       "model_id": "c4ec0c5cb08141d6b3cc095c8d0a6abb",
       "version_major": 2,
       "version_minor": 0
      },
      "text/plain": [
       "  0%|          | 0/1941 [00:00<?, ?it/s]"
      ]
     },
     "metadata": {},
     "output_type": "display_data"
    }
   ],
   "source": [
    "for _, game in tqdm(df_games.iterrows(), total=len(df_games)):\n",
    "    game_id = game['game_id']\n",
    "    df_actions = pd.read_hdf('spadl.h5', key=f'actions/game_{game_id}')\n",
    "    df_actions = (df_actions\n",
    "        .merge(df_actiontypes, how='left')\n",
    "        .merge(df_results, how='left')\n",
    "        .merge(df_bodyparts, how='left')\n",
    "        .reset_index(drop=True)\n",
    "    )\n",
    "    \n",
    "    df_labels = pd.concat([function(df_actions) for function in functions_labels], axis=1)\n",
    "    df_labels.to_hdf('labels.h5', key=f'game_{game_id}')"
   ]
  },
  {
   "cell_type": "markdown",
   "id": "0c89016a",
   "metadata": {},
   "source": [
    "## Generate dataset"
   ]
  },
  {
   "cell_type": "code",
   "execution_count": 46,
   "id": "7c93b4f8",
   "metadata": {},
   "outputs": [],
   "source": [
    "columns_features = features.feature_column_names(functions_features, nb_prev_actions=nb_prev_actions)\n"
   ]
  },
  {
   "cell_type": "code",
   "execution_count": 47,
   "id": "04b79c98",
   "metadata": {},
   "outputs": [
    {
     "data": {
      "application/vnd.jupyter.widget-view+json": {
       "model_id": "0556af97e0f148b99daf6ebecfa1abdc",
       "version_major": 2,
       "version_minor": 0
      },
      "text/plain": [
       "  0%|          | 0/1941 [00:00<?, ?it/s]"
      ]
     },
     "metadata": {},
     "output_type": "display_data"
    }
   ],
   "source": [
    "\n",
    "dfs_features = []\n",
    "for _, game in tqdm(df_games.iterrows(), total=len(df_games)):\n",
    "    game_id = game['game_id']\n",
    "    df_features = pd.read_hdf('features.h5', key=f'game_{game_id}')\n",
    "    dfs_features.append(df_features[columns_features])\n",
    "df_features = pd.concat(dfs_features).reset_index(drop=True)"
   ]
  },
  {
   "cell_type": "code",
   "execution_count": 49,
   "id": "4b1e8014",
   "metadata": {},
   "outputs": [],
   "source": [
    "columns_labels = [\n",
    "    'scores',\n",
    "    'concedes'\n",
    "]"
   ]
  },
  {
   "cell_type": "code",
   "execution_count": 50,
   "id": "b4ee0370",
   "metadata": {},
   "outputs": [
    {
     "data": {
      "application/vnd.jupyter.widget-view+json": {
       "model_id": "c76daa5194b543709df80067656134a8",
       "version_major": 2,
       "version_minor": 0
      },
      "text/plain": [
       "  0%|          | 0/1941 [00:00<?, ?it/s]"
      ]
     },
     "metadata": {},
     "output_type": "display_data"
    }
   ],
   "source": [
    "dfs_labels = []\n",
    "for _, game in tqdm(df_games.iterrows(), total=len(df_games)):\n",
    "    game_id = game['game_id']\n",
    "    df_labels = pd.read_hdf('labels.h5', key=f'game_{game_id}')\n",
    "    dfs_labels.append(df_labels[columns_labels])\n",
    "df_labels = pd.concat(dfs_labels).reset_index(drop=True)"
   ]
  },
  {
   "cell_type": "markdown",
   "id": "e8f0c2e6",
   "metadata": {},
   "source": [
    "# Train data"
   ]
  },
  {
   "cell_type": "code",
   "execution_count": 51,
   "id": "f06f7537",
   "metadata": {},
   "outputs": [
    {
     "name": "stderr",
     "output_type": "stream",
     "text": [
      "C:\\Users\\Ernie\\anaconda3\\envs\\sport_analysis\\lib\\site-packages\\xgboost\\sklearn.py:1395: UserWarning: `use_label_encoder` is deprecated in 1.7.0.\n",
      "  warnings.warn(\"`use_label_encoder` is deprecated in 1.7.0.\")\n"
     ]
    },
    {
     "name": "stdout",
     "output_type": "stream",
     "text": [
      "CPU times: total: 3h 31min 37s\n",
      "Wall time: 15min 47s\n"
     ]
    }
   ],
   "source": [
    "\n",
    "%%time\n",
    "models = {}\n",
    "for column_labels in columns_labels:\n",
    "    model = XGBClassifier(\n",
    "        eval_metric='logloss',\n",
    "        use_label_encoder=False\n",
    "    )\n",
    "    model.fit(df_features, df_labels[column_labels])\n",
    "    models[column_labels] = model"
   ]
  },
  {
   "cell_type": "code",
   "execution_count": 68,
   "id": "08255611",
   "metadata": {},
   "outputs": [],
   "source": [
    "#models['scores'].save_model(\"model_scores.json\")\n",
    "#models['concedes'].save_model(\"model_concedes.json\")"
   ]
  },
  {
   "cell_type": "code",
   "execution_count": 52,
   "id": "b377e5f1",
   "metadata": {},
   "outputs": [],
   "source": [
    "dfs_predictions = {}\n",
    "for column_labels in columns_labels:\n",
    "    model = models[column_labels]\n",
    "    probabilities = model.predict_proba(df_features)\n",
    "    predictions = probabilities[:, 1]\n",
    "    dfs_predictions[column_labels] = pd.Series(predictions)\n",
    "df_predictions = pd.concat(dfs_predictions, axis=1)"
   ]
  },
  {
   "cell_type": "code",
   "execution_count": 53,
   "id": "2b391087",
   "metadata": {},
   "outputs": [
    {
     "data": {
      "application/vnd.jupyter.widget-view+json": {
       "model_id": "8cfb99c2377b4195a6341256ad681ba4",
       "version_major": 2,
       "version_minor": 0
      },
      "text/plain": [
       "  0%|          | 0/1941 [00:00<?, ?it/s]"
      ]
     },
     "metadata": {},
     "output_type": "display_data"
    }
   ],
   "source": [
    "dfs_game_ids = []\n",
    "for _, game in tqdm(df_games.iterrows(), total=len(df_games)):\n",
    "    game_id = game['game_id']\n",
    "    df_actions = pd.read_hdf('spadl.h5', key=f'actions/game_{game_id}')\n",
    "    dfs_game_ids.append(df_actions['game_id'])\n",
    "df_game_ids = pd.concat(dfs_game_ids, axis=0).astype('int').reset_index(drop=True)"
   ]
  },
  {
   "cell_type": "code",
   "execution_count": 54,
   "id": "f4640d4f",
   "metadata": {},
   "outputs": [],
   "source": [
    "df_predictions = pd.concat([df_predictions, df_game_ids], axis=1)\n"
   ]
  },
  {
   "cell_type": "code",
   "execution_count": 55,
   "id": "246ff562",
   "metadata": {},
   "outputs": [],
   "source": [
    "df_predictions_per_game = df_predictions.groupby('game_id')\n"
   ]
  },
  {
   "cell_type": "code",
   "execution_count": 56,
   "id": "626b05e9",
   "metadata": {},
   "outputs": [
    {
     "data": {
      "application/vnd.jupyter.widget-view+json": {
       "model_id": "0c20aa54e01645abb0e3ddbfbcff61aa",
       "version_major": 2,
       "version_minor": 0
      },
      "text/plain": [
       "  0%|          | 0/1941 [00:00<?, ?it/s]"
      ]
     },
     "metadata": {},
     "output_type": "display_data"
    }
   ],
   "source": [
    "\n",
    "for game_id, df_predictions in tqdm(df_predictions_per_game):\n",
    "    df_predictions = df_predictions.reset_index(drop=True)\n",
    "    df_predictions[columns_labels].to_hdf('predictions.h5', key=f'game_{game_id}')"
   ]
  },
  {
   "cell_type": "markdown",
   "id": "d75e9dd3",
   "metadata": {},
   "source": [
    "# Value on-the-ball action"
   ]
  },
  {
   "cell_type": "code",
   "execution_count": 57,
   "id": "d42e68b4",
   "metadata": {},
   "outputs": [],
   "source": [
    "df_players = pd.read_hdf('spadl.h5', key='players')\n",
    "df_teams = pd.read_hdf('spadl.h5', key='teams')"
   ]
  },
  {
   "cell_type": "code",
   "execution_count": 58,
   "id": "44eabea7",
   "metadata": {},
   "outputs": [
    {
     "data": {
      "application/vnd.jupyter.widget-view+json": {
       "model_id": "c91556aa17634b23948fa5ed571943cc",
       "version_major": 2,
       "version_minor": 0
      },
      "text/plain": [
       "  0%|          | 0/1941 [00:00<?, ?it/s]"
      ]
     },
     "metadata": {},
     "output_type": "display_data"
    }
   ],
   "source": [
    "dfs_values = []\n",
    "for _, game in tqdm(df_games.iterrows(), total=len(df_games)):\n",
    "    game_id = game['game_id']\n",
    "    df_actions = pd.read_hdf('spadl.h5', key=f'actions/game_{game_id}')\n",
    "    df_actions = (df_actions\n",
    "        .merge(df_actiontypes, how='left')\n",
    "        .merge(df_results, how='left')\n",
    "        .merge(df_bodyparts, how='left')\n",
    "        .merge(df_players, how='left')\n",
    "        .merge(df_teams, how='left')\n",
    "        .reset_index(drop=True)\n",
    "    )\n",
    "    \n",
    "    df_predictions = pd.read_hdf('predictions.h5', key=f'game_{game_id}')\n",
    "    df_values = value(df_actions, df_predictions['scores'], df_predictions['concedes'])\n",
    "    \n",
    "    df_all = pd.concat([df_actions, df_predictions, df_values], axis=1)\n",
    "    dfs_values.append(df_all)"
   ]
  },
  {
   "cell_type": "code",
   "execution_count": 74,
   "id": "fe375f80",
   "metadata": {},
   "outputs": [],
   "source": [
    "#df_values.to_csv('xgboost_vaep.csv')"
   ]
  },
  {
   "cell_type": "code",
   "execution_count": 59,
   "id": "49591494",
   "metadata": {},
   "outputs": [],
   "source": [
    "df_values = (pd.concat(dfs_values)\n",
    "    .sort_values(['game_id', 'period_id', 'time_seconds'])\n",
    "    .reset_index(drop=True)\n",
    ")"
   ]
  },
  {
   "cell_type": "code",
   "execution_count": 61,
   "id": "10729bb3",
   "metadata": {},
   "outputs": [
    {
     "data": {
      "text/html": [
       "<div>\n",
       "<style scoped>\n",
       "    .dataframe tbody tr th:only-of-type {\n",
       "        vertical-align: middle;\n",
       "    }\n",
       "\n",
       "    .dataframe tbody tr th {\n",
       "        vertical-align: top;\n",
       "    }\n",
       "\n",
       "    .dataframe thead th {\n",
       "        text-align: right;\n",
       "    }\n",
       "</style>\n",
       "<table border=\"1\" class=\"dataframe\">\n",
       "  <thead>\n",
       "    <tr style=\"text-align: right;\">\n",
       "      <th></th>\n",
       "      <th>short_name</th>\n",
       "      <th>scores</th>\n",
       "      <th>concedes</th>\n",
       "      <th>offensive_value</th>\n",
       "      <th>defensive_value</th>\n",
       "      <th>vaep_value</th>\n",
       "    </tr>\n",
       "  </thead>\n",
       "  <tbody>\n",
       "    <tr>\n",
       "      <th>0</th>\n",
       "      <td>O. Giroud</td>\n",
       "      <td>0.003433</td>\n",
       "      <td>0.000746</td>\n",
       "      <td>0.000000</td>\n",
       "      <td>-0.000000</td>\n",
       "      <td>0.000000</td>\n",
       "    </tr>\n",
       "    <tr>\n",
       "      <th>1</th>\n",
       "      <td>A. Griezmann</td>\n",
       "      <td>0.004674</td>\n",
       "      <td>0.003075</td>\n",
       "      <td>0.001241</td>\n",
       "      <td>-0.002329</td>\n",
       "      <td>-0.001088</td>\n",
       "    </tr>\n",
       "    <tr>\n",
       "      <th>2</th>\n",
       "      <td>N. Kanté</td>\n",
       "      <td>0.004724</td>\n",
       "      <td>0.002211</td>\n",
       "      <td>0.000050</td>\n",
       "      <td>0.000864</td>\n",
       "      <td>0.000914</td>\n",
       "    </tr>\n",
       "    <tr>\n",
       "      <th>3</th>\n",
       "      <td>L. Koscielny</td>\n",
       "      <td>0.003231</td>\n",
       "      <td>0.002185</td>\n",
       "      <td>-0.001493</td>\n",
       "      <td>0.000026</td>\n",
       "      <td>-0.001468</td>\n",
       "    </tr>\n",
       "    <tr>\n",
       "      <th>4</th>\n",
       "      <td>P. Evra</td>\n",
       "      <td>0.006811</td>\n",
       "      <td>0.001348</td>\n",
       "      <td>0.006811</td>\n",
       "      <td>-0.001348</td>\n",
       "      <td>0.005463</td>\n",
       "    </tr>\n",
       "    <tr>\n",
       "      <th>...</th>\n",
       "      <td>...</td>\n",
       "      <td>...</td>\n",
       "      <td>...</td>\n",
       "      <td>...</td>\n",
       "      <td>...</td>\n",
       "      <td>...</td>\n",
       "    </tr>\n",
       "    <tr>\n",
       "      <th>2465151</th>\n",
       "      <td>Pedro Pereira</td>\n",
       "      <td>0.006680</td>\n",
       "      <td>0.003939</td>\n",
       "      <td>-0.014889</td>\n",
       "      <td>-0.000505</td>\n",
       "      <td>-0.015394</td>\n",
       "    </tr>\n",
       "    <tr>\n",
       "      <th>2465152</th>\n",
       "      <td>D. Laxalt</td>\n",
       "      <td>0.015082</td>\n",
       "      <td>0.002576</td>\n",
       "      <td>0.015082</td>\n",
       "      <td>-0.002576</td>\n",
       "      <td>0.012506</td>\n",
       "    </tr>\n",
       "    <tr>\n",
       "      <th>2465153</th>\n",
       "      <td>A. Belotti</td>\n",
       "      <td>0.003039</td>\n",
       "      <td>0.053981</td>\n",
       "      <td>0.000463</td>\n",
       "      <td>-0.038899</td>\n",
       "      <td>-0.038436</td>\n",
       "    </tr>\n",
       "    <tr>\n",
       "      <th>2465154</th>\n",
       "      <td>A. Belotti</td>\n",
       "      <td>0.003260</td>\n",
       "      <td>0.034843</td>\n",
       "      <td>0.000221</td>\n",
       "      <td>0.019138</td>\n",
       "      <td>0.019359</td>\n",
       "    </tr>\n",
       "    <tr>\n",
       "      <th>2465155</th>\n",
       "      <td>Iuri Medeiros</td>\n",
       "      <td>0.049083</td>\n",
       "      <td>0.002632</td>\n",
       "      <td>0.049083</td>\n",
       "      <td>-0.002632</td>\n",
       "      <td>0.046451</td>\n",
       "    </tr>\n",
       "  </tbody>\n",
       "</table>\n",
       "<p>2465156 rows × 6 columns</p>\n",
       "</div>"
      ],
      "text/plain": [
       "            short_name    scores  concedes  offensive_value  defensive_value  \\\n",
       "0            O. Giroud  0.003433  0.000746         0.000000        -0.000000   \n",
       "1         A. Griezmann  0.004674  0.003075         0.001241        -0.002329   \n",
       "2             N. Kanté  0.004724  0.002211         0.000050         0.000864   \n",
       "3         L. Koscielny  0.003231  0.002185        -0.001493         0.000026   \n",
       "4              P. Evra  0.006811  0.001348         0.006811        -0.001348   \n",
       "...                ...       ...       ...              ...              ...   \n",
       "2465151  Pedro Pereira  0.006680  0.003939        -0.014889        -0.000505   \n",
       "2465152      D. Laxalt  0.015082  0.002576         0.015082        -0.002576   \n",
       "2465153     A. Belotti  0.003039  0.053981         0.000463        -0.038899   \n",
       "2465154     A. Belotti  0.003260  0.034843         0.000221         0.019138   \n",
       "2465155  Iuri Medeiros  0.049083  0.002632         0.049083        -0.002632   \n",
       "\n",
       "         vaep_value  \n",
       "0          0.000000  \n",
       "1         -0.001088  \n",
       "2          0.000914  \n",
       "3         -0.001468  \n",
       "4          0.005463  \n",
       "...             ...  \n",
       "2465151   -0.015394  \n",
       "2465152    0.012506  \n",
       "2465153   -0.038436  \n",
       "2465154    0.019359  \n",
       "2465155    0.046451  \n",
       "\n",
       "[2465156 rows x 6 columns]"
      ]
     },
     "execution_count": 61,
     "metadata": {},
     "output_type": "execute_result"
    }
   ],
   "source": [
    "df_values[\n",
    "    ['short_name', 'scores', 'concedes', 'offensive_value', 'defensive_value', 'vaep_value']\n",
    "]"
   ]
  },
  {
   "cell_type": "code",
   "execution_count": 69,
   "id": "6f6d73ab",
   "metadata": {},
   "outputs": [
    {
     "data": {
      "text/plain": [
       "Index(['game_id', 'period_id', 'time_seconds', 'team_id', 'player_id',\n",
       "       'start_x', 'start_y', 'end_x', 'end_y', 'bodypart_id', 'type_id',\n",
       "       'result_id', 'type_name', 'result_name', 'bodypart_name', 'short_name',\n",
       "       'first_name', 'last_name', 'birth_date', 'short_team_name', 'team_name',\n",
       "       'scores', 'concedes', 'offensive_value', 'defensive_value',\n",
       "       'vaep_value'],\n",
       "      dtype='object')"
      ]
     },
     "execution_count": 69,
     "metadata": {},
     "output_type": "execute_result"
    }
   ],
   "source": [
    "df_values.columns #sort_values(by='vaep_value')"
   ]
  },
  {
   "cell_type": "markdown",
   "id": "d95b0b36",
   "metadata": {},
   "source": [
    "# Ratings"
   ]
  },
  {
   "cell_type": "code",
   "execution_count": 75,
   "id": "b13b07ef",
   "metadata": {},
   "outputs": [],
   "source": [
    "df_ranking = (df_values[['player_id', 'team_name', 'short_name', 'vaep_value']]\n",
    "    .groupby(['player_id', 'team_name', 'short_name'])\n",
    "    .agg(vaep_count=('vaep_value', 'count'), vaep_sum=('vaep_value', 'sum'))\n",
    "    .sort_values('vaep_sum', ascending=False)\n",
    "    .reset_index()\n",
    ")"
   ]
  },
  {
   "cell_type": "code",
   "execution_count": 77,
   "id": "1ed59f0b",
   "metadata": {},
   "outputs": [
    {
     "data": {
      "text/html": [
       "<div>\n",
       "<style scoped>\n",
       "    .dataframe tbody tr th:only-of-type {\n",
       "        vertical-align: middle;\n",
       "    }\n",
       "\n",
       "    .dataframe tbody tr th {\n",
       "        vertical-align: top;\n",
       "    }\n",
       "\n",
       "    .dataframe thead th {\n",
       "        text-align: right;\n",
       "    }\n",
       "</style>\n",
       "<table border=\"1\" class=\"dataframe\">\n",
       "  <thead>\n",
       "    <tr style=\"text-align: right;\">\n",
       "      <th></th>\n",
       "      <th>player_id</th>\n",
       "      <th>team_name</th>\n",
       "      <th>short_name</th>\n",
       "      <th>vaep_count</th>\n",
       "      <th>vaep_sum</th>\n",
       "    </tr>\n",
       "  </thead>\n",
       "  <tbody>\n",
       "    <tr>\n",
       "      <th>0</th>\n",
       "      <td>3359.0</td>\n",
       "      <td>FC Barcelona</td>\n",
       "      <td>L. Messi</td>\n",
       "      <td>2753</td>\n",
       "      <td>36.898487</td>\n",
       "    </tr>\n",
       "    <tr>\n",
       "      <th>1</th>\n",
       "      <td>120353.0</td>\n",
       "      <td>Liverpool FC</td>\n",
       "      <td>Mohamed Salah</td>\n",
       "      <td>1568</td>\n",
       "      <td>25.638689</td>\n",
       "    </tr>\n",
       "    <tr>\n",
       "      <th>2</th>\n",
       "      <td>40810.0</td>\n",
       "      <td>Paris Saint-Germain FC</td>\n",
       "      <td>Neymar</td>\n",
       "      <td>1981</td>\n",
       "      <td>20.012957</td>\n",
       "    </tr>\n",
       "    <tr>\n",
       "      <th>3</th>\n",
       "      <td>3682.0</td>\n",
       "      <td>Club Atlético de Madrid</td>\n",
       "      <td>A. Griezmann</td>\n",
       "      <td>1394</td>\n",
       "      <td>18.764013</td>\n",
       "    </tr>\n",
       "    <tr>\n",
       "      <th>4</th>\n",
       "      <td>38021.0</td>\n",
       "      <td>Manchester City FC</td>\n",
       "      <td>K. De Bruyne</td>\n",
       "      <td>3528</td>\n",
       "      <td>18.684515</td>\n",
       "    </tr>\n",
       "    <tr>\n",
       "      <th>5</th>\n",
       "      <td>3840.0</td>\n",
       "      <td>Real Club Celta de Vigo</td>\n",
       "      <td>Iago Aspas</td>\n",
       "      <td>1771</td>\n",
       "      <td>18.659481</td>\n",
       "    </tr>\n",
       "    <tr>\n",
       "      <th>6</th>\n",
       "      <td>26150.0</td>\n",
       "      <td>Leicester City FC</td>\n",
       "      <td>R. Mahrez</td>\n",
       "      <td>2022</td>\n",
       "      <td>18.633902</td>\n",
       "    </tr>\n",
       "    <tr>\n",
       "      <th>7</th>\n",
       "      <td>8717.0</td>\n",
       "      <td>Tottenham Hotspur FC</td>\n",
       "      <td>H. Kane</td>\n",
       "      <td>1153</td>\n",
       "      <td>18.459000</td>\n",
       "    </tr>\n",
       "    <tr>\n",
       "      <th>8</th>\n",
       "      <td>25770.0</td>\n",
       "      <td>Olympique de Marseille</td>\n",
       "      <td>F. Thauvin</td>\n",
       "      <td>2511</td>\n",
       "      <td>18.438290</td>\n",
       "    </tr>\n",
       "    <tr>\n",
       "      <th>9</th>\n",
       "      <td>89186.0</td>\n",
       "      <td>Juventus FC</td>\n",
       "      <td>P. Dybala</td>\n",
       "      <td>1782</td>\n",
       "      <td>17.917562</td>\n",
       "    </tr>\n",
       "    <tr>\n",
       "      <th>10</th>\n",
       "      <td>28115.0</td>\n",
       "      <td>Olympique Lyonnais</td>\n",
       "      <td>N. Fekir</td>\n",
       "      <td>1754</td>\n",
       "      <td>17.818094</td>\n",
       "    </tr>\n",
       "    <tr>\n",
       "      <th>11</th>\n",
       "      <td>118.0</td>\n",
       "      <td>Olympique Lyonnais</td>\n",
       "      <td>M. Depay</td>\n",
       "      <td>1837</td>\n",
       "      <td>17.532991</td>\n",
       "    </tr>\n",
       "    <tr>\n",
       "      <th>12</th>\n",
       "      <td>135913.0</td>\n",
       "      <td>AS Monaco FC</td>\n",
       "      <td>Rony Lopes</td>\n",
       "      <td>1304</td>\n",
       "      <td>17.417822</td>\n",
       "    </tr>\n",
       "    <tr>\n",
       "      <th>13</th>\n",
       "      <td>54.0</td>\n",
       "      <td>Tottenham Hotspur FC</td>\n",
       "      <td>C. Eriksen</td>\n",
       "      <td>2959</td>\n",
       "      <td>17.100391</td>\n",
       "    </tr>\n",
       "    <tr>\n",
       "      <th>14</th>\n",
       "      <td>21384.0</td>\n",
       "      <td>SS Lazio</td>\n",
       "      <td>C. Immobile</td>\n",
       "      <td>1196</td>\n",
       "      <td>16.657375</td>\n",
       "    </tr>\n",
       "    <tr>\n",
       "      <th>15</th>\n",
       "      <td>300485.0</td>\n",
       "      <td>FC Girondins de Bordeaux</td>\n",
       "      <td>Malcom</td>\n",
       "      <td>2137</td>\n",
       "      <td>16.385042</td>\n",
       "    </tr>\n",
       "    <tr>\n",
       "      <th>16</th>\n",
       "      <td>3676.0</td>\n",
       "      <td>Real Sociedad de Fútbol</td>\n",
       "      <td>Illarramendi</td>\n",
       "      <td>3172</td>\n",
       "      <td>15.983322</td>\n",
       "    </tr>\n",
       "    <tr>\n",
       "      <th>17</th>\n",
       "      <td>25707.0</td>\n",
       "      <td>Chelsea FC</td>\n",
       "      <td>E. Hazard</td>\n",
       "      <td>1974</td>\n",
       "      <td>15.750160</td>\n",
       "    </tr>\n",
       "    <tr>\n",
       "      <th>18</th>\n",
       "      <td>14723.0</td>\n",
       "      <td>Real Madrid Club de Fútbol</td>\n",
       "      <td>T. Kroos</td>\n",
       "      <td>2496</td>\n",
       "      <td>15.061502</td>\n",
       "    </tr>\n",
       "    <tr>\n",
       "      <th>19</th>\n",
       "      <td>3484.0</td>\n",
       "      <td>SS Lazio</td>\n",
       "      <td>Luis Alberto</td>\n",
       "      <td>2292</td>\n",
       "      <td>14.792442</td>\n",
       "    </tr>\n",
       "  </tbody>\n",
       "</table>\n",
       "</div>"
      ],
      "text/plain": [
       "    player_id                   team_name     short_name  vaep_count  \\\n",
       "0      3359.0                FC Barcelona       L. Messi        2753   \n",
       "1    120353.0                Liverpool FC  Mohamed Salah        1568   \n",
       "2     40810.0      Paris Saint-Germain FC         Neymar        1981   \n",
       "3      3682.0     Club Atlético de Madrid   A. Griezmann        1394   \n",
       "4     38021.0          Manchester City FC   K. De Bruyne        3528   \n",
       "5      3840.0     Real Club Celta de Vigo     Iago Aspas        1771   \n",
       "6     26150.0           Leicester City FC      R. Mahrez        2022   \n",
       "7      8717.0        Tottenham Hotspur FC        H. Kane        1153   \n",
       "8     25770.0      Olympique de Marseille     F. Thauvin        2511   \n",
       "9     89186.0                 Juventus FC      P. Dybala        1782   \n",
       "10    28115.0          Olympique Lyonnais       N. Fekir        1754   \n",
       "11      118.0          Olympique Lyonnais       M. Depay        1837   \n",
       "12   135913.0                AS Monaco FC     Rony Lopes        1304   \n",
       "13       54.0        Tottenham Hotspur FC     C. Eriksen        2959   \n",
       "14    21384.0                    SS Lazio    C. Immobile        1196   \n",
       "15   300485.0    FC Girondins de Bordeaux         Malcom        2137   \n",
       "16     3676.0     Real Sociedad de Fútbol   Illarramendi        3172   \n",
       "17    25707.0                  Chelsea FC      E. Hazard        1974   \n",
       "18    14723.0  Real Madrid Club de Fútbol       T. Kroos        2496   \n",
       "19     3484.0                    SS Lazio   Luis Alberto        2292   \n",
       "\n",
       "     vaep_sum  \n",
       "0   36.898487  \n",
       "1   25.638689  \n",
       "2   20.012957  \n",
       "3   18.764013  \n",
       "4   18.684515  \n",
       "5   18.659481  \n",
       "6   18.633902  \n",
       "7   18.459000  \n",
       "8   18.438290  \n",
       "9   17.917562  \n",
       "10  17.818094  \n",
       "11  17.532991  \n",
       "12  17.417822  \n",
       "13  17.100391  \n",
       "14  16.657375  \n",
       "15  16.385042  \n",
       "16  15.983322  \n",
       "17  15.750160  \n",
       "18  15.061502  \n",
       "19  14.792442  "
      ]
     },
     "execution_count": 77,
     "metadata": {},
     "output_type": "execute_result"
    }
   ],
   "source": [
    "df_ranking.head(20)"
   ]
  },
  {
   "cell_type": "code",
   "execution_count": 78,
   "id": "9a00912d",
   "metadata": {},
   "outputs": [],
   "source": [
    "df_player_games = pd.read_hdf('spadl.h5', 'player_games')\n",
    "df_player_games = df_player_games[df_player_games['game_id'].isin(df_games['game_id'])]"
   ]
  },
  {
   "cell_type": "code",
   "execution_count": 79,
   "id": "8896af09",
   "metadata": {},
   "outputs": [],
   "source": [
    "df_minutes_played = (df_player_games[['player_id', 'minutes_played']]\n",
    "    .groupby('player_id')\n",
    "    .sum()\n",
    "    .reset_index()\n",
    ")"
   ]
  },
  {
   "cell_type": "code",
   "execution_count": 80,
   "id": "29eb254c",
   "metadata": {},
   "outputs": [],
   "source": [
    "df_ranking_p90 = df_ranking.merge(df_minutes_played)\n",
    "df_ranking_p90 = df_ranking_p90[df_ranking_p90['minutes_played'] > 360]\n",
    "df_ranking_p90['vaep_rating'] = df_ranking_p90['vaep_sum'] * 90 / df_ranking_p90['minutes_played']\n",
    "df_ranking_p90 = df_ranking_p90.sort_values('vaep_rating', ascending=False)"
   ]
  },
  {
   "cell_type": "code",
   "execution_count": 82,
   "id": "62c46eb8",
   "metadata": {},
   "outputs": [
    {
     "data": {
      "text/html": [
       "<div>\n",
       "<style scoped>\n",
       "    .dataframe tbody tr th:only-of-type {\n",
       "        vertical-align: middle;\n",
       "    }\n",
       "\n",
       "    .dataframe tbody tr th {\n",
       "        vertical-align: top;\n",
       "    }\n",
       "\n",
       "    .dataframe thead th {\n",
       "        text-align: right;\n",
       "    }\n",
       "</style>\n",
       "<table border=\"1\" class=\"dataframe\">\n",
       "  <thead>\n",
       "    <tr style=\"text-align: right;\">\n",
       "      <th></th>\n",
       "      <th>player_id</th>\n",
       "      <th>team_name</th>\n",
       "      <th>short_name</th>\n",
       "      <th>vaep_count</th>\n",
       "      <th>vaep_sum</th>\n",
       "      <th>minutes_played</th>\n",
       "      <th>vaep_rating</th>\n",
       "    </tr>\n",
       "  </thead>\n",
       "  <tbody>\n",
       "    <tr>\n",
       "      <th>0</th>\n",
       "      <td>3359.0</td>\n",
       "      <td>FC Barcelona</td>\n",
       "      <td>L. Messi</td>\n",
       "      <td>2753</td>\n",
       "      <td>36.898487</td>\n",
       "      <td>3486.545778</td>\n",
       "      <td>0.952480</td>\n",
       "    </tr>\n",
       "    <tr>\n",
       "      <th>4</th>\n",
       "      <td>40810.0</td>\n",
       "      <td>Paris Saint-Germain FC</td>\n",
       "      <td>Neymar</td>\n",
       "      <td>1981</td>\n",
       "      <td>20.012957</td>\n",
       "      <td>2334.354641</td>\n",
       "      <td>0.771591</td>\n",
       "    </tr>\n",
       "    <tr>\n",
       "      <th>2</th>\n",
       "      <td>120353.0</td>\n",
       "      <td>Liverpool FC</td>\n",
       "      <td>Mohamed Salah</td>\n",
       "      <td>1568</td>\n",
       "      <td>25.638689</td>\n",
       "      <td>3186.109293</td>\n",
       "      <td>0.724232</td>\n",
       "    </tr>\n",
       "    <tr>\n",
       "      <th>17</th>\n",
       "      <td>89186.0</td>\n",
       "      <td>Juventus FC</td>\n",
       "      <td>P. Dybala</td>\n",
       "      <td>1782</td>\n",
       "      <td>17.917562</td>\n",
       "      <td>2477.563907</td>\n",
       "      <td>0.650873</td>\n",
       "    </tr>\n",
       "    <tr>\n",
       "      <th>606</th>\n",
       "      <td>406682.0</td>\n",
       "      <td>Rasen Ballsport Leipzig</td>\n",
       "      <td>A. Lookman</td>\n",
       "      <td>345</td>\n",
       "      <td>5.374696</td>\n",
       "      <td>771.082910</td>\n",
       "      <td>0.627329</td>\n",
       "    </tr>\n",
       "    <tr>\n",
       "      <th>123</th>\n",
       "      <td>134397.0</td>\n",
       "      <td>TSG 1899 Hoffenheim</td>\n",
       "      <td>S. Gnabry</td>\n",
       "      <td>836</td>\n",
       "      <td>10.304981</td>\n",
       "      <td>1534.906306</td>\n",
       "      <td>0.604238</td>\n",
       "    </tr>\n",
       "    <tr>\n",
       "      <th>1352</th>\n",
       "      <td>326523.0</td>\n",
       "      <td>Real Madrid Club de Fútbol</td>\n",
       "      <td>Dani Ceballos</td>\n",
       "      <td>446</td>\n",
       "      <td>2.823848</td>\n",
       "      <td>420.702252</td>\n",
       "      <td>0.604100</td>\n",
       "    </tr>\n",
       "    <tr>\n",
       "      <th>22</th>\n",
       "      <td>135913.0</td>\n",
       "      <td>AS Monaco FC</td>\n",
       "      <td>Rony Lopes</td>\n",
       "      <td>1304</td>\n",
       "      <td>17.417822</td>\n",
       "      <td>2596.649231</td>\n",
       "      <td>0.603703</td>\n",
       "    </tr>\n",
       "    <tr>\n",
       "      <th>19</th>\n",
       "      <td>28115.0</td>\n",
       "      <td>Olympique Lyonnais</td>\n",
       "      <td>N. Fekir</td>\n",
       "      <td>1754</td>\n",
       "      <td>17.818094</td>\n",
       "      <td>2671.557291</td>\n",
       "      <td>0.600260</td>\n",
       "    </tr>\n",
       "    <tr>\n",
       "      <th>21</th>\n",
       "      <td>118.0</td>\n",
       "      <td>Olympique Lyonnais</td>\n",
       "      <td>M. Depay</td>\n",
       "      <td>1837</td>\n",
       "      <td>17.532991</td>\n",
       "      <td>2634.701474</td>\n",
       "      <td>0.598918</td>\n",
       "    </tr>\n",
       "    <tr>\n",
       "      <th>647</th>\n",
       "      <td>20948.0</td>\n",
       "      <td>AS Monaco FC</td>\n",
       "      <td>S. Jovetić</td>\n",
       "      <td>378</td>\n",
       "      <td>5.189653</td>\n",
       "      <td>784.870118</td>\n",
       "      <td>0.595091</td>\n",
       "    </tr>\n",
       "    <tr>\n",
       "      <th>112</th>\n",
       "      <td>280383.0</td>\n",
       "      <td>Levante UD</td>\n",
       "      <td>E. Bardhi</td>\n",
       "      <td>975</td>\n",
       "      <td>10.546381</td>\n",
       "      <td>1638.749361</td>\n",
       "      <td>0.579207</td>\n",
       "    </tr>\n",
       "    <tr>\n",
       "      <th>794</th>\n",
       "      <td>25601.0</td>\n",
       "      <td>Benevento Calcio</td>\n",
       "      <td>C. Diabaté</td>\n",
       "      <td>177</td>\n",
       "      <td>4.588207</td>\n",
       "      <td>713.032583</td>\n",
       "      <td>0.579130</td>\n",
       "    </tr>\n",
       "    <tr>\n",
       "      <th>12</th>\n",
       "      <td>26150.0</td>\n",
       "      <td>Leicester City FC</td>\n",
       "      <td>R. Mahrez</td>\n",
       "      <td>2022</td>\n",
       "      <td>18.633902</td>\n",
       "      <td>3063.065477</td>\n",
       "      <td>0.547507</td>\n",
       "    </tr>\n",
       "    <tr>\n",
       "      <th>15</th>\n",
       "      <td>25770.0</td>\n",
       "      <td>Olympique de Marseille</td>\n",
       "      <td>F. Thauvin</td>\n",
       "      <td>2511</td>\n",
       "      <td>18.438290</td>\n",
       "      <td>3036.451092</td>\n",
       "      <td>0.546508</td>\n",
       "    </tr>\n",
       "    <tr>\n",
       "      <th>10</th>\n",
       "      <td>3840.0</td>\n",
       "      <td>Real Club Celta de Vigo</td>\n",
       "      <td>Iago Aspas</td>\n",
       "      <td>1771</td>\n",
       "      <td>18.659481</td>\n",
       "      <td>3093.392216</td>\n",
       "      <td>0.542884</td>\n",
       "    </tr>\n",
       "    <tr>\n",
       "      <th>43</th>\n",
       "      <td>388267.0</td>\n",
       "      <td>TSV Bayer 04 Leverkusen</td>\n",
       "      <td>L. Bailey</td>\n",
       "      <td>1537</td>\n",
       "      <td>13.700800</td>\n",
       "      <td>2285.261963</td>\n",
       "      <td>0.539576</td>\n",
       "    </tr>\n",
       "    <tr>\n",
       "      <th>625</th>\n",
       "      <td>225946.0</td>\n",
       "      <td>Real Betis Balompié</td>\n",
       "      <td>A. Sanabria</td>\n",
       "      <td>239</td>\n",
       "      <td>5.278009</td>\n",
       "      <td>901.735926</td>\n",
       "      <td>0.526785</td>\n",
       "    </tr>\n",
       "    <tr>\n",
       "      <th>333</th>\n",
       "      <td>40806.0</td>\n",
       "      <td>SS Lazio</td>\n",
       "      <td>Felipe Anderson</td>\n",
       "      <td>1022</td>\n",
       "      <td>7.124315</td>\n",
       "      <td>1221.511377</td>\n",
       "      <td>0.524914</td>\n",
       "    </tr>\n",
       "    <tr>\n",
       "      <th>615</th>\n",
       "      <td>28123.0</td>\n",
       "      <td>Olympique de Marseille</td>\n",
       "      <td>C. N'Jie</td>\n",
       "      <td>336</td>\n",
       "      <td>5.318145</td>\n",
       "      <td>916.951415</td>\n",
       "      <td>0.521983</td>\n",
       "    </tr>\n",
       "    <tr>\n",
       "      <th>25</th>\n",
       "      <td>21384.0</td>\n",
       "      <td>SS Lazio</td>\n",
       "      <td>C. Immobile</td>\n",
       "      <td>1196</td>\n",
       "      <td>16.657375</td>\n",
       "      <td>2907.047792</td>\n",
       "      <td>0.515700</td>\n",
       "    </tr>\n",
       "    <tr>\n",
       "      <th>27</th>\n",
       "      <td>300485.0</td>\n",
       "      <td>FC Girondins de Bordeaux</td>\n",
       "      <td>Malcom</td>\n",
       "      <td>2137</td>\n",
       "      <td>16.385042</td>\n",
       "      <td>2933.131132</td>\n",
       "      <td>0.502758</td>\n",
       "    </tr>\n",
       "    <tr>\n",
       "      <th>463</th>\n",
       "      <td>364820.0</td>\n",
       "      <td>Real Betis Balompié</td>\n",
       "      <td>Loren Morón</td>\n",
       "      <td>359</td>\n",
       "      <td>6.104556</td>\n",
       "      <td>1092.796604</td>\n",
       "      <td>0.502756</td>\n",
       "    </tr>\n",
       "    <tr>\n",
       "      <th>36</th>\n",
       "      <td>20443.0</td>\n",
       "      <td>Juventus FC</td>\n",
       "      <td>M. Pjanić</td>\n",
       "      <td>2599</td>\n",
       "      <td>14.217978</td>\n",
       "      <td>2571.755837</td>\n",
       "      <td>0.497566</td>\n",
       "    </tr>\n",
       "    <tr>\n",
       "      <th>686</th>\n",
       "      <td>93331.0</td>\n",
       "      <td>Olympique de Marseille</td>\n",
       "      <td>K. Mitroglou</td>\n",
       "      <td>195</td>\n",
       "      <td>5.045926</td>\n",
       "      <td>914.853806</td>\n",
       "      <td>0.496400</td>\n",
       "    </tr>\n",
       "    <tr>\n",
       "      <th>136</th>\n",
       "      <td>70096.0</td>\n",
       "      <td>FC Bayern München</td>\n",
       "      <td>J. Rodríguez</td>\n",
       "      <td>1851</td>\n",
       "      <td>9.996291</td>\n",
       "      <td>1820.976695</td>\n",
       "      <td>0.494057</td>\n",
       "    </tr>\n",
       "    <tr>\n",
       "      <th>369</th>\n",
       "      <td>19392.0</td>\n",
       "      <td>BV Borussia 09 Dortmund</td>\n",
       "      <td>M. Philipp</td>\n",
       "      <td>447</td>\n",
       "      <td>6.781426</td>\n",
       "      <td>1237.502393</td>\n",
       "      <td>0.493194</td>\n",
       "    </tr>\n",
       "    <tr>\n",
       "      <th>90</th>\n",
       "      <td>20820.0</td>\n",
       "      <td>Atalanta Bergamasca Calcio</td>\n",
       "      <td>J. Iličić</td>\n",
       "      <td>1697</td>\n",
       "      <td>11.218834</td>\n",
       "      <td>2077.921426</td>\n",
       "      <td>0.485916</td>\n",
       "    </tr>\n",
       "    <tr>\n",
       "      <th>1154</th>\n",
       "      <td>50023.0</td>\n",
       "      <td>Borussia VfL Mönchengladbach</td>\n",
       "      <td>J. Drmic</td>\n",
       "      <td>172</td>\n",
       "      <td>3.314948</td>\n",
       "      <td>614.177795</td>\n",
       "      <td>0.485764</td>\n",
       "    </tr>\n",
       "    <tr>\n",
       "      <th>33</th>\n",
       "      <td>3484.0</td>\n",
       "      <td>SS Lazio</td>\n",
       "      <td>Luis Alberto</td>\n",
       "      <td>2292</td>\n",
       "      <td>14.792442</td>\n",
       "      <td>2761.026859</td>\n",
       "      <td>0.482183</td>\n",
       "    </tr>\n",
       "  </tbody>\n",
       "</table>\n",
       "</div>"
      ],
      "text/plain": [
       "      player_id                     team_name       short_name  vaep_count  \\\n",
       "0        3359.0                  FC Barcelona         L. Messi        2753   \n",
       "4       40810.0        Paris Saint-Germain FC           Neymar        1981   \n",
       "2      120353.0                  Liverpool FC    Mohamed Salah        1568   \n",
       "17      89186.0                   Juventus FC        P. Dybala        1782   \n",
       "606    406682.0       Rasen Ballsport Leipzig       A. Lookman         345   \n",
       "123    134397.0           TSG 1899 Hoffenheim        S. Gnabry         836   \n",
       "1352   326523.0    Real Madrid Club de Fútbol    Dani Ceballos         446   \n",
       "22     135913.0                  AS Monaco FC       Rony Lopes        1304   \n",
       "19      28115.0            Olympique Lyonnais         N. Fekir        1754   \n",
       "21        118.0            Olympique Lyonnais         M. Depay        1837   \n",
       "647     20948.0                  AS Monaco FC       S. Jovetić         378   \n",
       "112    280383.0                    Levante UD        E. Bardhi         975   \n",
       "794     25601.0              Benevento Calcio       C. Diabaté         177   \n",
       "12      26150.0             Leicester City FC        R. Mahrez        2022   \n",
       "15      25770.0        Olympique de Marseille       F. Thauvin        2511   \n",
       "10       3840.0       Real Club Celta de Vigo       Iago Aspas        1771   \n",
       "43     388267.0       TSV Bayer 04 Leverkusen        L. Bailey        1537   \n",
       "625    225946.0           Real Betis Balompié      A. Sanabria         239   \n",
       "333     40806.0                      SS Lazio  Felipe Anderson        1022   \n",
       "615     28123.0        Olympique de Marseille         C. N'Jie         336   \n",
       "25      21384.0                      SS Lazio      C. Immobile        1196   \n",
       "27     300485.0      FC Girondins de Bordeaux           Malcom        2137   \n",
       "463    364820.0           Real Betis Balompié      Loren Morón         359   \n",
       "36      20443.0                   Juventus FC        M. Pjanić        2599   \n",
       "686     93331.0        Olympique de Marseille     K. Mitroglou         195   \n",
       "136     70096.0             FC Bayern München     J. Rodríguez        1851   \n",
       "369     19392.0       BV Borussia 09 Dortmund       M. Philipp         447   \n",
       "90      20820.0    Atalanta Bergamasca Calcio        J. Iličić        1697   \n",
       "1154    50023.0  Borussia VfL Mönchengladbach         J. Drmic         172   \n",
       "33       3484.0                      SS Lazio     Luis Alberto        2292   \n",
       "\n",
       "       vaep_sum  minutes_played  vaep_rating  \n",
       "0     36.898487     3486.545778     0.952480  \n",
       "4     20.012957     2334.354641     0.771591  \n",
       "2     25.638689     3186.109293     0.724232  \n",
       "17    17.917562     2477.563907     0.650873  \n",
       "606    5.374696      771.082910     0.627329  \n",
       "123   10.304981     1534.906306     0.604238  \n",
       "1352   2.823848      420.702252     0.604100  \n",
       "22    17.417822     2596.649231     0.603703  \n",
       "19    17.818094     2671.557291     0.600260  \n",
       "21    17.532991     2634.701474     0.598918  \n",
       "647    5.189653      784.870118     0.595091  \n",
       "112   10.546381     1638.749361     0.579207  \n",
       "794    4.588207      713.032583     0.579130  \n",
       "12    18.633902     3063.065477     0.547507  \n",
       "15    18.438290     3036.451092     0.546508  \n",
       "10    18.659481     3093.392216     0.542884  \n",
       "43    13.700800     2285.261963     0.539576  \n",
       "625    5.278009      901.735926     0.526785  \n",
       "333    7.124315     1221.511377     0.524914  \n",
       "615    5.318145      916.951415     0.521983  \n",
       "25    16.657375     2907.047792     0.515700  \n",
       "27    16.385042     2933.131132     0.502758  \n",
       "463    6.104556     1092.796604     0.502756  \n",
       "36    14.217978     2571.755837     0.497566  \n",
       "686    5.045926      914.853806     0.496400  \n",
       "136    9.996291     1820.976695     0.494057  \n",
       "369    6.781426     1237.502393     0.493194  \n",
       "90    11.218834     2077.921426     0.485916  \n",
       "1154   3.314948      614.177795     0.485764  \n",
       "33    14.792442     2761.026859     0.482183  "
      ]
     },
     "execution_count": 82,
     "metadata": {},
     "output_type": "execute_result"
    }
   ],
   "source": [
    "df_ranking_p90.head(30)\n"
   ]
  },
  {
   "cell_type": "code",
   "execution_count": null,
   "id": "a84354a8",
   "metadata": {},
   "outputs": [],
   "source": []
  }
 ],
 "metadata": {
  "kernelspec": {
   "display_name": "Python 3 (ipykernel)",
   "language": "python",
   "name": "python3"
  },
  "language_info": {
   "codemirror_mode": {
    "name": "ipython",
    "version": 3
   },
   "file_extension": ".py",
   "mimetype": "text/x-python",
   "name": "python",
   "nbconvert_exporter": "python",
   "pygments_lexer": "ipython3",
   "version": "3.9.12"
  }
 },
 "nbformat": 4,
 "nbformat_minor": 5
}
