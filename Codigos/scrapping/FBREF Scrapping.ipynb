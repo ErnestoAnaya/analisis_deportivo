{
 "cells": [
  {
   "cell_type": "code",
   "execution_count": 1,
   "id": "0aa833ed",
   "metadata": {},
   "outputs": [],
   "source": [
    "import requests\n",
    "from bs4 import BeautifulSoup\n",
    "import pandas as pd\n",
    "import time"
   ]
  },
  {
   "cell_type": "code",
   "execution_count": 2,
   "id": "2232b98f",
   "metadata": {},
   "outputs": [],
   "source": [
    "links_competitions = ['https://fbref.com/en/comps/12/2017-2018/2017-2018-La-Liga-Stats','https://fbref.com/en/comps/9/2017-2018/2017-2018-Premier-League-Stats', \n",
    "                      'https://fbref.com/en/comps/11/2017-2018/2017-2018-Serie-A-Stats','https://fbref.com/en/comps/13/2017-2018/2017-2018-Ligue-1-Stats',\n",
    "                      'https://fbref.com/en/comps/20/2017-2018/2017-2018-Bundesliga-Stats']"
   ]
  },
  {
   "cell_type": "code",
   "execution_count": 3,
   "id": "c58b1e5b",
   "metadata": {},
   "outputs": [],
   "source": [
    "r = requests.get(links_competitions[4])"
   ]
  },
  {
   "cell_type": "code",
   "execution_count": 4,
   "id": "b7c68103",
   "metadata": {},
   "outputs": [],
   "source": [
    "soup = BeautifulSoup(r.text)\n",
    "links = []"
   ]
  },
  {
   "cell_type": "code",
   "execution_count": 5,
   "id": "3220ae6d",
   "metadata": {},
   "outputs": [],
   "source": [
    "soup = soup.tbody"
   ]
  },
  {
   "cell_type": "code",
   "execution_count": 6,
   "id": "d9d62390",
   "metadata": {},
   "outputs": [],
   "source": [
    "for a in soup.find_all('a', href=True):\n",
    "    links.append(a['href'])\n",
    "links_equipos = []"
   ]
  },
  {
   "cell_type": "code",
   "execution_count": 7,
   "id": "108226a3",
   "metadata": {},
   "outputs": [],
   "source": [
    "for link in links:\n",
    "    if (link.find('Stats') != -1) and (link.find('squads') != -1):\n",
    "        links_equipos.append(link)"
   ]
  },
  {
   "cell_type": "code",
   "execution_count": 8,
   "id": "0a9f2db8",
   "metadata": {},
   "outputs": [],
   "source": [
    "links_equipos = list(set(links_equipos))"
   ]
  },
  {
   "cell_type": "code",
   "execution_count": 9,
   "id": "cddf48ff",
   "metadata": {},
   "outputs": [
    {
     "data": {
      "text/plain": [
       "['/en/squads/32f3ee20/2017-2018/Monchengladbach-Stats',\n",
       " '/en/squads/033ea6b8/2017-2018/Hoffenheim-Stats',\n",
       " '/en/squads/add600ae/2017-2018/Dortmund-Stats',\n",
       " '/en/squads/c7a9f859/2017-2018/Bayer-Leverkusen-Stats',\n",
       " '/en/squads/4eaa11d7/2017-2018/Wolfsburg-Stats',\n",
       " '/en/squads/598bc722/2017-2018/Stuttgart-Stats',\n",
       " '/en/squads/26790c6a/2017-2018/Hamburger-SV-Stats',\n",
       " '/en/squads/054efa67/2017-2018/Bayern-Munich-Stats',\n",
       " '/en/squads/acbb6a5b/2017-2018/RB-Leipzig-Stats',\n",
       " '/en/squads/0cdc4311/2017-2018/Augsburg-Stats',\n",
       " '/en/squads/62add3bf/2017-2018/Werder-Bremen-Stats',\n",
       " '/en/squads/60b5e41f/2017-2018/Hannover-96-Stats',\n",
       " '/en/squads/a224b06a/2017-2018/Mainz-05-Stats',\n",
       " '/en/squads/bc357bf7/2017-2018/Koln-Stats',\n",
       " '/en/squads/c539e393/2017-2018/Schalke-04-Stats',\n",
       " '/en/squads/f0ac8ee6/2017-2018/Eintracht-Frankfurt-Stats',\n",
       " '/en/squads/a486e511/2017-2018/Freiburg-Stats',\n",
       " '/en/squads/2818f8bc/2017-2018/Hertha-BSC-Stats']"
      ]
     },
     "execution_count": 9,
     "metadata": {},
     "output_type": "execute_result"
    }
   ],
   "source": [
    "links_equipos"
   ]
  },
  {
   "cell_type": "code",
   "execution_count": 10,
   "id": "cef3f95b",
   "metadata": {},
   "outputs": [],
   "source": [
    "r_team = requests.get('https://fbref.com/'+links_equipos[7])"
   ]
  },
  {
   "cell_type": "code",
   "execution_count": 11,
   "id": "67204ff7",
   "metadata": {},
   "outputs": [],
   "source": [
    "soup_team = BeautifulSoup(r_team.text)"
   ]
  },
  {
   "cell_type": "code",
   "execution_count": 12,
   "id": "7e46e34f",
   "metadata": {},
   "outputs": [],
   "source": [
    "features = []\n",
    "soup_team = soup_team.tbody"
   ]
  },
  {
   "cell_type": "code",
   "execution_count": 13,
   "id": "02ce25c9",
   "metadata": {},
   "outputs": [
    {
     "data": {
      "text/plain": [
       "<bound method Tag.prettify of <tbody> <tr><th class=\"left\" csk=\"Ulreich Sven\" data-append-csv=\"7d3e7da6\" data-stat=\"player\" scope=\"row\"><a href=\"/en/players/7d3e7da6/Sven-Ulreich\">Sven Ulreich</a></th><td class=\"left poptip\" data-stat=\"nationality\" data-tip=\"YNT\"><a href=\"/en/country/GER/Germany-Football\"><span style=\"white-space: nowrap\"><span class=\"f-i f-de\" style=\"\">de</span> GER</span></a></td><td class=\"center\" csk=\"1.0\" data-stat=\"position\">GK</td><td class=\"center\" data-stat=\"age\">28</td><td class=\"right group_start\" data-stat=\"games\">29</td><td class=\"right\" data-stat=\"games_starts\">29</td><td class=\"right\" csk=\"2610\" data-stat=\"minutes\">2,610</td><td class=\"right\" data-stat=\"minutes_90s\">29.0</td><td class=\"right iz group_start\" data-stat=\"goals\">0</td><td class=\"right iz\" data-stat=\"assists\">0</td><td class=\"right iz\" data-stat=\"goals_pens\">0</td><td class=\"right iz\" data-stat=\"pens_made\">0</td><td class=\"right iz\" data-stat=\"pens_att\">0</td><td class=\"right\" data-stat=\"cards_yellow\">1</td><td class=\"right iz\" data-stat=\"cards_red\">0</td><td class=\"right iz group_start\" data-stat=\"goals_per90\">0.00</td><td class=\"right iz\" data-stat=\"assists_per90\">0.00</td><td class=\"right iz\" data-stat=\"goals_assists_per90\">0.00</td><td class=\"right iz\" data-stat=\"goals_pens_per90\">0.00</td><td class=\"right iz\" data-stat=\"goals_assists_pens_per90\">0.00</td><td class=\"right iz group_start\" data-stat=\"xg\">0.0</td><td class=\"right iz\" data-stat=\"npxg\">0.0</td><td class=\"right iz\" data-stat=\"xg_assist\">0.0</td><td class=\"right iz\" data-stat=\"npxg_xg_assist\">0.0</td><td class=\"right iz group_start\" data-stat=\"xg_per90\">0.00</td><td class=\"right iz\" data-stat=\"xg_assist_per90\">0.00</td><td class=\"right iz\" data-stat=\"xg_xg_assist_per90\">0.00</td><td class=\"right iz\" data-stat=\"npxg_per90\">0.00</td><td class=\"right iz\" data-stat=\"npxg_xg_assist_per90\">0.00</td><td class=\"left group_start\" data-stat=\"matches\"><a href=\"/en/players/7d3e7da6/matchlogs/2017-2018/summary/Sven-Ulreich-Match-Logs\">Matches</a></td></tr> <tr><th class=\"left\" csk=\"Kimmich Joshua\" data-append-csv=\"49296448\" data-stat=\"player\" scope=\"row\"><a href=\"/en/players/49296448/Joshua-Kimmich\">Joshua Kimmich</a></th><td class=\"left poptip\" data-stat=\"nationality\" data-tip=\"NT\"><a href=\"/en/country/GER/Germany-Football\"><span style=\"white-space: nowrap\"><span class=\"f-i f-de\" style=\"\">de</span> GER</span></a></td><td class=\"center\" csk=\"2.0\" data-stat=\"position\">DF</td><td class=\"center\" data-stat=\"age\">22</td><td class=\"right group_start\" data-stat=\"games\">29</td><td class=\"right\" data-stat=\"games_starts\">26</td><td class=\"right\" csk=\"2329\" data-stat=\"minutes\">2,329</td><td class=\"right\" data-stat=\"minutes_90s\">25.9</td><td class=\"right group_start\" data-stat=\"goals\">1</td><td class=\"right\" data-stat=\"assists\">10</td><td class=\"right\" data-stat=\"goals_pens\">1</td><td class=\"right iz\" data-stat=\"pens_made\">0</td><td class=\"right iz\" data-stat=\"pens_att\">0</td><td class=\"right\" data-stat=\"cards_yellow\">1</td><td class=\"right iz\" data-stat=\"cards_red\">0</td><td class=\"right group_start\" data-stat=\"goals_per90\">0.04</td><td class=\"right\" data-stat=\"assists_per90\">0.39</td><td class=\"right\" data-stat=\"goals_assists_per90\">0.43</td><td class=\"right\" data-stat=\"goals_pens_per90\">0.04</td><td class=\"right\" data-stat=\"goals_assists_pens_per90\">0.43</td><td class=\"right group_start\" data-stat=\"xg\">0.5</td><td class=\"right\" data-stat=\"npxg\">0.5</td><td class=\"right\" data-stat=\"xg_assist\">6.2</td><td class=\"right\" data-stat=\"npxg_xg_assist\">6.7</td><td class=\"right group_start\" data-stat=\"xg_per90\">0.02</td><td class=\"right\" data-stat=\"xg_assist_per90\">0.24</td><td class=\"right\" data-stat=\"xg_xg_assist_per90\">0.26</td><td class=\"right\" data-stat=\"npxg_per90\">0.02</td><td class=\"right\" data-stat=\"npxg_xg_assist_per90\">0.26</td><td class=\"left group_start\" data-stat=\"matches\"><a href=\"/en/players/49296448/matchlogs/2017-2018/summary/Joshua-Kimmich-Match-Logs\">Matches</a></td></tr> <tr><th class=\"left\" csk=\"Hummels Mats\" data-append-csv=\"05d548d8\" data-stat=\"player\" scope=\"row\"><a href=\"/en/players/05d548d8/Mats-Hummels\">Mats Hummels</a></th><td class=\"left poptip\" data-stat=\"nationality\" data-tip=\"NT\"><a href=\"/en/country/GER/Germany-Football\"><span style=\"white-space: nowrap\"><span class=\"f-i f-de\" style=\"\">de</span> GER</span></a></td><td class=\"center\" csk=\"2.0\" data-stat=\"position\">DF</td><td class=\"center\" data-stat=\"age\">28</td><td class=\"right group_start\" data-stat=\"games\">26</td><td class=\"right\" data-stat=\"games_starts\">25</td><td class=\"right\" csk=\"2213\" data-stat=\"minutes\">2,213</td><td class=\"right\" data-stat=\"minutes_90s\">24.6</td><td class=\"right group_start\" data-stat=\"goals\">1</td><td class=\"right\" data-stat=\"assists\">1</td><td class=\"right\" data-stat=\"goals_pens\">1</td><td class=\"right iz\" data-stat=\"pens_made\">0</td><td class=\"right iz\" data-stat=\"pens_att\">0</td><td class=\"right\" data-stat=\"cards_yellow\">3</td><td class=\"right iz\" data-stat=\"cards_red\">0</td><td class=\"right group_start\" data-stat=\"goals_per90\">0.04</td><td class=\"right\" data-stat=\"assists_per90\">0.04</td><td class=\"right\" data-stat=\"goals_assists_per90\">0.08</td><td class=\"right\" data-stat=\"goals_pens_per90\">0.04</td><td class=\"right\" data-stat=\"goals_assists_pens_per90\">0.08</td><td class=\"right group_start\" data-stat=\"xg\">2.0</td><td class=\"right\" data-stat=\"npxg\">2.0</td><td class=\"right\" data-stat=\"xg_assist\">0.3</td><td class=\"right\" data-stat=\"npxg_xg_assist\">2.3</td><td class=\"right group_start\" data-stat=\"xg_per90\">0.08</td><td class=\"right\" data-stat=\"xg_assist_per90\">0.01</td><td class=\"right\" data-stat=\"xg_xg_assist_per90\">0.09</td><td class=\"right\" data-stat=\"npxg_per90\">0.08</td><td class=\"right\" data-stat=\"npxg_xg_assist_per90\">0.09</td><td class=\"left group_start\" data-stat=\"matches\"><a href=\"/en/players/05d548d8/matchlogs/2017-2018/summary/Mats-Hummels-Match-Logs\">Matches</a></td></tr> <tr><th class=\"left\" csk=\"Lewandowski Robert\" data-append-csv=\"8d78e732\" data-stat=\"player\" scope=\"row\"><a href=\"/en/players/8d78e732/Robert-Lewandowski\">Robert Lewandowski</a></th><td class=\"left poptip\" data-stat=\"nationality\" data-tip=\"NT\"><a href=\"/en/country/POL/Poland-Football\"><span style=\"white-space: nowrap\"><span class=\"f-i f-pl\" style=\"\">pl</span> POL</span></a></td><td class=\"center\" csk=\"4.0\" data-stat=\"position\">FW</td><td class=\"center\" data-stat=\"age\">28</td><td class=\"right group_start\" data-stat=\"games\">30</td><td class=\"right\" data-stat=\"games_starts\">24</td><td class=\"right\" csk=\"2172\" data-stat=\"minutes\">2,172</td><td class=\"right\" data-stat=\"minutes_90s\">24.1</td><td class=\"right group_start\" data-stat=\"goals\">29</td><td class=\"right\" data-stat=\"assists\">2</td><td class=\"right\" data-stat=\"goals_pens\">23</td><td class=\"right\" data-stat=\"pens_made\">6</td><td class=\"right\" data-stat=\"pens_att\">7</td><td class=\"right\" data-stat=\"cards_yellow\">1</td><td class=\"right iz\" data-stat=\"cards_red\">0</td><td class=\"right group_start\" data-stat=\"goals_per90\">1.20</td><td class=\"right\" data-stat=\"assists_per90\">0.08</td><td class=\"right\" data-stat=\"goals_assists_per90\">1.28</td><td class=\"right\" data-stat=\"goals_pens_per90\">0.95</td><td class=\"right\" data-stat=\"goals_assists_pens_per90\">1.04</td><td class=\"right group_start\" data-stat=\"xg\">27.9</td><td class=\"right\" data-stat=\"npxg\">22.4</td><td class=\"right\" data-stat=\"xg_assist\">2.4</td><td class=\"right\" data-stat=\"npxg_xg_assist\">24.8</td><td class=\"right group_start\" data-stat=\"xg_per90\">1.16</td><td class=\"right\" data-stat=\"xg_assist_per90\">0.10</td><td class=\"right\" data-stat=\"xg_xg_assist_per90\">1.26</td><td class=\"right\" data-stat=\"npxg_per90\">0.93</td><td class=\"right\" data-stat=\"npxg_xg_assist_per90\">1.03</td><td class=\"left group_start\" data-stat=\"matches\"><a href=\"/en/players/8d78e732/matchlogs/2017-2018/summary/Robert-Lewandowski-Match-Logs\">Matches</a></td></tr> <tr><th class=\"left\" csk=\"Müller Thomas\" data-append-csv=\"3c6089ab\" data-stat=\"player\" scope=\"row\"><a href=\"/en/players/3c6089ab/Thomas-Muller\">Thomas Müller</a></th><td class=\"left poptip\" data-stat=\"nationality\" data-tip=\"NT\"><a href=\"/en/country/GER/Germany-Football\"><span style=\"white-space: nowrap\"><span class=\"f-i f-de\" style=\"\">de</span> GER</span></a></td><td class=\"center\" csk=\"3.4\" data-stat=\"position\">MF,FW</td><td class=\"center\" data-stat=\"age\">27</td><td class=\"right group_start\" data-stat=\"games\">29</td><td class=\"right\" data-stat=\"games_starts\">22</td><td class=\"right\" csk=\"2005\" data-stat=\"minutes\">2,005</td><td class=\"right\" data-stat=\"minutes_90s\">22.3</td><td class=\"right group_start\" data-stat=\"goals\">8</td><td class=\"right\" data-stat=\"assists\">14</td><td class=\"right\" data-stat=\"goals_pens\">8</td><td class=\"right iz\" data-stat=\"pens_made\">0</td><td class=\"right iz\" data-stat=\"pens_att\">0</td><td class=\"right\" data-stat=\"cards_yellow\">4</td><td class=\"right iz\" data-stat=\"cards_red\">0</td><td class=\"right group_start\" data-stat=\"goals_per90\">0.36</td><td class=\"right\" data-stat=\"assists_per90\">0.63</td><td class=\"right\" data-stat=\"goals_assists_per90\">0.99</td><td class=\"right\" data-stat=\"goals_pens_per90\">0.36</td><td class=\"right\" data-stat=\"goals_assists_pens_per90\">0.99</td><td class=\"right group_start\" data-stat=\"xg\">6.1</td><td class=\"right\" data-stat=\"npxg\">6.1</td><td class=\"right\" data-stat=\"xg_assist\">10.3</td><td class=\"right\" data-stat=\"npxg_xg_assist\">16.4</td><td class=\"right group_start\" data-stat=\"xg_per90\">0.28</td><td class=\"right\" data-stat=\"xg_assist_per90\">0.47</td><td class=\"right\" data-stat=\"xg_xg_assist_per90\">0.75</td><td class=\"right\" data-stat=\"npxg_per90\">0.28</td><td class=\"right\" data-stat=\"npxg_xg_assist_per90\">0.75</td><td class=\"left group_start\" data-stat=\"matches\"><a href=\"/en/players/3c6089ab/matchlogs/2017-2018/summary/Thomas-Muller-Match-Logs\">Matches</a></td></tr> <tr><th class=\"left\" csk=\"Süle Niklas\" data-append-csv=\"e33c06cf\" data-stat=\"player\" scope=\"row\"><a href=\"/en/players/e33c06cf/Niklas-Sule\">Niklas Süle</a></th><td class=\"left poptip\" data-stat=\"nationality\" data-tip=\"NT\"><a href=\"/en/country/GER/Germany-Football\"><span style=\"white-space: nowrap\"><span class=\"f-i f-de\" style=\"\">de</span> GER</span></a></td><td class=\"center\" csk=\"2.0\" data-stat=\"position\">DF</td><td class=\"center\" data-stat=\"age\">21</td><td class=\"right group_start\" data-stat=\"games\">27</td><td class=\"right\" data-stat=\"games_starts\">20</td><td class=\"right\" csk=\"1926\" data-stat=\"minutes\">1,926</td><td class=\"right\" data-stat=\"minutes_90s\">21.4</td><td class=\"right group_start\" data-stat=\"goals\">2</td><td class=\"right\" data-stat=\"assists\">1</td><td class=\"right\" data-stat=\"goals_pens\">2</td><td class=\"right iz\" data-stat=\"pens_made\">0</td><td class=\"right iz\" data-stat=\"pens_att\">0</td><td class=\"right\" data-stat=\"cards_yellow\">1</td><td class=\"right iz\" data-stat=\"cards_red\">0</td><td class=\"right group_start\" data-stat=\"goals_per90\">0.09</td><td class=\"right\" data-stat=\"assists_per90\">0.05</td><td class=\"right\" data-stat=\"goals_assists_per90\">0.14</td><td class=\"right\" data-stat=\"goals_pens_per90\">0.09</td><td class=\"right\" data-stat=\"goals_assists_pens_per90\">0.14</td><td class=\"right group_start\" data-stat=\"xg\">1.5</td><td class=\"right\" data-stat=\"npxg\">1.5</td><td class=\"right\" data-stat=\"xg_assist\">0.8</td><td class=\"right\" data-stat=\"npxg_xg_assist\">2.3</td><td class=\"right group_start\" data-stat=\"xg_per90\">0.07</td><td class=\"right\" data-stat=\"xg_assist_per90\">0.04</td><td class=\"right\" data-stat=\"xg_xg_assist_per90\">0.11</td><td class=\"right\" data-stat=\"npxg_per90\">0.07</td><td class=\"right\" data-stat=\"npxg_xg_assist_per90\">0.11</td><td class=\"left group_start\" data-stat=\"matches\"><a href=\"/en/players/e33c06cf/matchlogs/2017-2018/summary/Niklas-Sule-Match-Logs\">Matches</a></td></tr> <tr><th class=\"left\" csk=\"Rafinha\" data-append-csv=\"d003e213\" data-stat=\"player\" scope=\"row\"><a href=\"/en/players/d003e213/Rafinha\">Rafinha</a></th><td class=\"left poptip\" data-stat=\"nationality\" data-tip=\"NT\"><a href=\"/en/country/BRA/Brazil-Football\"><span style=\"white-space: nowrap\"><span class=\"f-i f-br\" style=\"\">br</span> BRA</span></a></td><td class=\"center\" csk=\"2.0\" data-stat=\"position\">DF</td><td class=\"center\" data-stat=\"age\">31</td><td class=\"right group_start\" data-stat=\"games\">27</td><td class=\"right\" data-stat=\"games_starts\">19</td><td class=\"right\" csk=\"1851\" data-stat=\"minutes\">1,851</td><td class=\"right\" data-stat=\"minutes_90s\">20.6</td><td class=\"right group_start\" data-stat=\"goals\">1</td><td class=\"right\" data-stat=\"assists\">2</td><td class=\"right\" data-stat=\"goals_pens\">1</td><td class=\"right iz\" data-stat=\"pens_made\">0</td><td class=\"right iz\" data-stat=\"pens_att\">0</td><td class=\"right\" data-stat=\"cards_yellow\">4</td><td class=\"right iz\" data-stat=\"cards_red\">0</td><td class=\"right group_start\" data-stat=\"goals_per90\">0.05</td><td class=\"right\" data-stat=\"assists_per90\">0.10</td><td class=\"right\" data-stat=\"goals_assists_per90\">0.15</td><td class=\"right\" data-stat=\"goals_pens_per90\">0.05</td><td class=\"right\" data-stat=\"goals_assists_pens_per90\">0.15</td><td class=\"right group_start\" data-stat=\"xg\">0.5</td><td class=\"right\" data-stat=\"npxg\">0.5</td><td class=\"right\" data-stat=\"xg_assist\">1.7</td><td class=\"right\" data-stat=\"npxg_xg_assist\">2.3</td><td class=\"right group_start\" data-stat=\"xg_per90\">0.03</td><td class=\"right\" data-stat=\"xg_assist_per90\">0.08</td><td class=\"right\" data-stat=\"xg_xg_assist_per90\">0.11</td><td class=\"right\" data-stat=\"npxg_per90\">0.03</td><td class=\"right\" data-stat=\"npxg_xg_assist_per90\">0.11</td><td class=\"left group_start\" data-stat=\"matches\"><a href=\"/en/players/d003e213/matchlogs/2017-2018/summary/Rafinha-Match-Logs\">Matches</a></td></tr> <tr><th class=\"left\" csk=\"Boateng Jérôme\" data-append-csv=\"2db2fd7b\" data-stat=\"player\" scope=\"row\"><a href=\"/en/players/2db2fd7b/Jerome-Boateng\">Jérôme Boateng</a></th><td class=\"left poptip\" data-stat=\"nationality\" data-tip=\"NT\"><a href=\"/en/country/GER/Germany-Football\"><span style=\"white-space: nowrap\"><span class=\"f-i f-de\" style=\"\">de</span> GER</span></a></td><td class=\"center\" csk=\"2.0\" data-stat=\"position\">DF</td><td class=\"center\" data-stat=\"age\">28</td><td class=\"right group_start\" data-stat=\"games\">19</td><td class=\"right\" data-stat=\"games_starts\">19</td><td class=\"right\" csk=\"1640\" data-stat=\"minutes\">1,640</td><td class=\"right\" data-stat=\"minutes_90s\">18.2</td><td class=\"right group_start\" data-stat=\"goals\">1</td><td class=\"right\" data-stat=\"assists\">2</td><td class=\"right\" data-stat=\"goals_pens\">1</td><td class=\"right iz\" data-stat=\"pens_made\">0</td><td class=\"right iz\" data-stat=\"pens_att\">0</td><td class=\"right\" data-stat=\"cards_yellow\">4</td><td class=\"right iz\" data-stat=\"cards_red\">0</td><td class=\"right group_start\" data-stat=\"goals_per90\">0.05</td><td class=\"right\" data-stat=\"assists_per90\">0.11</td><td class=\"right\" data-stat=\"goals_assists_per90\">0.16</td><td class=\"right\" data-stat=\"goals_pens_per90\">0.05</td><td class=\"right\" data-stat=\"goals_assists_pens_per90\">0.16</td><td class=\"right group_start\" data-stat=\"xg\">1.1</td><td class=\"right\" data-stat=\"npxg\">1.1</td><td class=\"right\" data-stat=\"xg_assist\">1.7</td><td class=\"right\" data-stat=\"npxg_xg_assist\">2.8</td><td class=\"right group_start\" data-stat=\"xg_per90\">0.06</td><td class=\"right\" data-stat=\"xg_assist_per90\">0.09</td><td class=\"right\" data-stat=\"xg_xg_assist_per90\">0.15</td><td class=\"right\" data-stat=\"npxg_per90\">0.06</td><td class=\"right\" data-stat=\"npxg_xg_assist_per90\">0.15</td><td class=\"left group_start\" data-stat=\"matches\"><a href=\"/en/players/2db2fd7b/matchlogs/2017-2018/summary/Jerome-Boateng-Match-Logs\">Matches</a></td></tr> <tr><th class=\"left\" csk=\"Rodríguez James\" data-append-csv=\"715bf047\" data-stat=\"player\" scope=\"row\"><a href=\"/en/players/715bf047/James-Rodriguez\">James Rodríguez</a></th><td class=\"left poptip\" data-stat=\"nationality\" data-tip=\"NT\"><a href=\"/en/country/COL/Colombia-Football\"><span style=\"white-space: nowrap\"><span class=\"f-i f-co\" style=\"\">co</span> COL</span></a></td><td class=\"center\" csk=\"3.4\" data-stat=\"position\">MF,FW</td><td class=\"center\" data-stat=\"age\">26</td><td class=\"right group_start\" data-stat=\"games\">23</td><td class=\"right\" data-stat=\"games_starts\">19</td><td class=\"right\" csk=\"1621\" data-stat=\"minutes\">1,621</td><td class=\"right\" data-stat=\"minutes_90s\">18.0</td><td class=\"right group_start\" data-stat=\"goals\">7</td><td class=\"right\" data-stat=\"assists\">11</td><td class=\"right\" data-stat=\"goals_pens\">7</td><td class=\"right iz\" data-stat=\"pens_made\">0</td><td class=\"right iz\" data-stat=\"pens_att\">0</td><td class=\"right\" data-stat=\"cards_yellow\">2</td><td class=\"right iz\" data-stat=\"cards_red\">0</td><td class=\"right group_start\" data-stat=\"goals_per90\">0.39</td><td class=\"right\" data-stat=\"assists_per90\">0.61</td><td class=\"right\" data-stat=\"goals_assists_per90\">1.00</td><td class=\"right\" data-stat=\"goals_pens_per90\">0.39</td><td class=\"right\" data-stat=\"goals_assists_pens_per90\">1.00</td><td class=\"right group_start\" data-stat=\"xg\">4.8</td><td class=\"right\" data-stat=\"npxg\">4.8</td><td class=\"right\" data-stat=\"xg_assist\">7.5</td><td class=\"right\" data-stat=\"npxg_xg_assist\">12.4</td><td class=\"right group_start\" data-stat=\"xg_per90\">0.27</td><td class=\"right\" data-stat=\"xg_assist_per90\">0.42</td><td class=\"right\" data-stat=\"xg_xg_assist_per90\">0.69</td><td class=\"right\" data-stat=\"npxg_per90\">0.27</td><td class=\"right\" data-stat=\"npxg_xg_assist_per90\">0.69</td><td class=\"left group_start\" data-stat=\"matches\"><a href=\"/en/players/715bf047/matchlogs/2017-2018/summary/James-Rodriguez-Match-Logs\">Matches</a></td></tr> <tr><th class=\"left\" csk=\"Robben Arjen\" data-append-csv=\"09586899\" data-stat=\"player\" scope=\"row\"><a href=\"/en/players/09586899/Arjen-Robben\">Arjen Robben</a></th><td class=\"left poptip\" data-stat=\"nationality\" data-tip=\"NT\"><a href=\"/en/country/NED/Netherlands-Football\"><span style=\"white-space: nowrap\"><span class=\"f-i f-nl\" style=\"\">nl</span> NED</span></a></td><td class=\"center\" csk=\"3.5\" data-stat=\"position\">FW,MF</td><td class=\"center\" data-stat=\"age\">33</td><td class=\"right group_start\" data-stat=\"games\">21</td><td class=\"right\" data-stat=\"games_starts\">19</td><td class=\"right\" csk=\"1507\" data-stat=\"minutes\">1,507</td><td class=\"right\" data-stat=\"minutes_90s\">16.7</td><td class=\"right group_start\" data-stat=\"goals\">5</td><td class=\"right\" data-stat=\"assists\">5</td><td class=\"right\" data-stat=\"goals_pens\">5</td><td class=\"right iz\" data-stat=\"pens_made\">0</td><td class=\"right\" data-stat=\"pens_att\">1</td><td class=\"right iz\" data-stat=\"cards_yellow\">0</td><td class=\"right iz\" data-stat=\"cards_red\">0</td><td class=\"right group_start\" data-stat=\"goals_per90\">0.30</td><td class=\"right\" data-stat=\"assists_per90\">0.30</td><td class=\"right\" data-stat=\"goals_assists_per90\">0.60</td><td class=\"right\" data-stat=\"goals_pens_per90\">0.30</td><td class=\"right\" data-stat=\"goals_assists_pens_per90\">0.60</td><td class=\"right group_start\" data-stat=\"xg\">5.1</td><td class=\"right\" data-stat=\"npxg\">4.3</td><td class=\"right\" data-stat=\"xg_assist\">5.1</td><td class=\"right\" data-stat=\"npxg_xg_assist\">9.4</td><td class=\"right group_start\" data-stat=\"xg_per90\">0.31</td><td class=\"right\" data-stat=\"xg_assist_per90\">0.30</td><td class=\"right\" data-stat=\"xg_xg_assist_per90\">0.61</td><td class=\"right\" data-stat=\"npxg_per90\">0.26</td><td class=\"right\" data-stat=\"npxg_xg_assist_per90\">0.56</td><td class=\"left group_start\" data-stat=\"matches\"><a href=\"/en/players/09586899/matchlogs/2017-2018/summary/Arjen-Robben-Match-Logs\">Matches</a></td></tr> <tr><th class=\"left\" csk=\"Martínez Javi\" data-append-csv=\"7f97771d\" data-stat=\"player\" scope=\"row\"><a href=\"/en/players/7f97771d/Javi-Martinez\">Javi Martínez</a></th><td class=\"left poptip\" data-stat=\"nationality\" data-tip=\"NT\"><a href=\"/en/country/ESP/Spain-Football\"><span style=\"white-space: nowrap\"><span class=\"f-i f-es\" style=\"\">es</span> ESP</span></a></td><td class=\"center\" csk=\"2.4\" data-stat=\"position\">MF,DF</td><td class=\"center\" data-stat=\"age\">28</td><td class=\"right group_start\" data-stat=\"games\">22</td><td class=\"right\" data-stat=\"games_starts\">18</td><td class=\"right\" csk=\"1609\" data-stat=\"minutes\">1,609</td><td class=\"right\" data-stat=\"minutes_90s\">17.9</td><td class=\"right group_start\" data-stat=\"goals\">1</td><td class=\"right\" data-stat=\"assists\">2</td><td class=\"right\" data-stat=\"goals_pens\">1</td><td class=\"right iz\" data-stat=\"pens_made\">0</td><td class=\"right iz\" data-stat=\"pens_att\">0</td><td class=\"right\" data-stat=\"cards_yellow\">1</td><td class=\"right iz\" data-stat=\"cards_red\">0</td><td class=\"right group_start\" data-stat=\"goals_per90\">0.06</td><td class=\"right\" data-stat=\"assists_per90\">0.11</td><td class=\"right\" data-stat=\"goals_assists_per90\">0.17</td><td class=\"right\" data-stat=\"goals_pens_per90\">0.06</td><td class=\"right\" data-stat=\"goals_assists_pens_per90\">0.17</td><td class=\"right group_start\" data-stat=\"xg\">1.7</td><td class=\"right\" data-stat=\"npxg\">1.7</td><td class=\"right\" data-stat=\"xg_assist\">2.2</td><td class=\"right\" data-stat=\"npxg_xg_assist\">3.8</td><td class=\"right group_start\" data-stat=\"xg_per90\">0.09</td><td class=\"right\" data-stat=\"xg_assist_per90\">0.12</td><td class=\"right\" data-stat=\"xg_xg_assist_per90\">0.21</td><td class=\"right\" data-stat=\"npxg_per90\">0.09</td><td class=\"right\" data-stat=\"npxg_xg_assist_per90\">0.21</td><td class=\"left group_start\" data-stat=\"matches\"><a href=\"/en/players/7f97771d/matchlogs/2017-2018/summary/Javi-Martinez-Match-Logs\">Matches</a></td></tr> <tr><th class=\"left\" csk=\"Tolisso Corentin\" data-append-csv=\"652d4c37\" data-stat=\"player\" scope=\"row\"><a href=\"/en/players/652d4c37/Corentin-Tolisso\">Corentin Tolisso</a></th><td class=\"left poptip\" data-stat=\"nationality\" data-tip=\"NT\"><a href=\"/en/country/FRA/France-Football\"><span style=\"white-space: nowrap\"><span class=\"f-i f-fr\" style=\"\">fr</span> FRA</span></a></td><td class=\"center\" csk=\"3.0\" data-stat=\"position\">MF</td><td class=\"center\" data-stat=\"age\">22</td><td class=\"right group_start\" data-stat=\"games\">26</td><td class=\"right\" data-stat=\"games_starts\">17</td><td class=\"right\" csk=\"1575\" data-stat=\"minutes\">1,575</td><td class=\"right\" data-stat=\"minutes_90s\">17.5</td><td class=\"right group_start\" data-stat=\"goals\">6</td><td class=\"right\" data-stat=\"assists\">4</td><td class=\"right\" data-stat=\"goals_pens\">6</td><td class=\"right iz\" data-stat=\"pens_made\">0</td><td class=\"right iz\" data-stat=\"pens_att\">0</td><td class=\"right\" data-stat=\"cards_yellow\">3</td><td class=\"right iz\" data-stat=\"cards_red\">0</td><td class=\"right group_start\" data-stat=\"goals_per90\">0.34</td><td class=\"right\" data-stat=\"assists_per90\">0.23</td><td class=\"right\" data-stat=\"goals_assists_per90\">0.57</td><td class=\"right\" data-stat=\"goals_pens_per90\">0.34</td><td class=\"right\" data-stat=\"goals_assists_pens_per90\">0.57</td><td class=\"right group_start\" data-stat=\"xg\">4.5</td><td class=\"right\" data-stat=\"npxg\">4.5</td><td class=\"right\" data-stat=\"xg_assist\">2.9</td><td class=\"right\" data-stat=\"npxg_xg_assist\">7.4</td><td class=\"right group_start\" data-stat=\"xg_per90\">0.26</td><td class=\"right\" data-stat=\"xg_assist_per90\">0.17</td><td class=\"right\" data-stat=\"xg_xg_assist_per90\">0.43</td><td class=\"right\" data-stat=\"npxg_per90\">0.26</td><td class=\"right\" data-stat=\"npxg_xg_assist_per90\">0.43</td><td class=\"left group_start\" data-stat=\"matches\"><a href=\"/en/players/652d4c37/matchlogs/2017-2018/summary/Corentin-Tolisso-Match-Logs\">Matches</a></td></tr> <tr><th class=\"left\" csk=\"Alaba David\" data-append-csv=\"05439de2\" data-stat=\"player\" scope=\"row\"><a href=\"/en/players/05439de2/David-Alaba\">David Alaba</a></th><td class=\"left poptip\" data-stat=\"nationality\" data-tip=\"NT\"><a href=\"/en/country/AUT/Austria-Football\"><span style=\"white-space: nowrap\"><span class=\"f-i f-at\" style=\"\">at</span> AUT</span></a></td><td class=\"center\" csk=\"2.0\" data-stat=\"position\">DF</td><td class=\"center\" data-stat=\"age\">25</td><td class=\"right group_start\" data-stat=\"games\">23</td><td class=\"right\" data-stat=\"games_starts\">17</td><td class=\"right\" csk=\"1551\" data-stat=\"minutes\">1,551</td><td class=\"right\" data-stat=\"minutes_90s\">17.2</td><td class=\"right group_start\" data-stat=\"goals\">2</td><td class=\"right\" data-stat=\"assists\">2</td><td class=\"right\" data-stat=\"goals_pens\">2</td><td class=\"right iz\" data-stat=\"pens_made\">0</td><td class=\"right iz\" data-stat=\"pens_att\">0</td><td class=\"right\" data-stat=\"cards_yellow\">1</td><td class=\"right iz\" data-stat=\"cards_red\">0</td><td class=\"right group_start\" data-stat=\"goals_per90\">0.12</td><td class=\"right\" data-stat=\"assists_per90\">0.12</td><td class=\"right\" data-stat=\"goals_assists_per90\">0.23</td><td class=\"right\" data-stat=\"goals_pens_per90\">0.12</td><td class=\"right\" data-stat=\"goals_assists_pens_per90\">0.23</td><td class=\"right group_start\" data-stat=\"xg\">1.3</td><td class=\"right\" data-stat=\"npxg\">1.3</td><td class=\"right\" data-stat=\"xg_assist\">2.3</td><td class=\"right\" data-stat=\"npxg_xg_assist\">3.5</td><td class=\"right group_start\" data-stat=\"xg_per90\">0.07</td><td class=\"right\" data-stat=\"xg_assist_per90\">0.13</td><td class=\"right\" data-stat=\"xg_xg_assist_per90\">0.20</td><td class=\"right\" data-stat=\"npxg_per90\">0.07</td><td class=\"right\" data-stat=\"npxg_xg_assist_per90\">0.20</td><td class=\"left group_start\" data-stat=\"matches\"><a href=\"/en/players/05439de2/matchlogs/2017-2018/summary/David-Alaba-Match-Logs\">Matches</a></td></tr> <tr><th class=\"left\" csk=\"Vidal Arturo\" data-append-csv=\"67cdbc0e\" data-stat=\"player\" scope=\"row\"><a href=\"/en/players/67cdbc0e/Arturo-Vidal\">Arturo Vidal</a></th><td class=\"left poptip\" data-stat=\"nationality\" data-tip=\"NT\"><a href=\"/en/country/CHI/Chile-Football\"><span style=\"white-space: nowrap\"><span class=\"f-i f-cl\" style=\"\">cl</span> CHI</span></a></td><td class=\"center\" csk=\"3.0\" data-stat=\"position\">MF</td><td class=\"center\" data-stat=\"age\">30</td><td class=\"right group_start\" data-stat=\"games\">22</td><td class=\"right\" data-stat=\"games_starts\">17</td><td class=\"right\" csk=\"1456\" data-stat=\"minutes\">1,456</td><td class=\"right\" data-stat=\"minutes_90s\">16.2</td><td class=\"right group_start\" data-stat=\"goals\">6</td><td class=\"right\" data-stat=\"assists\">2</td><td class=\"right\" data-stat=\"goals_pens\">6</td><td class=\"right iz\" data-stat=\"pens_made\">0</td><td class=\"right iz\" data-stat=\"pens_att\">0</td><td class=\"right\" data-stat=\"cards_yellow\">6</td><td class=\"right iz\" data-stat=\"cards_red\">0</td><td class=\"right group_start\" data-stat=\"goals_per90\">0.37</td><td class=\"right\" data-stat=\"assists_per90\">0.12</td><td class=\"right\" data-stat=\"goals_assists_per90\">0.49</td><td class=\"right\" data-stat=\"goals_pens_per90\">0.37</td><td class=\"right\" data-stat=\"goals_assists_pens_per90\">0.49</td><td class=\"right group_start\" data-stat=\"xg\">4.1</td><td class=\"right\" data-stat=\"npxg\">4.1</td><td class=\"right\" data-stat=\"xg_assist\">2.5</td><td class=\"right\" data-stat=\"npxg_xg_assist\">6.6</td><td class=\"right group_start\" data-stat=\"xg_per90\">0.26</td><td class=\"right\" data-stat=\"xg_assist_per90\">0.15</td><td class=\"right\" data-stat=\"xg_xg_assist_per90\">0.41</td><td class=\"right\" data-stat=\"npxg_per90\">0.26</td><td class=\"right\" data-stat=\"npxg_xg_assist_per90\">0.41</td><td class=\"left group_start\" data-stat=\"matches\"><a href=\"/en/players/67cdbc0e/matchlogs/2017-2018/summary/Arturo-Vidal-Match-Logs\">Matches</a></td></tr> <tr><th class=\"left\" csk=\"Rudy Sebastian\" data-append-csv=\"80f36c88\" data-stat=\"player\" scope=\"row\"><a href=\"/en/players/80f36c88/Sebastian-Rudy\">Sebastian Rudy</a></th><td class=\"left poptip\" data-stat=\"nationality\" data-tip=\"NT\"><a href=\"/en/country/GER/Germany-Football\"><span style=\"white-space: nowrap\"><span class=\"f-i f-de\" style=\"\">de</span> GER</span></a></td><td class=\"center\" csk=\"3.0\" data-stat=\"position\">MF</td><td class=\"center\" data-stat=\"age\">27</td><td class=\"right group_start\" data-stat=\"games\">25</td><td class=\"right\" data-stat=\"games_starts\">16</td><td class=\"right\" csk=\"1515\" data-stat=\"minutes\">1,515</td><td class=\"right\" data-stat=\"minutes_90s\">16.8</td><td class=\"right group_start\" data-stat=\"goals\">1</td><td class=\"right\" data-stat=\"assists\">4</td><td class=\"right\" data-stat=\"goals_pens\">1</td><td class=\"right iz\" data-stat=\"pens_made\">0</td><td class=\"right iz\" data-stat=\"pens_att\">0</td><td class=\"right\" data-stat=\"cards_yellow\">2</td><td class=\"right iz\" data-stat=\"cards_red\">0</td><td class=\"right group_start\" data-stat=\"goals_per90\">0.06</td><td class=\"right\" data-stat=\"assists_per90\">0.24</td><td class=\"right\" data-stat=\"goals_assists_per90\">0.30</td><td class=\"right\" data-stat=\"goals_pens_per90\">0.06</td><td class=\"right\" data-stat=\"goals_assists_pens_per90\">0.30</td><td class=\"right group_start\" data-stat=\"xg\">0.9</td><td class=\"right\" data-stat=\"npxg\">0.9</td><td class=\"right\" data-stat=\"xg_assist\">1.4</td><td class=\"right\" data-stat=\"npxg_xg_assist\">2.3</td><td class=\"right group_start\" data-stat=\"xg_per90\">0.05</td><td class=\"right\" data-stat=\"xg_assist_per90\">0.09</td><td class=\"right\" data-stat=\"xg_xg_assist_per90\">0.14</td><td class=\"right\" data-stat=\"npxg_per90\">0.05</td><td class=\"right\" data-stat=\"npxg_xg_assist_per90\">0.14</td><td class=\"left group_start\" data-stat=\"matches\"><a href=\"/en/players/80f36c88/matchlogs/2017-2018/summary/Sebastian-Rudy-Match-Logs\">Matches</a></td></tr> <tr><th class=\"left\" csk=\"Ribéry Franck\" data-append-csv=\"f61c7c4e\" data-stat=\"player\" scope=\"row\"><a href=\"/en/players/f61c7c4e/Franck-Ribery\">Franck Ribéry</a></th><td class=\"left poptip\" data-stat=\"nationality\" data-tip=\"NT\"><a href=\"/en/country/FRA/France-Football\"><span style=\"white-space: nowrap\"><span class=\"f-i f-fr\" style=\"\">fr</span> FRA</span></a></td><td class=\"center\" csk=\"3.5\" data-stat=\"position\">FW,MF</td><td class=\"center\" data-stat=\"age\">34</td><td class=\"right group_start\" data-stat=\"games\">20</td><td class=\"right\" data-stat=\"games_starts\">15</td><td class=\"right\" csk=\"1203\" data-stat=\"minutes\">1,203</td><td class=\"right\" data-stat=\"minutes_90s\">13.4</td><td class=\"right group_start\" data-stat=\"goals\">5</td><td class=\"right\" data-stat=\"assists\">1</td><td class=\"right\" data-stat=\"goals_pens\">5</td><td class=\"right iz\" data-stat=\"pens_made\">0</td><td class=\"right iz\" data-stat=\"pens_att\">0</td><td class=\"right\" data-stat=\"cards_yellow\">3</td><td class=\"right iz\" data-stat=\"cards_red\">0</td><td class=\"right group_start\" data-stat=\"goals_per90\">0.37</td><td class=\"right\" data-stat=\"assists_per90\">0.07</td><td class=\"right\" data-stat=\"goals_assists_per90\">0.45</td><td class=\"right\" data-stat=\"goals_pens_per90\">0.37</td><td class=\"right\" data-stat=\"goals_assists_pens_per90\">0.45</td><td class=\"right group_start\" data-stat=\"xg\">3.3</td><td class=\"right\" data-stat=\"npxg\">3.3</td><td class=\"right\" data-stat=\"xg_assist\">4.2</td><td class=\"right\" data-stat=\"npxg_xg_assist\">7.4</td><td class=\"right group_start\" data-stat=\"xg_per90\">0.24</td><td class=\"right\" data-stat=\"xg_assist_per90\">0.31</td><td class=\"right\" data-stat=\"xg_xg_assist_per90\">0.56</td><td class=\"right\" data-stat=\"npxg_per90\">0.24</td><td class=\"right\" data-stat=\"npxg_xg_assist_per90\">0.56</td><td class=\"left group_start\" data-stat=\"matches\"><a href=\"/en/players/f61c7c4e/matchlogs/2017-2018/summary/Franck-Ribery-Match-Logs\">Matches</a></td></tr> <tr><th class=\"left\" csk=\"Alcántara Thiago\" data-append-csv=\"77e84962\" data-stat=\"player\" scope=\"row\"><a href=\"/en/players/77e84962/Thiago-Alcantara\">Thiago Alcántara</a></th><td class=\"left poptip\" data-stat=\"nationality\" data-tip=\"NT\"><a href=\"/en/country/ESP/Spain-Football\"><span style=\"white-space: nowrap\"><span class=\"f-i f-es\" style=\"\">es</span> ESP</span></a></td><td class=\"center\" csk=\"3.4\" data-stat=\"position\">MF,FW</td><td class=\"center\" data-stat=\"age\">26</td><td class=\"right group_start\" data-stat=\"games\">19</td><td class=\"right\" data-stat=\"games_starts\">12</td><td class=\"right\" csk=\"1247\" data-stat=\"minutes\">1,247</td><td class=\"right\" data-stat=\"minutes_90s\">13.9</td><td class=\"right group_start\" data-stat=\"goals\">2</td><td class=\"right\" data-stat=\"assists\">2</td><td class=\"right\" data-stat=\"goals_pens\">2</td><td class=\"right iz\" data-stat=\"pens_made\">0</td><td class=\"right iz\" data-stat=\"pens_att\">0</td><td class=\"right\" data-stat=\"cards_yellow\">3</td><td class=\"right iz\" data-stat=\"cards_red\">0</td><td class=\"right group_start\" data-stat=\"goals_per90\">0.14</td><td class=\"right\" data-stat=\"assists_per90\">0.14</td><td class=\"right\" data-stat=\"goals_assists_per90\">0.29</td><td class=\"right\" data-stat=\"goals_pens_per90\">0.14</td><td class=\"right\" data-stat=\"goals_assists_pens_per90\">0.29</td><td class=\"right group_start\" data-stat=\"xg\">2.5</td><td class=\"right\" data-stat=\"npxg\">2.5</td><td class=\"right\" data-stat=\"xg_assist\">1.9</td><td class=\"right\" data-stat=\"npxg_xg_assist\">4.4</td><td class=\"right group_start\" data-stat=\"xg_per90\">0.18</td><td class=\"right\" data-stat=\"xg_assist_per90\">0.14</td><td class=\"right\" data-stat=\"xg_xg_assist_per90\">0.32</td><td class=\"right\" data-stat=\"npxg_per90\">0.18</td><td class=\"right\" data-stat=\"npxg_xg_assist_per90\">0.32</td><td class=\"left group_start\" data-stat=\"matches\"><a href=\"/en/players/77e84962/matchlogs/2017-2018/summary/Thiago-Alcantara-Match-Logs\">Matches</a></td></tr> <tr><th class=\"left\" csk=\"Bernat Juan\" data-append-csv=\"433dc9a2\" data-stat=\"player\" scope=\"row\"><a href=\"/en/players/433dc9a2/Juan-Bernat\">Juan Bernat</a></th><td class=\"left poptip\" data-stat=\"nationality\" data-tip=\"NT\"><a href=\"/en/country/ESP/Spain-Football\"><span style=\"white-space: nowrap\"><span class=\"f-i f-es\" style=\"\">es</span> ESP</span></a></td><td class=\"center\" csk=\"2.5\" data-stat=\"position\">DF,FW</td><td class=\"center\" data-stat=\"age\">24</td><td class=\"right group_start\" data-stat=\"games\">11</td><td class=\"right\" data-stat=\"games_starts\">11</td><td class=\"right\" csk=\"888\" data-stat=\"minutes\">888</td><td class=\"right\" data-stat=\"minutes_90s\">9.9</td><td class=\"right iz group_start\" data-stat=\"goals\">0</td><td class=\"right\" data-stat=\"assists\">2</td><td class=\"right iz\" data-stat=\"goals_pens\">0</td><td class=\"right iz\" data-stat=\"pens_made\">0</td><td class=\"right iz\" data-stat=\"pens_att\">0</td><td class=\"right\" data-stat=\"cards_yellow\">1</td><td class=\"right iz\" data-stat=\"cards_red\">0</td><td class=\"right iz group_start\" data-stat=\"goals_per90\">0.00</td><td class=\"right\" data-stat=\"assists_per90\">0.20</td><td class=\"right\" data-stat=\"goals_assists_per90\">0.20</td><td class=\"right iz\" data-stat=\"goals_pens_per90\">0.00</td><td class=\"right\" data-stat=\"goals_assists_pens_per90\">0.20</td><td class=\"right group_start\" data-stat=\"xg\">0.3</td><td class=\"right\" data-stat=\"npxg\">0.3</td><td class=\"right\" data-stat=\"xg_assist\">1.5</td><td class=\"right\" data-stat=\"npxg_xg_assist\">1.8</td><td class=\"right group_start\" data-stat=\"xg_per90\">0.03</td><td class=\"right\" data-stat=\"xg_assist_per90\">0.15</td><td class=\"right\" data-stat=\"xg_xg_assist_per90\">0.18</td><td class=\"right\" data-stat=\"npxg_per90\">0.03</td><td class=\"right\" data-stat=\"npxg_xg_assist_per90\">0.18</td><td class=\"left group_start\" data-stat=\"matches\"><a href=\"/en/players/433dc9a2/matchlogs/2017-2018/summary/Juan-Bernat-Match-Logs\">Matches</a></td></tr> <tr><th class=\"left\" csk=\"Coman Kingsley\" data-append-csv=\"042e8a49\" data-stat=\"player\" scope=\"row\"><a href=\"/en/players/042e8a49/Kingsley-Coman\">Kingsley Coman</a></th><td class=\"left poptip\" data-stat=\"nationality\" data-tip=\"NT\"><a href=\"/en/country/FRA/France-Football\"><span style=\"white-space: nowrap\"><span class=\"f-i f-fr\" style=\"\">fr</span> FRA</span></a></td><td class=\"center\" csk=\"3.5\" data-stat=\"position\">FW,MF</td><td class=\"center\" data-stat=\"age\">21</td><td class=\"right group_start\" data-stat=\"games\">21</td><td class=\"right\" data-stat=\"games_starts\">10</td><td class=\"right\" csk=\"1153\" data-stat=\"minutes\">1,153</td><td class=\"right\" data-stat=\"minutes_90s\">12.8</td><td class=\"right group_start\" data-stat=\"goals\">3</td><td class=\"right\" data-stat=\"assists\">3</td><td class=\"right\" data-stat=\"goals_pens\">3</td><td class=\"right iz\" data-stat=\"pens_made\">0</td><td class=\"right iz\" data-stat=\"pens_att\">0</td><td class=\"right iz\" data-stat=\"cards_yellow\">0</td><td class=\"right iz\" data-stat=\"cards_red\">0</td><td class=\"right group_start\" data-stat=\"goals_per90\">0.23</td><td class=\"right\" data-stat=\"assists_per90\">0.23</td><td class=\"right\" data-stat=\"goals_assists_per90\">0.47</td><td class=\"right\" data-stat=\"goals_pens_per90\">0.23</td><td class=\"right\" data-stat=\"goals_assists_pens_per90\">0.47</td><td class=\"right group_start\" data-stat=\"xg\">2.2</td><td class=\"right\" data-stat=\"npxg\">2.2</td><td class=\"right\" data-stat=\"xg_assist\">3.6</td><td class=\"right\" data-stat=\"npxg_xg_assist\">5.8</td><td class=\"right group_start\" data-stat=\"xg_per90\">0.18</td><td class=\"right\" data-stat=\"xg_assist_per90\">0.28</td><td class=\"right\" data-stat=\"xg_xg_assist_per90\">0.45</td><td class=\"right\" data-stat=\"npxg_per90\">0.18</td><td class=\"right\" data-stat=\"npxg_xg_assist_per90\">0.45</td><td class=\"left group_start\" data-stat=\"matches\"><a href=\"/en/players/042e8a49/matchlogs/2017-2018/summary/Kingsley-Coman-Match-Logs\">Matches</a></td></tr> <tr><th class=\"left\" csk=\"Wagner Sandro\" data-append-csv=\"61b0b44d\" data-stat=\"player\" scope=\"row\"><a href=\"/en/players/61b0b44d/Sandro-Wagner\">Sandro Wagner</a></th><td class=\"left poptip\" data-stat=\"nationality\" data-tip=\"NT\"><a href=\"/en/country/GER/Germany-Football\"><span style=\"white-space: nowrap\"><span class=\"f-i f-de\" style=\"\">de</span> GER</span></a></td><td class=\"center\" csk=\"4.0\" data-stat=\"position\">FW</td><td class=\"center\" data-stat=\"age\">29</td><td class=\"right group_start\" data-stat=\"games\">14</td><td class=\"right\" data-stat=\"games_starts\">8</td><td class=\"right\" csk=\"726\" data-stat=\"minutes\">726</td><td class=\"right\" data-stat=\"minutes_90s\">8.1</td><td class=\"right group_start\" data-stat=\"goals\">8</td><td class=\"right\" data-stat=\"assists\">2</td><td class=\"right\" data-stat=\"goals_pens\">8</td><td class=\"right iz\" data-stat=\"pens_made\">0</td><td class=\"right iz\" data-stat=\"pens_att\">0</td><td class=\"right\" data-stat=\"cards_yellow\">1</td><td class=\"right iz\" data-stat=\"cards_red\">0</td><td class=\"right group_start\" data-stat=\"goals_per90\">0.99</td><td class=\"right\" data-stat=\"assists_per90\">0.25</td><td class=\"right\" data-stat=\"goals_assists_per90\">1.24</td><td class=\"right\" data-stat=\"goals_pens_per90\">0.99</td><td class=\"right\" data-stat=\"goals_assists_pens_per90\">1.24</td><td class=\"right group_start\" data-stat=\"xg\">6.5</td><td class=\"right\" data-stat=\"npxg\">6.5</td><td class=\"right\" data-stat=\"xg_assist\">0.5</td><td class=\"right\" data-stat=\"npxg_xg_assist\">7.0</td><td class=\"right group_start\" data-stat=\"xg_per90\">0.81</td><td class=\"right\" data-stat=\"xg_assist_per90\">0.06</td><td class=\"right\" data-stat=\"xg_xg_assist_per90\">0.87</td><td class=\"right\" data-stat=\"npxg_per90\">0.81</td><td class=\"right\" data-stat=\"npxg_xg_assist_per90\">0.87</td><td class=\"left group_start\" data-stat=\"matches\"><a href=\"/en/players/61b0b44d/matchlogs/2017-2018/summary/Sandro-Wagner-Match-Logs\">Matches</a></td></tr> <tr><th class=\"left\" csk=\"Neuer Manuel\" data-append-csv=\"8778c910\" data-stat=\"player\" scope=\"row\"><a href=\"/en/players/8778c910/Manuel-Neuer\">Manuel Neuer</a></th><td class=\"left poptip\" data-stat=\"nationality\" data-tip=\"NT\"><a href=\"/en/country/GER/Germany-Football\"><span style=\"white-space: nowrap\"><span class=\"f-i f-de\" style=\"\">de</span> GER</span></a></td><td class=\"center\" csk=\"1.0\" data-stat=\"position\">GK</td><td class=\"center\" data-stat=\"age\">31</td><td class=\"right group_start\" data-stat=\"games\">3</td><td class=\"right\" data-stat=\"games_starts\">3</td><td class=\"right\" csk=\"270\" data-stat=\"minutes\">270</td><td class=\"right\" data-stat=\"minutes_90s\">3.0</td><td class=\"right iz group_start\" data-stat=\"goals\">0</td><td class=\"right iz\" data-stat=\"assists\">0</td><td class=\"right iz\" data-stat=\"goals_pens\">0</td><td class=\"right iz\" data-stat=\"pens_made\">0</td><td class=\"right iz\" data-stat=\"pens_att\">0</td><td class=\"right iz\" data-stat=\"cards_yellow\">0</td><td class=\"right iz\" data-stat=\"cards_red\">0</td><td class=\"right iz group_start\" data-stat=\"goals_per90\">0.00</td><td class=\"right iz\" data-stat=\"assists_per90\">0.00</td><td class=\"right iz\" data-stat=\"goals_assists_per90\">0.00</td><td class=\"right iz\" data-stat=\"goals_pens_per90\">0.00</td><td class=\"right iz\" data-stat=\"goals_assists_pens_per90\">0.00</td><td class=\"right iz group_start\" data-stat=\"xg\">0.0</td><td class=\"right iz\" data-stat=\"npxg\">0.0</td><td class=\"right iz\" data-stat=\"xg_assist\">0.0</td><td class=\"right iz\" data-stat=\"npxg_xg_assist\">0.0</td><td class=\"right iz group_start\" data-stat=\"xg_per90\">0.00</td><td class=\"right iz\" data-stat=\"xg_assist_per90\">0.00</td><td class=\"right iz\" data-stat=\"xg_xg_assist_per90\">0.00</td><td class=\"right iz\" data-stat=\"npxg_per90\">0.00</td><td class=\"right iz\" data-stat=\"npxg_xg_assist_per90\">0.00</td><td class=\"left group_start\" data-stat=\"matches\"><a href=\"/en/players/8778c910/matchlogs/2017-2018/summary/Manuel-Neuer-Match-Logs\">Matches</a></td></tr> <tr><th class=\"left\" csk=\"Lukas Mai Lars\" data-append-csv=\"95173427\" data-stat=\"player\" scope=\"row\"><a href=\"/en/players/95173427/Lars-Lukas-Mai\">Lars Lukas Mai</a></th><td class=\"left poptip\" data-stat=\"nationality\" data-tip=\"YNT\"><a href=\"/en/country/GER/Germany-Football\"><span style=\"white-space: nowrap\"><span class=\"f-i f-de\" style=\"\">de</span> GER</span></a></td><td class=\"center\" csk=\"2.0\" data-stat=\"position\">DF</td><td class=\"center\" data-stat=\"age\">17</td><td class=\"right group_start\" data-stat=\"games\">2</td><td class=\"right\" data-stat=\"games_starts\">2</td><td class=\"right\" csk=\"180\" data-stat=\"minutes\">180</td><td class=\"right\" data-stat=\"minutes_90s\">2.0</td><td class=\"right iz group_start\" data-stat=\"goals\">0</td><td class=\"right iz\" data-stat=\"assists\">0</td><td class=\"right iz\" data-stat=\"goals_pens\">0</td><td class=\"right iz\" data-stat=\"pens_made\">0</td><td class=\"right iz\" data-stat=\"pens_att\">0</td><td class=\"right iz\" data-stat=\"cards_yellow\">0</td><td class=\"right iz\" data-stat=\"cards_red\">0</td><td class=\"right iz group_start\" data-stat=\"goals_per90\">0.00</td><td class=\"right iz\" data-stat=\"assists_per90\">0.00</td><td class=\"right iz\" data-stat=\"goals_assists_per90\">0.00</td><td class=\"right iz\" data-stat=\"goals_pens_per90\">0.00</td><td class=\"right iz\" data-stat=\"goals_assists_pens_per90\">0.00</td><td class=\"right iz group_start\" data-stat=\"xg\">0.0</td><td class=\"right iz\" data-stat=\"npxg\">0.0</td><td class=\"right iz\" data-stat=\"xg_assist\">0.0</td><td class=\"right iz\" data-stat=\"npxg_xg_assist\">0.0</td><td class=\"right iz group_start\" data-stat=\"xg_per90\">0.00</td><td class=\"right iz\" data-stat=\"xg_assist_per90\">0.00</td><td class=\"right iz\" data-stat=\"xg_xg_assist_per90\">0.00</td><td class=\"right iz\" data-stat=\"npxg_per90\">0.00</td><td class=\"right iz\" data-stat=\"npxg_xg_assist_per90\">0.00</td><td class=\"left group_start\" data-stat=\"matches\"><a href=\"/en/players/95173427/matchlogs/2017-2018/summary/Lars-Lukas-Mai-Match-Logs\">Matches</a></td></tr> <tr><th class=\"left\" csk=\"Starke Tom\" data-append-csv=\"5b52d1f7\" data-stat=\"player\" scope=\"row\"><a href=\"/en/players/5b52d1f7/Tom-Starke\">Tom Starke</a></th><td class=\"left poptip\" data-stat=\"nationality\" data-tip=\"YNT\"><a href=\"/en/country/GER/Germany-Football\"><span style=\"white-space: nowrap\"><span class=\"f-i f-de\" style=\"\">de</span> GER</span></a></td><td class=\"center\" csk=\"1.0\" data-stat=\"position\">GK</td><td class=\"center\" data-stat=\"age\">36</td><td class=\"right group_start\" data-stat=\"games\">2</td><td class=\"right\" data-stat=\"games_starts\">2</td><td class=\"right\" csk=\"180\" data-stat=\"minutes\">180</td><td class=\"right\" data-stat=\"minutes_90s\">2.0</td><td class=\"right iz group_start\" data-stat=\"goals\">0</td><td class=\"right iz\" data-stat=\"assists\">0</td><td class=\"right iz\" data-stat=\"goals_pens\">0</td><td class=\"right iz\" data-stat=\"pens_made\">0</td><td class=\"right iz\" data-stat=\"pens_att\">0</td><td class=\"right iz\" data-stat=\"cards_yellow\">0</td><td class=\"right iz\" data-stat=\"cards_red\">0</td><td class=\"right iz group_start\" data-stat=\"goals_per90\">0.00</td><td class=\"right iz\" data-stat=\"assists_per90\">0.00</td><td class=\"right iz\" data-stat=\"goals_assists_per90\">0.00</td><td class=\"right iz\" data-stat=\"goals_pens_per90\">0.00</td><td class=\"right iz\" data-stat=\"goals_assists_pens_per90\">0.00</td><td class=\"right iz group_start\" data-stat=\"xg\">0.0</td><td class=\"right iz\" data-stat=\"npxg\">0.0</td><td class=\"right iz\" data-stat=\"xg_assist\">0.0</td><td class=\"right iz\" data-stat=\"npxg_xg_assist\">0.0</td><td class=\"right iz group_start\" data-stat=\"xg_per90\">0.00</td><td class=\"right iz\" data-stat=\"xg_assist_per90\">0.00</td><td class=\"right iz\" data-stat=\"xg_xg_assist_per90\">0.00</td><td class=\"right iz\" data-stat=\"npxg_per90\">0.00</td><td class=\"right iz\" data-stat=\"npxg_xg_assist_per90\">0.00</td><td class=\"left group_start\" data-stat=\"matches\"><a href=\"/en/players/5b52d1f7/matchlogs/2017-2018/summary/Tom-Starke-Match-Logs\">Matches</a></td></tr> <tr><th class=\"left\" csk=\"Evina Franck\" data-append-csv=\"44e471ca\" data-stat=\"player\" scope=\"row\"><a href=\"/en/players/44e471ca/Franck-Evina\">Franck Evina</a></th><td class=\"left poptip\" data-stat=\"nationality\" data-tip=\"NT\"><a href=\"/en/country/CMR/Cameroon-Football\"><span style=\"white-space: nowrap\"><span class=\"f-i f-cm\" style=\"\">cm</span> CMR</span></a></td><td class=\"center\" csk=\"4.0\" data-stat=\"position\">FW</td><td class=\"center\" data-stat=\"age\">17</td><td class=\"right group_start\" data-stat=\"games\">2</td><td class=\"right\" data-stat=\"games_starts\">2</td><td class=\"right\" csk=\"110\" data-stat=\"minutes\">110</td><td class=\"right\" data-stat=\"minutes_90s\">1.2</td><td class=\"right iz group_start\" data-stat=\"goals\">0</td><td class=\"right iz\" data-stat=\"assists\">0</td><td class=\"right iz\" data-stat=\"goals_pens\">0</td><td class=\"right iz\" data-stat=\"pens_made\">0</td><td class=\"right iz\" data-stat=\"pens_att\">0</td><td class=\"right iz\" data-stat=\"cards_yellow\">0</td><td class=\"right iz\" data-stat=\"cards_red\">0</td><td class=\"right iz group_start\" data-stat=\"goals_per90\">0.00</td><td class=\"right iz\" data-stat=\"assists_per90\">0.00</td><td class=\"right iz\" data-stat=\"goals_assists_per90\">0.00</td><td class=\"right iz\" data-stat=\"goals_pens_per90\">0.00</td><td class=\"right iz\" data-stat=\"goals_assists_pens_per90\">0.00</td><td class=\"right group_start\" data-stat=\"xg\">0.1</td><td class=\"right\" data-stat=\"npxg\">0.1</td><td class=\"right\" data-stat=\"xg_assist\">0.2</td><td class=\"right\" data-stat=\"npxg_xg_assist\">0.3</td><td class=\"right group_start\" data-stat=\"xg_per90\">0.08</td><td class=\"right\" data-stat=\"xg_assist_per90\">0.16</td><td class=\"right\" data-stat=\"xg_xg_assist_per90\">0.24</td><td class=\"right\" data-stat=\"npxg_per90\">0.08</td><td class=\"right\" data-stat=\"npxg_xg_assist_per90\">0.24</td><td class=\"left group_start\" data-stat=\"matches\"><a href=\"/en/players/44e471ca/matchlogs/2017-2018/summary/Franck-Evina-Match-Logs\">Matches</a></td></tr> <tr><th class=\"left\" csk=\"Dorsch Niklas\" data-append-csv=\"7f73bdf4\" data-stat=\"player\" scope=\"row\"><a href=\"/en/players/7f73bdf4/Niklas-Dorsch\">Niklas Dorsch</a></th><td class=\"left poptip\" data-stat=\"nationality\" data-tip=\"YNT\"><a href=\"/en/country/GER/Germany-Football\"><span style=\"white-space: nowrap\"><span class=\"f-i f-de\" style=\"\">de</span> GER</span></a></td><td class=\"center\" csk=\"3.0\" data-stat=\"position\">MF</td><td class=\"center\" data-stat=\"age\">19</td><td class=\"right group_start\" data-stat=\"games\">1</td><td class=\"right\" data-stat=\"games_starts\">1</td><td class=\"right\" csk=\"90\" data-stat=\"minutes\">90</td><td class=\"right\" data-stat=\"minutes_90s\">1.0</td><td class=\"right group_start\" data-stat=\"goals\">1</td><td class=\"right iz\" data-stat=\"assists\">0</td><td class=\"right\" data-stat=\"goals_pens\">1</td><td class=\"right iz\" data-stat=\"pens_made\">0</td><td class=\"right iz\" data-stat=\"pens_att\">0</td><td class=\"right iz\" data-stat=\"cards_yellow\">0</td><td class=\"right iz\" data-stat=\"cards_red\">0</td><td class=\"right group_start\" data-stat=\"goals_per90\">1.00</td><td class=\"right iz\" data-stat=\"assists_per90\">0.00</td><td class=\"right\" data-stat=\"goals_assists_per90\">1.00</td><td class=\"right\" data-stat=\"goals_pens_per90\">1.00</td><td class=\"right\" data-stat=\"goals_assists_pens_per90\">1.00</td><td class=\"right group_start\" data-stat=\"xg\">0.4</td><td class=\"right\" data-stat=\"npxg\">0.4</td><td class=\"right iz\" data-stat=\"xg_assist\">0.0</td><td class=\"right\" data-stat=\"npxg_xg_assist\">0.4</td><td class=\"right group_start\" data-stat=\"xg_per90\">0.41</td><td class=\"right\" data-stat=\"xg_assist_per90\">0.03</td><td class=\"right\" data-stat=\"xg_xg_assist_per90\">0.45</td><td class=\"right\" data-stat=\"npxg_per90\">0.41</td><td class=\"right\" data-stat=\"npxg_xg_assist_per90\">0.45</td><td class=\"left group_start\" data-stat=\"matches\"><a href=\"/en/players/7f73bdf4/matchlogs/2017-2018/summary/Niklas-Dorsch-Match-Logs\">Matches</a></td></tr> <tr><th class=\"left\" csk=\"Shabani Meritan\" data-append-csv=\"012c38ec\" data-stat=\"player\" scope=\"row\"><a href=\"/en/players/012c38ec/Meritan-Shabani\">Meritan Shabani</a></th><td class=\"left poptip\" data-stat=\"nationality\" data-tip=\"birth\"><a href=\"/en/country/ALB/Albania-Football\"><span style=\"white-space: nowrap\"><span class=\"f-i f-al\" style=\"\">al</span> ALB</span></a></td><td class=\"center\" csk=\"4.0\" data-stat=\"position\">FW</td><td class=\"center\" data-stat=\"age\">18</td><td class=\"right group_start\" data-stat=\"games\">1</td><td class=\"right\" data-stat=\"games_starts\">1</td><td class=\"right\" csk=\"55\" data-stat=\"minutes\">55</td><td class=\"right\" data-stat=\"minutes_90s\">0.6</td><td class=\"right iz group_start\" data-stat=\"goals\">0</td><td class=\"right iz\" data-stat=\"assists\">0</td><td class=\"right iz\" data-stat=\"goals_pens\">0</td><td class=\"right iz\" data-stat=\"pens_made\">0</td><td class=\"right iz\" data-stat=\"pens_att\">0</td><td class=\"right iz\" data-stat=\"cards_yellow\">0</td><td class=\"right iz\" data-stat=\"cards_red\">0</td><td class=\"right iz group_start\" data-stat=\"goals_per90\">0.00</td><td class=\"right iz\" data-stat=\"assists_per90\">0.00</td><td class=\"right iz\" data-stat=\"goals_assists_per90\">0.00</td><td class=\"right iz\" data-stat=\"goals_pens_per90\">0.00</td><td class=\"right iz\" data-stat=\"goals_assists_pens_per90\">0.00</td><td class=\"right iz group_start\" data-stat=\"xg\">0.0</td><td class=\"right iz\" data-stat=\"npxg\">0.0</td><td class=\"right iz\" data-stat=\"xg_assist\">0.0</td><td class=\"right iz\" data-stat=\"npxg_xg_assist\">0.0</td><td class=\"right iz group_start\" data-stat=\"xg_per90\">0.00</td><td class=\"right iz\" data-stat=\"xg_assist_per90\">0.00</td><td class=\"right iz\" data-stat=\"xg_xg_assist_per90\">0.00</td><td class=\"right iz\" data-stat=\"npxg_per90\">0.00</td><td class=\"right iz\" data-stat=\"npxg_xg_assist_per90\">0.00</td><td class=\"left group_start\" data-stat=\"matches\"><a href=\"/en/players/012c38ec/matchlogs/2017-2018/summary/Meritan-Shabani-Match-Logs\">Matches</a></td></tr> <tr><th class=\"left\" csk=\"Friedl Marco\" data-append-csv=\"f86ad3f5\" data-stat=\"player\" scope=\"row\"><a href=\"/en/players/f86ad3f5/Marco-Friedl\">Marco Friedl</a></th><td class=\"left poptip\" data-stat=\"nationality\" data-tip=\"NT\"><a href=\"/en/country/AUT/Austria-Football\"><span style=\"white-space: nowrap\"><span class=\"f-i f-at\" style=\"\">at</span> AUT</span></a></td><td class=\"center\" csk=\"3.0\" data-stat=\"position\">MF</td><td class=\"center\" data-stat=\"age\">19</td><td class=\"right group_start\" data-stat=\"games\">1</td><td class=\"right iz\" data-stat=\"games_starts\">0</td><td class=\"right\" csk=\"45\" data-stat=\"minutes\">45</td><td class=\"right\" data-stat=\"minutes_90s\">0.5</td><td class=\"right iz group_start\" data-stat=\"goals\">0</td><td class=\"right iz\" data-stat=\"assists\">0</td><td class=\"right iz\" data-stat=\"goals_pens\">0</td><td class=\"right iz\" data-stat=\"pens_made\">0</td><td class=\"right iz\" data-stat=\"pens_att\">0</td><td class=\"right iz\" data-stat=\"cards_yellow\">0</td><td class=\"right iz\" data-stat=\"cards_red\">0</td><td class=\"right iz group_start\" data-stat=\"goals_per90\">0.00</td><td class=\"right iz\" data-stat=\"assists_per90\">0.00</td><td class=\"right iz\" data-stat=\"goals_assists_per90\">0.00</td><td class=\"right iz\" data-stat=\"goals_pens_per90\">0.00</td><td class=\"right iz\" data-stat=\"goals_assists_pens_per90\">0.00</td><td class=\"right iz group_start\" data-stat=\"xg\">0.0</td><td class=\"right iz\" data-stat=\"npxg\">0.0</td><td class=\"right\" data-stat=\"xg_assist\">0.2</td><td class=\"right\" data-stat=\"npxg_xg_assist\">0.2</td><td class=\"right iz group_start\" data-stat=\"xg_per90\">0.00</td><td class=\"right\" data-stat=\"xg_assist_per90\">0.31</td><td class=\"right\" data-stat=\"xg_xg_assist_per90\">0.31</td><td class=\"right iz\" data-stat=\"npxg_per90\">0.00</td><td class=\"right\" data-stat=\"npxg_xg_assist_per90\">0.31</td><td class=\"left group_start\" data-stat=\"matches\"><a href=\"/en/players/f86ad3f5/matchlogs/2017-2018/summary/Marco-Friedl-Match-Logs\">Matches</a></td></tr> <tr><th class=\"left\" csk=\"Okyere Wriedt Kwasi\" data-append-csv=\"7124239e\" data-stat=\"player\" scope=\"row\"><a href=\"/en/players/7124239e/Kwasi-Okyere-Wriedt\">Kwasi Okyere Wriedt</a></th><td class=\"left poptip\" data-stat=\"nationality\" data-tip=\"NT\"><a href=\"/en/country/GHA/Ghana-Football\"><span style=\"white-space: nowrap\"><span class=\"f-i f-gh\" style=\"\">gh</span> GHA</span></a></td><td class=\"center\" csk=\"3.0\" data-stat=\"position\">MF</td><td class=\"center\" data-stat=\"age\">23</td><td class=\"right group_start\" data-stat=\"games\">1</td><td class=\"right iz\" data-stat=\"games_starts\">0</td><td class=\"right\" csk=\"23\" data-stat=\"minutes\">23</td><td class=\"right\" data-stat=\"minutes_90s\">0.3</td><td class=\"right iz group_start\" data-stat=\"goals\">0</td><td class=\"right iz\" data-stat=\"assists\">0</td><td class=\"right iz\" data-stat=\"goals_pens\">0</td><td class=\"right iz\" data-stat=\"pens_made\">0</td><td class=\"right iz\" data-stat=\"pens_att\">0</td><td class=\"right iz\" data-stat=\"cards_yellow\">0</td><td class=\"right iz\" data-stat=\"cards_red\">0</td><td class=\"right iz group_start\" data-stat=\"goals_per90\">0.00</td><td class=\"right iz\" data-stat=\"assists_per90\">0.00</td><td class=\"right iz\" data-stat=\"goals_assists_per90\">0.00</td><td class=\"right iz\" data-stat=\"goals_pens_per90\">0.00</td><td class=\"right iz\" data-stat=\"goals_assists_pens_per90\">0.00</td><td class=\"right group_start\" data-stat=\"xg\">0.1</td><td class=\"right\" data-stat=\"npxg\">0.1</td><td class=\"right iz\" data-stat=\"xg_assist\">0.0</td><td class=\"right\" data-stat=\"npxg_xg_assist\">0.1</td><td class=\"right group_start\" data-stat=\"xg_per90\">0.55</td><td class=\"right iz\" data-stat=\"xg_assist_per90\">0.00</td><td class=\"right\" data-stat=\"xg_xg_assist_per90\">0.55</td><td class=\"right\" data-stat=\"npxg_per90\">0.55</td><td class=\"right\" data-stat=\"npxg_xg_assist_per90\">0.55</td><td class=\"left group_start\" data-stat=\"matches\"><a href=\"/en/players/7124239e/matchlogs/2017-2018/summary/Kwasi-Okyere-Wriedt-Match-Logs\">Matches</a></td></tr> <tr><th class=\"left\" csk=\"Früchtl Christian\" data-append-csv=\"1940be91\" data-stat=\"player\" scope=\"row\"><a href=\"/en/players/1940be91/Christian-Fruchtl\">Christian Früchtl</a></th><td class=\"left poptip\" data-stat=\"nationality\" data-tip=\"YNT\"><a href=\"/en/country/GER/Germany-Football\"><span style=\"white-space: nowrap\"><span class=\"f-i f-de\" style=\"\">de</span> GER</span></a></td><td class=\"center\" csk=\"1.0\" data-stat=\"position\">GK</td><td class=\"center\" data-stat=\"age\">17</td><td class=\"right iz group_start\" data-stat=\"games\">0</td><td class=\"right iz\" data-stat=\"games_starts\">0</td><td class=\"right iz\" data-stat=\"minutes\"></td><td class=\"right iz\" data-stat=\"minutes_90s\"></td><td class=\"right iz group_start\" data-stat=\"goals\"></td><td class=\"right iz\" data-stat=\"assists\"></td><td class=\"right iz\" data-stat=\"goals_pens\"></td><td class=\"right iz\" data-stat=\"pens_made\"></td><td class=\"right iz\" data-stat=\"pens_att\"></td><td class=\"right iz\" data-stat=\"cards_yellow\"></td><td class=\"right iz\" data-stat=\"cards_red\"></td><td class=\"right iz group_start\" data-stat=\"goals_per90\"></td><td class=\"right iz\" data-stat=\"assists_per90\"></td><td class=\"right iz\" data-stat=\"goals_assists_per90\"></td><td class=\"right iz\" data-stat=\"goals_pens_per90\"></td><td class=\"right iz\" data-stat=\"goals_assists_pens_per90\"></td><td class=\"right iz group_start\" data-stat=\"xg\"></td><td class=\"right iz\" data-stat=\"npxg\"></td><td class=\"right iz\" data-stat=\"xg_assist\"></td><td class=\"right iz\" data-stat=\"npxg_xg_assist\"></td><td class=\"right iz group_start\" data-stat=\"xg_per90\"></td><td class=\"right iz\" data-stat=\"xg_assist_per90\"></td><td class=\"right iz\" data-stat=\"xg_xg_assist_per90\"></td><td class=\"right iz\" data-stat=\"npxg_per90\"></td><td class=\"right iz\" data-stat=\"npxg_xg_assist_per90\"></td><td class=\"left group_start\" data-stat=\"matches\">Matches</td></tr> <tr><th class=\"left\" csk=\"Götze Felix\" data-append-csv=\"ee7cdd0c\" data-stat=\"player\" scope=\"row\"><a href=\"/en/players/ee7cdd0c/Felix-Gotze\">Felix Götze</a></th><td class=\"left poptip\" data-stat=\"nationality\" data-tip=\"YNT\"><a href=\"/en/country/GER/Germany-Football\"><span style=\"white-space: nowrap\"><span class=\"f-i f-de\" style=\"\">de</span> GER</span></a></td><td class=\"center\" csk=\"2.3\" data-stat=\"position\">DF,MF</td><td class=\"center\" data-stat=\"age\">19</td><td class=\"right iz group_start\" data-stat=\"games\">0</td><td class=\"right iz\" data-stat=\"games_starts\">0</td><td class=\"right iz\" data-stat=\"minutes\"></td><td class=\"right iz\" data-stat=\"minutes_90s\"></td><td class=\"right iz group_start\" data-stat=\"goals\"></td><td class=\"right iz\" data-stat=\"assists\"></td><td class=\"right iz\" data-stat=\"goals_pens\"></td><td class=\"right iz\" data-stat=\"pens_made\"></td><td class=\"right iz\" data-stat=\"pens_att\"></td><td class=\"right iz\" data-stat=\"cards_yellow\"></td><td class=\"right iz\" data-stat=\"cards_red\"></td><td class=\"right iz group_start\" data-stat=\"goals_per90\"></td><td class=\"right iz\" data-stat=\"assists_per90\"></td><td class=\"right iz\" data-stat=\"goals_assists_per90\"></td><td class=\"right iz\" data-stat=\"goals_pens_per90\"></td><td class=\"right iz\" data-stat=\"goals_assists_pens_per90\"></td><td class=\"right iz group_start\" data-stat=\"xg\"></td><td class=\"right iz\" data-stat=\"npxg\"></td><td class=\"right iz\" data-stat=\"xg_assist\"></td><td class=\"right iz\" data-stat=\"npxg_xg_assist\"></td><td class=\"right iz group_start\" data-stat=\"xg_per90\"></td><td class=\"right iz\" data-stat=\"xg_assist_per90\"></td><td class=\"right iz\" data-stat=\"xg_xg_assist_per90\"></td><td class=\"right iz\" data-stat=\"npxg_per90\"></td><td class=\"right iz\" data-stat=\"npxg_xg_assist_per90\"></td><td class=\"left group_start\" data-stat=\"matches\">Matches</td></tr> <tr><th class=\"left\" csk=\"Hoffmann Ron-Thorben\" data-append-csv=\"f72f1743\" data-stat=\"player\" scope=\"row\"><a href=\"/en/players/f72f1743/Ron-Thorben-Hoffmann\">Ron-Thorben Hoffmann</a></th><td class=\"left poptip\" data-stat=\"nationality\" data-tip=\"birth\"><a href=\"/en/country/GER/Germany-Football\"><span style=\"white-space: nowrap\"><span class=\"f-i f-de\" style=\"\">de</span> GER</span></a></td><td class=\"center\" csk=\"1.0\" data-stat=\"position\">GK</td><td class=\"center\" data-stat=\"age\">18</td><td class=\"right iz group_start\" data-stat=\"games\">0</td><td class=\"right iz\" data-stat=\"games_starts\">0</td><td class=\"right iz\" data-stat=\"minutes\"></td><td class=\"right iz\" data-stat=\"minutes_90s\"></td><td class=\"right iz group_start\" data-stat=\"goals\"></td><td class=\"right iz\" data-stat=\"assists\"></td><td class=\"right iz\" data-stat=\"goals_pens\"></td><td class=\"right iz\" data-stat=\"pens_made\"></td><td class=\"right iz\" data-stat=\"pens_att\"></td><td class=\"right iz\" data-stat=\"cards_yellow\"></td><td class=\"right iz\" data-stat=\"cards_red\"></td><td class=\"right iz group_start\" data-stat=\"goals_per90\"></td><td class=\"right iz\" data-stat=\"assists_per90\"></td><td class=\"right iz\" data-stat=\"goals_assists_per90\"></td><td class=\"right iz\" data-stat=\"goals_pens_per90\"></td><td class=\"right iz\" data-stat=\"goals_assists_pens_per90\"></td><td class=\"right iz group_start\" data-stat=\"xg\"></td><td class=\"right iz\" data-stat=\"npxg\"></td><td class=\"right iz\" data-stat=\"xg_assist\"></td><td class=\"right iz\" data-stat=\"npxg_xg_assist\"></td><td class=\"right iz group_start\" data-stat=\"xg_per90\"></td><td class=\"right iz\" data-stat=\"xg_assist_per90\"></td><td class=\"right iz\" data-stat=\"xg_xg_assist_per90\"></td><td class=\"right iz\" data-stat=\"npxg_per90\"></td><td class=\"right iz\" data-stat=\"npxg_xg_assist_per90\"></td><td class=\"left group_start\" data-stat=\"matches\">Matches</td></tr> <tr><th class=\"left\" csk=\"Meier Jonathan\" data-append-csv=\"7fd0352e\" data-stat=\"player\" scope=\"row\"><a href=\"/en/players/7fd0352e/Jonathan-Meier\">Jonathan Meier</a></th><td class=\"left poptip\" data-stat=\"nationality\" data-tip=\"birth\"><a href=\"/en/country/GER/Germany-Football\"><span style=\"white-space: nowrap\"><span class=\"f-i f-de\" style=\"\">de</span> GER</span></a></td><td class=\"center\" csk=\"2.3\" data-stat=\"position\">DF,MF</td><td class=\"center\" data-stat=\"age\">17</td><td class=\"right iz group_start\" data-stat=\"games\">0</td><td class=\"right iz\" data-stat=\"games_starts\">0</td><td class=\"right iz\" data-stat=\"minutes\"></td><td class=\"right iz\" data-stat=\"minutes_90s\"></td><td class=\"right iz group_start\" data-stat=\"goals\"></td><td class=\"right iz\" data-stat=\"assists\"></td><td class=\"right iz\" data-stat=\"goals_pens\"></td><td class=\"right iz\" data-stat=\"pens_made\"></td><td class=\"right iz\" data-stat=\"pens_att\"></td><td class=\"right iz\" data-stat=\"cards_yellow\"></td><td class=\"right iz\" data-stat=\"cards_red\"></td><td class=\"right iz group_start\" data-stat=\"goals_per90\"></td><td class=\"right iz\" data-stat=\"assists_per90\"></td><td class=\"right iz\" data-stat=\"goals_assists_per90\"></td><td class=\"right iz\" data-stat=\"goals_pens_per90\"></td><td class=\"right iz\" data-stat=\"goals_assists_pens_per90\"></td><td class=\"right iz group_start\" data-stat=\"xg\"></td><td class=\"right iz\" data-stat=\"npxg\"></td><td class=\"right iz\" data-stat=\"xg_assist\"></td><td class=\"right iz\" data-stat=\"npxg_xg_assist\"></td><td class=\"right iz group_start\" data-stat=\"xg_per90\"></td><td class=\"right iz\" data-stat=\"xg_assist_per90\"></td><td class=\"right iz\" data-stat=\"xg_xg_assist_per90\"></td><td class=\"right iz\" data-stat=\"npxg_per90\"></td><td class=\"right iz\" data-stat=\"npxg_xg_assist_per90\"></td><td class=\"left group_start\" data-stat=\"matches\">Matches</td></tr> <tr><th class=\"left\" csk=\"Pantović Miloš\" data-append-csv=\"5dc15574\" data-stat=\"player\" scope=\"row\"><a href=\"/en/players/5dc15574/Milos-Pantovic\">Miloš Pantović</a></th><td class=\"left poptip\" data-stat=\"nationality\" data-tip=\"YNT\"><a href=\"/en/country/SRB/Serbia-Football\"><span style=\"white-space: nowrap\"><span class=\"f-i f-rs\" style=\"\">rs</span> SRB</span></a></td><td class=\"center\" csk=\"3.5\" data-stat=\"position\">FW,MF</td><td class=\"center\" data-stat=\"age\">21</td><td class=\"right iz group_start\" data-stat=\"games\">0</td><td class=\"right iz\" data-stat=\"games_starts\">0</td><td class=\"right iz\" data-stat=\"minutes\"></td><td class=\"right iz\" data-stat=\"minutes_90s\"></td><td class=\"right iz group_start\" data-stat=\"goals\"></td><td class=\"right iz\" data-stat=\"assists\"></td><td class=\"right iz\" data-stat=\"goals_pens\"></td><td class=\"right iz\" data-stat=\"pens_made\"></td><td class=\"right iz\" data-stat=\"pens_att\"></td><td class=\"right iz\" data-stat=\"cards_yellow\"></td><td class=\"right iz\" data-stat=\"cards_red\"></td><td class=\"right iz group_start\" data-stat=\"goals_per90\"></td><td class=\"right iz\" data-stat=\"assists_per90\"></td><td class=\"right iz\" data-stat=\"goals_assists_per90\"></td><td class=\"right iz\" data-stat=\"goals_pens_per90\"></td><td class=\"right iz\" data-stat=\"goals_assists_pens_per90\"></td><td class=\"right iz group_start\" data-stat=\"xg\"></td><td class=\"right iz\" data-stat=\"npxg\"></td><td class=\"right iz\" data-stat=\"xg_assist\"></td><td class=\"right iz\" data-stat=\"npxg_xg_assist\"></td><td class=\"right iz group_start\" data-stat=\"xg_per90\"></td><td class=\"right iz\" data-stat=\"xg_assist_per90\"></td><td class=\"right iz\" data-stat=\"xg_xg_assist_per90\"></td><td class=\"right iz\" data-stat=\"npxg_per90\"></td><td class=\"right iz\" data-stat=\"npxg_xg_assist_per90\"></td><td class=\"left group_start\" data-stat=\"matches\">Matches</td></tr> <tr><th class=\"left\" csk=\"Sanches Renato\" data-append-csv=\"032f894e\" data-stat=\"player\" scope=\"row\"><a href=\"/en/players/032f894e/Renato-Sanches\">Renato Sanches</a></th><td class=\"left poptip\" data-stat=\"nationality\" data-tip=\"NT\"><a href=\"/en/country/POR/Portugal-Football\"><span style=\"white-space: nowrap\"><span class=\"f-i f-pt\" style=\"\">pt</span> POR</span></a></td><td class=\"center\" csk=\"3.0\" data-stat=\"position\">MF</td><td class=\"center\" data-stat=\"age\">19</td><td class=\"right iz group_start\" data-stat=\"games\">0</td><td class=\"right iz\" data-stat=\"games_starts\">0</td><td class=\"right iz\" data-stat=\"minutes\"></td><td class=\"right iz\" data-stat=\"minutes_90s\"></td><td class=\"right iz group_start\" data-stat=\"goals\"></td><td class=\"right iz\" data-stat=\"assists\"></td><td class=\"right iz\" data-stat=\"goals_pens\"></td><td class=\"right iz\" data-stat=\"pens_made\"></td><td class=\"right iz\" data-stat=\"pens_att\"></td><td class=\"right iz\" data-stat=\"cards_yellow\"></td><td class=\"right iz\" data-stat=\"cards_red\"></td><td class=\"right iz group_start\" data-stat=\"goals_per90\"></td><td class=\"right iz\" data-stat=\"assists_per90\"></td><td class=\"right iz\" data-stat=\"goals_assists_per90\"></td><td class=\"right iz\" data-stat=\"goals_pens_per90\"></td><td class=\"right iz\" data-stat=\"goals_assists_pens_per90\"></td><td class=\"right iz group_start\" data-stat=\"xg\"></td><td class=\"right iz\" data-stat=\"npxg\"></td><td class=\"right iz\" data-stat=\"xg_assist\"></td><td class=\"right iz\" data-stat=\"npxg_xg_assist\"></td><td class=\"right iz group_start\" data-stat=\"xg_per90\"></td><td class=\"right iz\" data-stat=\"xg_assist_per90\"></td><td class=\"right iz\" data-stat=\"xg_xg_assist_per90\"></td><td class=\"right iz\" data-stat=\"npxg_per90\"></td><td class=\"right iz\" data-stat=\"npxg_xg_assist_per90\"></td><td class=\"left group_start\" data-stat=\"matches\">Matches</td></tr> <tr><th class=\"left\" csk=\"Weinkauf Leo\" data-append-csv=\"d120d6dc\" data-stat=\"player\" scope=\"row\"><a href=\"/en/players/d120d6dc/Leo-Weinkauf\">Leo Weinkauf</a></th><td class=\"left poptip\" data-stat=\"nationality\" data-tip=\"birth\"><a href=\"/en/country/GER/Germany-Football\"><span style=\"white-space: nowrap\"><span class=\"f-i f-de\" style=\"\">de</span> GER</span></a></td><td class=\"center\" csk=\"1.0\" data-stat=\"position\">GK</td><td class=\"center\" data-stat=\"age\">21</td><td class=\"right iz group_start\" data-stat=\"games\">0</td><td class=\"right iz\" data-stat=\"games_starts\">0</td><td class=\"right iz\" data-stat=\"minutes\"></td><td class=\"right iz\" data-stat=\"minutes_90s\"></td><td class=\"right iz group_start\" data-stat=\"goals\"></td><td class=\"right iz\" data-stat=\"assists\"></td><td class=\"right iz\" data-stat=\"goals_pens\"></td><td class=\"right iz\" data-stat=\"pens_made\"></td><td class=\"right iz\" data-stat=\"pens_att\"></td><td class=\"right iz\" data-stat=\"cards_yellow\"></td><td class=\"right iz\" data-stat=\"cards_red\"></td><td class=\"right iz group_start\" data-stat=\"goals_per90\"></td><td class=\"right iz\" data-stat=\"assists_per90\"></td><td class=\"right iz\" data-stat=\"goals_assists_per90\"></td><td class=\"right iz\" data-stat=\"goals_pens_per90\"></td><td class=\"right iz\" data-stat=\"goals_assists_pens_per90\"></td><td class=\"right iz group_start\" data-stat=\"xg\"></td><td class=\"right iz\" data-stat=\"npxg\"></td><td class=\"right iz\" data-stat=\"xg_assist\"></td><td class=\"right iz\" data-stat=\"npxg_xg_assist\"></td><td class=\"right iz group_start\" data-stat=\"xg_per90\"></td><td class=\"right iz\" data-stat=\"xg_assist_per90\"></td><td class=\"right iz\" data-stat=\"xg_xg_assist_per90\"></td><td class=\"right iz\" data-stat=\"npxg_per90\"></td><td class=\"right iz\" data-stat=\"npxg_xg_assist_per90\"></td><td class=\"left group_start\" data-stat=\"matches\">Matches</td></tr> </tbody>>"
      ]
     },
     "execution_count": 13,
     "metadata": {},
     "output_type": "execute_result"
    }
   ],
   "source": [
    "soup_team.prettify"
   ]
  },
  {
   "cell_type": "code",
   "execution_count": 14,
   "id": "bccdfab7",
   "metadata": {},
   "outputs": [],
   "source": [
    "# si no quitamos summary tenemos resumen de stats por partido\n",
    "links_jugadores = []\n",
    "for a in soup_team.find_all('a', href=True):\n",
    "    link = a['href']\n",
    "    if (link.find('players') != -1) and (link.find('Logs') == -1):\n",
    "        links_jugadores.append(link)\n",
    "    else:\n",
    "        pass"
   ]
  },
  {
   "cell_type": "code",
   "execution_count": 17,
   "id": "e1b2420f",
   "metadata": {},
   "outputs": [
    {
     "data": {
      "text/plain": [
       "['/en/players/7d3e7da6/Sven-Ulreich',\n",
       " '/en/players/49296448/Joshua-Kimmich',\n",
       " '/en/players/05d548d8/Mats-Hummels',\n",
       " '/en/players/8d78e732/Robert-Lewandowski',\n",
       " '/en/players/3c6089ab/Thomas-Muller',\n",
       " '/en/players/e33c06cf/Niklas-Sule',\n",
       " '/en/players/d003e213/Rafinha',\n",
       " '/en/players/2db2fd7b/Jerome-Boateng',\n",
       " '/en/players/715bf047/James-Rodriguez',\n",
       " '/en/players/09586899/Arjen-Robben',\n",
       " '/en/players/7f97771d/Javi-Martinez',\n",
       " '/en/players/652d4c37/Corentin-Tolisso',\n",
       " '/en/players/05439de2/David-Alaba',\n",
       " '/en/players/67cdbc0e/Arturo-Vidal',\n",
       " '/en/players/80f36c88/Sebastian-Rudy',\n",
       " '/en/players/f61c7c4e/Franck-Ribery',\n",
       " '/en/players/77e84962/Thiago-Alcantara',\n",
       " '/en/players/433dc9a2/Juan-Bernat',\n",
       " '/en/players/042e8a49/Kingsley-Coman',\n",
       " '/en/players/61b0b44d/Sandro-Wagner',\n",
       " '/en/players/8778c910/Manuel-Neuer',\n",
       " '/en/players/95173427/Lars-Lukas-Mai',\n",
       " '/en/players/5b52d1f7/Tom-Starke',\n",
       " '/en/players/44e471ca/Franck-Evina',\n",
       " '/en/players/7f73bdf4/Niklas-Dorsch',\n",
       " '/en/players/012c38ec/Meritan-Shabani',\n",
       " '/en/players/f86ad3f5/Marco-Friedl',\n",
       " '/en/players/7124239e/Kwasi-Okyere-Wriedt',\n",
       " '/en/players/1940be91/Christian-Fruchtl',\n",
       " '/en/players/ee7cdd0c/Felix-Gotze',\n",
       " '/en/players/f72f1743/Ron-Thorben-Hoffmann',\n",
       " '/en/players/7fd0352e/Jonathan-Meier',\n",
       " '/en/players/5dc15574/Milos-Pantovic',\n",
       " '/en/players/032f894e/Renato-Sanches',\n",
       " '/en/players/d120d6dc/Leo-Weinkauf']"
      ]
     },
     "execution_count": 17,
     "metadata": {},
     "output_type": "execute_result"
    }
   ],
   "source": [
    "links_jugadores"
   ]
  },
  {
   "cell_type": "code",
   "execution_count": 50,
   "id": "15b26bf2",
   "metadata": {},
   "outputs": [],
   "source": [
    "r_player = requests.get('https://fbref.com/'+links_jugadores[1])\n",
    "player_soup = BeautifulSoup(r_player.text)"
   ]
  },
  {
   "cell_type": "code",
   "execution_count": 51,
   "id": "cdcfafc9",
   "metadata": {},
   "outputs": [],
   "source": [
    "player_soup = player_soup.tbody"
   ]
  },
  {
   "cell_type": "code",
   "execution_count": 52,
   "id": "f4ca6a14",
   "metadata": {},
   "outputs": [
    {
     "data": {
      "text/plain": [
       "<tbody> <tr><th class=\"right poptip endpoint endpoint\" data-endpoint=\"/en/ajax/glossary.cgi?html=1&amp;stat=goals_pens\" data-stat=\"statistic\" data-tip=\"Non-Penalty Goals\" scope=\"row\" style=\"color: #000\">Non-Penalty Goals</th><td class=\"right\" csk=\"0.05\" data-stat=\"per90\">0.05</td><td class=\"left endpoint endpoint tooltip\" csk=\"40\" data-endpoint=\"/en/ajax/distribution.cgi?html=1&amp;person_id=49296448&amp;name_display=Joshua Kimmich&amp;pool=365_m1&amp;pos=MF&amp;stat=goals_pens&amp;pos_title=Midfielders\" data-stat=\"percentile\"><div align=\"right\" style=\"display: inline-block; width: 1.75em;\">40</div> <div style=\"width: min(30vw,190px); display: inline-block;\"> <div style=\"display: inline-block; width: 40%; background-color: rgb(175 150 150);\"> </div> </div> </td></tr> <tr><th class=\"right poptip endpoint endpoint\" data-endpoint=\"/en/ajax/glossary.cgi?html=1&amp;stat=npxg\" data-stat=\"statistic\" data-tip=\"&lt;strong&gt;Non-Penalty Expected Goals&lt;/strong&gt;&lt;br&gt;Provided by Opta.&lt;br&gt;An underline indicates there is a match that is missing data, but will be updated when available.\" scope=\"row\" style=\"color: #000\">Non-Penalty xG</th><td class=\"right\" csk=\"0.06\" data-stat=\"per90\">0.06</td><td class=\"left endpoint endpoint tooltip\" csk=\"38\" data-endpoint=\"/en/ajax/distribution.cgi?html=1&amp;person_id=49296448&amp;name_display=Joshua Kimmich&amp;pool=365_m1&amp;pos=MF&amp;stat=npxg&amp;pos_title=Midfielders\" data-stat=\"percentile\"><div align=\"right\" style=\"display: inline-block; width: 1.75em;\">38</div> <div style=\"width: min(30vw,190px); display: inline-block;\"> <div style=\"display: inline-block; width: 38%; background-color: rgb(175 145 145);\"> </div> </div> </td></tr> <tr><th class=\"right poptip endpoint endpoint\" data-endpoint=\"/en/ajax/glossary.cgi?html=1&amp;stat=shots\" data-stat=\"statistic\" data-tip=\"Shots Total&lt;br&gt;Does not include penalty kicks\" scope=\"row\" style=\"color: #000\">Shots Total</th><td class=\"right\" csk=\"1.23\" data-stat=\"per90\">1.23</td><td class=\"left endpoint endpoint tooltip\" csk=\"68\" data-endpoint=\"/en/ajax/distribution.cgi?html=1&amp;person_id=49296448&amp;name_display=Joshua Kimmich&amp;pool=365_m1&amp;pos=MF&amp;stat=shots&amp;pos_title=Midfielders\" data-stat=\"percentile\"><div align=\"right\" style=\"display: inline-block; width: 1.75em;\">68</div> <div style=\"width: min(30vw,190px); display: inline-block;\"> <div style=\"display: inline-block; width: 68%; background-color: rgb(130 175 130);\"> </div> </div> </td></tr> <tr><th class=\"right poptip endpoint endpoint\" data-endpoint=\"/en/ajax/glossary.cgi?html=1&amp;stat=assists\" data-stat=\"statistic\" data-tip=\"Assists\" scope=\"row\" style=\"color: #000\">Assists</th><td class=\"right\" csk=\"0.36\" data-stat=\"per90\">0.36</td><td class=\"left endpoint endpoint tooltip\" csk=\"99\" data-endpoint=\"/en/ajax/distribution.cgi?html=1&amp;person_id=49296448&amp;name_display=Joshua Kimmich&amp;pool=365_m1&amp;pos=MF&amp;stat=assists&amp;pos_title=Midfielders\" data-stat=\"percentile\"><div align=\"right\" style=\"display: inline-block; width: 1.75em;\">99</div> <div style=\"width: min(30vw,190px); display: inline-block;\"> <div style=\"display: inline-block; width: 99%; background-color: rgb(52 175 52);\"> </div> </div> </td></tr> <tr><th class=\"right poptip endpoint endpoint\" data-endpoint=\"/en/ajax/glossary.cgi?html=1&amp;stat=xg_assist\" data-stat=\"statistic\" data-tip=\"&lt;strong&gt;Expected Assisted Goals&lt;/strong&gt;&lt;br&gt;xG which follows a pass that assists a shot&lt;br&gt;Provided by Opta.&lt;br&gt;An underline indicates there is a match that is missing data, but will be updated when available.\" scope=\"row\" style=\"color: #000\">xAG</th><td class=\"right\" csk=\"0.34\" data-stat=\"per90\">0.34</td><td class=\"left endpoint endpoint tooltip\" csk=\"99\" data-endpoint=\"/en/ajax/distribution.cgi?html=1&amp;person_id=49296448&amp;name_display=Joshua Kimmich&amp;pool=365_m1&amp;pos=MF&amp;stat=xg_assist&amp;pos_title=Midfielders\" data-stat=\"percentile\"><div align=\"right\" style=\"display: inline-block; width: 1.75em;\">99</div> <div style=\"width: min(30vw,190px); display: inline-block;\"> <div style=\"display: inline-block; width: 99%; background-color: rgb(52 175 52);\"> </div> </div> </td></tr> <tr><th class=\"right poptip endpoint endpoint\" data-endpoint=\"/en/ajax/glossary.cgi?html=1&amp;stat=npxg_xg_assist\" data-stat=\"statistic\" data-tip=\"Non-Penalty Expected Goals plus Assisted Goals&lt;br&gt;xG totals include penalty kicks, but do not include penalty shootouts (unless otherwise noted).&lt;br&gt;Provided by Opta.&lt;br&gt;An underline indicates there is a match that is missing data, but will be updated when available.&lt;br&gt;Minimum 30 minutes played per squad game to qualify as a leader\" scope=\"row\" style=\"color: #000\">npxG + xAG</th><td class=\"right\" csk=\"0.40\" data-stat=\"per90\">0.40</td><td class=\"left endpoint endpoint tooltip\" csk=\"95\" data-endpoint=\"/en/ajax/distribution.cgi?html=1&amp;person_id=49296448&amp;name_display=Joshua Kimmich&amp;pool=365_m1&amp;pos=MF&amp;stat=npxg_xg_assist&amp;pos_title=Midfielders\" data-stat=\"percentile\"><div align=\"right\" style=\"display: inline-block; width: 1.75em;\">95</div> <div style=\"width: min(30vw,190px); display: inline-block;\"> <div style=\"display: inline-block; width: 95%; background-color: rgb(62 175 62);\"> </div> </div> </td></tr> <tr><th class=\"right poptip endpoint endpoint\" data-endpoint=\"/en/ajax/glossary.cgi?html=1&amp;stat=sca\" data-stat=\"statistic\" data-tip=\"Shot-Creating Actions&lt;br&gt;The two offensive actions directly leading to a shot, such as passes, dribbles and drawing fouls. Note: A single player can receive credit for multiple actions and the shot-taker can also receive credit.\" scope=\"row\" style=\"color: #000\">Shot-Creating Actions</th><td class=\"right\" csk=\"5.79\" data-stat=\"per90\">5.79</td><td class=\"left endpoint endpoint tooltip\" csk=\"99\" data-endpoint=\"/en/ajax/distribution.cgi?html=1&amp;person_id=49296448&amp;name_display=Joshua Kimmich&amp;pool=365_m1&amp;pos=MF&amp;stat=sca&amp;pos_title=Midfielders\" data-stat=\"percentile\"><div align=\"right\" style=\"display: inline-block; width: 1.75em;\">99</div> <div style=\"width: min(30vw,190px); display: inline-block;\"> <div style=\"display: inline-block; width: 99%; background-color: rgb(52 175 52);\"> </div> </div> </td></tr> <tr class=\"spacer partial_table\" style=\"background-color:#ddd; padding:0px;\"><th class=\"right iz\" data-stat=\"statistic\" scope=\"row\" style=\"padding:1px;\"></th><td class=\"right iz\" data-stat=\"per90\" style=\"padding:1px;\"></td><td class=\"left iz\" data-stat=\"percentile\" style=\"padding:1px;\"></td></tr> <tr><th class=\"right poptip endpoint endpoint\" data-endpoint=\"/en/ajax/glossary.cgi?html=1&amp;stat=passes\" data-stat=\"statistic\" data-tip=\"Passes Attempted\" scope=\"row\" style=\"color: #000\">Passes Attempted</th><td class=\"right\" csk=\"92.98\" data-stat=\"per90\">92.98</td><td class=\"left endpoint endpoint tooltip\" csk=\"99\" data-endpoint=\"/en/ajax/distribution.cgi?html=1&amp;person_id=49296448&amp;name_display=Joshua Kimmich&amp;pool=365_m1&amp;pos=MF&amp;stat=passes&amp;pos_title=Midfielders\" data-stat=\"percentile\"><div align=\"right\" style=\"display: inline-block; width: 1.75em;\">99</div> <div style=\"width: min(30vw,190px); display: inline-block;\"> <div style=\"display: inline-block; width: 99%; background-color: rgb(52 175 52);\"> </div> </div> </td></tr> <tr><th class=\"right poptip endpoint endpoint\" data-endpoint=\"/en/ajax/glossary.cgi?html=1&amp;stat=passes_pct\" data-stat=\"statistic\" data-tip=\"Pass Completion Percentage&lt;br&gt;Minimum 30 minutes played per squad game to qualify as a leader\" scope=\"row\" style=\"color: #000\">Pass Completion %</th><td class=\"right\" csk=\"84.6\" data-stat=\"per90\">84.6%</td><td class=\"left endpoint endpoint tooltip\" csk=\"68\" data-endpoint=\"/en/ajax/distribution.cgi?html=1&amp;person_id=49296448&amp;name_display=Joshua Kimmich&amp;pool=365_m1&amp;pos=MF&amp;stat=passes_pct&amp;pos_title=Midfielders\" data-stat=\"percentile\"><div align=\"right\" style=\"display: inline-block; width: 1.75em;\">68</div> <div style=\"width: min(30vw,190px); display: inline-block;\"> <div style=\"display: inline-block; width: 68%; background-color: rgb(130 175 130);\"> </div> </div> </td></tr> <tr><th class=\"right poptip endpoint endpoint\" data-endpoint=\"/en/ajax/glossary.cgi?html=1&amp;stat=progressive_passes\" data-stat=\"statistic\" data-tip=\"Progressive Passes&lt;br&gt;Completed passes that move the ball towards the opponent's goal at least 10 yards from its furthest point in the last six passes, or any completed pass into the penalty area. Excludes passes from the defending 40% of the pitch\" scope=\"row\" style=\"color: #000\">Progressive Passes</th><td class=\"right\" csk=\"8.85\" data-stat=\"per90\">8.85</td><td class=\"left endpoint endpoint tooltip\" csk=\"99\" data-endpoint=\"/en/ajax/distribution.cgi?html=1&amp;person_id=49296448&amp;name_display=Joshua Kimmich&amp;pool=365_m1&amp;pos=MF&amp;stat=progressive_passes&amp;pos_title=Midfielders\" data-stat=\"percentile\"><div align=\"right\" style=\"display: inline-block; width: 1.75em;\">99</div> <div style=\"width: min(30vw,190px); display: inline-block;\"> <div style=\"display: inline-block; width: 99%; background-color: rgb(52 175 52);\"> </div> </div> </td></tr> <tr><th class=\"right poptip endpoint endpoint\" data-endpoint=\"/en/ajax/glossary.cgi?html=1&amp;stat=dribbles_completed\" data-stat=\"statistic\" data-tip=\"Dribbles Completed Successfully\" scope=\"row\" style=\"color: #000\">Dribbles Completed</th><td class=\"right\" csk=\"0.75\" data-stat=\"per90\">0.75</td><td class=\"left endpoint endpoint tooltip\" csk=\"56\" data-endpoint=\"/en/ajax/distribution.cgi?html=1&amp;person_id=49296448&amp;name_display=Joshua Kimmich&amp;pool=365_m1&amp;pos=MF&amp;stat=dribbles_completed&amp;pos_title=Midfielders\" data-stat=\"percentile\"><div align=\"right\" style=\"display: inline-block; width: 1.75em;\">56</div> <div style=\"width: min(30vw,190px); display: inline-block;\"> <div style=\"display: inline-block; width: 56%; background-color: rgb(160 175 160);\"> </div> </div> </td></tr> <tr><th class=\"right poptip endpoint endpoint\" data-endpoint=\"/en/ajax/glossary.cgi?html=1&amp;stat=touches_att_pen_area\" data-stat=\"statistic\" data-tip=\"Touches in attacking penalty area\" scope=\"row\" style=\"color: #000\">Touches (Att Pen)</th><td class=\"right\" csk=\"0.67\" data-stat=\"per90\">0.67</td><td class=\"left endpoint endpoint tooltip\" csk=\"27\" data-endpoint=\"/en/ajax/distribution.cgi?html=1&amp;person_id=49296448&amp;name_display=Joshua Kimmich&amp;pool=365_m1&amp;pos=MF&amp;stat=touches_att_pen_area&amp;pos_title=Midfielders\" data-stat=\"percentile\"><div align=\"right\" style=\"display: inline-block; width: 1.75em;\">27</div> <div style=\"width: min(30vw,190px); display: inline-block;\"> <div style=\"display: inline-block; width: 27%; background-color: rgb(175 118 118);\"> </div> </div> </td></tr> <tr><th class=\"right poptip endpoint endpoint\" data-endpoint=\"/en/ajax/glossary.cgi?html=1&amp;stat=progressive_passes_received\" data-stat=\"statistic\" data-tip=\"Progressive Passes Received&lt;br&gt;Completed passes that move the ball towards the opponent's goal at least 10 yards from its furthest point in the last six passes, or any completed pass into the penalty area. Excludes passes from the defending 40% of the pitch\" scope=\"row\" style=\"color: #000\">Progressive Passes Rec</th><td class=\"right\" csk=\"1.65\" data-stat=\"per90\">1.65</td><td class=\"left endpoint endpoint tooltip\" csk=\"53\" data-endpoint=\"/en/ajax/distribution.cgi?html=1&amp;person_id=49296448&amp;name_display=Joshua Kimmich&amp;pool=365_m1&amp;pos=MF&amp;stat=progressive_passes_received&amp;pos_title=Midfielders\" data-stat=\"percentile\"><div align=\"right\" style=\"display: inline-block; width: 1.75em;\">53</div> <div style=\"width: min(30vw,190px); display: inline-block;\"> <div style=\"display: inline-block; width: 53%; background-color: rgb(168 175 168);\"> </div> </div> </td></tr> <tr class=\"spacer partial_table\" style=\"background-color:#ddd; padding:0px;\"><th class=\"right iz\" data-stat=\"statistic\" scope=\"row\" style=\"padding:1px;\"></th><td class=\"right iz\" data-stat=\"per90\" style=\"padding:1px;\"></td><td class=\"left iz\" data-stat=\"percentile\" style=\"padding:1px;\"></td></tr> <tr><th class=\"right poptip endpoint endpoint\" data-endpoint=\"/en/ajax/glossary.cgi?html=1&amp;stat=tackles\" data-stat=\"statistic\" data-tip=\"Number of players tackled\" scope=\"row\" style=\"color: #000\">Tackles</th><td class=\"right\" csk=\"2.08\" data-stat=\"per90\">2.08</td><td class=\"left endpoint endpoint tooltip\" csk=\"51\" data-endpoint=\"/en/ajax/distribution.cgi?html=1&amp;person_id=49296448&amp;name_display=Joshua Kimmich&amp;pool=365_m1&amp;pos=MF&amp;stat=tackles&amp;pos_title=Midfielders\" data-stat=\"percentile\"><div align=\"right\" style=\"display: inline-block; width: 1.75em;\">51</div> <div style=\"width: min(30vw,190px); display: inline-block;\"> <div style=\"display: inline-block; width: 51%; background-color: rgb(172 175 172);\"> </div> </div> </td></tr> <tr><th class=\"right poptip endpoint endpoint\" data-endpoint=\"/en/ajax/glossary.cgi?html=1&amp;stat=interceptions\" data-stat=\"statistic\" data-tip=\"Interceptions\" scope=\"row\" style=\"color: #000\">Interceptions</th><td class=\"right\" csk=\"1.95\" data-stat=\"per90\">1.95</td><td class=\"left endpoint endpoint tooltip\" csk=\"95\" data-endpoint=\"/en/ajax/distribution.cgi?html=1&amp;person_id=49296448&amp;name_display=Joshua Kimmich&amp;pool=365_m1&amp;pos=MF&amp;stat=interceptions&amp;pos_title=Midfielders\" data-stat=\"percentile\"><div align=\"right\" style=\"display: inline-block; width: 1.75em;\">95</div> <div style=\"width: min(30vw,190px); display: inline-block;\"> <div style=\"display: inline-block; width: 95%; background-color: rgb(62 175 62);\"> </div> </div> </td></tr> <tr><th class=\"right poptip endpoint endpoint\" data-endpoint=\"/en/ajax/glossary.cgi?html=1&amp;stat=blocks\" data-stat=\"statistic\" data-tip=\"Number of times blocking the ball by standing in its path\" scope=\"row\" style=\"color: #000\">Blocks</th><td class=\"right\" csk=\"1.11\" data-stat=\"per90\">1.11</td><td class=\"left endpoint endpoint tooltip\" csk=\"38\" data-endpoint=\"/en/ajax/distribution.cgi?html=1&amp;person_id=49296448&amp;name_display=Joshua Kimmich&amp;pool=365_m1&amp;pos=MF&amp;stat=blocks&amp;pos_title=Midfielders\" data-stat=\"percentile\"><div align=\"right\" style=\"display: inline-block; width: 1.75em;\">38</div> <div style=\"width: min(30vw,190px); display: inline-block;\"> <div style=\"display: inline-block; width: 38%; background-color: rgb(175 145 145);\"> </div> </div> </td></tr> <tr><th class=\"right poptip endpoint endpoint\" data-endpoint=\"/en/ajax/glossary.cgi?html=1&amp;stat=clearances\" data-stat=\"statistic\" data-tip=\"Clearances\" scope=\"row\" style=\"color: #000\">Clearances</th><td class=\"right\" csk=\"1.05\" data-stat=\"per90\">1.05</td><td class=\"left endpoint endpoint tooltip\" csk=\"54\" data-endpoint=\"/en/ajax/distribution.cgi?html=1&amp;person_id=49296448&amp;name_display=Joshua Kimmich&amp;pool=365_m1&amp;pos=MF&amp;stat=clearances&amp;pos_title=Midfielders\" data-stat=\"percentile\"><div align=\"right\" style=\"display: inline-block; width: 1.75em;\">54</div> <div style=\"width: min(30vw,190px); display: inline-block;\"> <div style=\"display: inline-block; width: 54%; background-color: rgb(165 175 165);\"> </div> </div> </td></tr> <tr><th class=\"right poptip endpoint endpoint\" data-endpoint=\"/en/ajax/glossary.cgi?html=1&amp;stat=aerials_won\" data-stat=\"statistic\" data-tip=\"Aerials won\" scope=\"row\" style=\"color: #000\">Aerials won</th><td class=\"right\" csk=\"0.67\" data-stat=\"per90\">0.67</td><td class=\"left endpoint endpoint tooltip\" csk=\"35\" data-endpoint=\"/en/ajax/distribution.cgi?html=1&amp;person_id=49296448&amp;name_display=Joshua Kimmich&amp;pool=365_m1&amp;pos=MF&amp;stat=aerials_won&amp;pos_title=Midfielders\" data-stat=\"percentile\"><div align=\"right\" style=\"display: inline-block; width: 1.75em;\">35</div> <div style=\"width: min(30vw,190px); display: inline-block;\"> <div style=\"display: inline-block; width: 35%; background-color: rgb(175 138 138);\"> </div> </div> </td></tr> </tbody>"
      ]
     },
     "execution_count": 52,
     "metadata": {},
     "output_type": "execute_result"
    }
   ],
   "source": [
    "player_soup"
   ]
  },
  {
   "cell_type": "code",
   "execution_count": 56,
   "id": "3f2df66b",
   "metadata": {},
   "outputs": [],
   "source": [
    "# Find all <tr> elements with the attribute 'data-row'\n",
    "rows = player_soup.find_all('tr')\n",
    "\n",
    "# Initialize empty arrays to store the text values\n",
    "statistics = []\n",
    "per90 = []\n",
    "percentile = []\n",
    "\n",
    "# Iterate through each row\n",
    "for row in rows:\n",
    "    # Find the <th> element with the 'statistic' attribute\n",
    "    statistic = row.find('th', {'data-stat': 'statistic'}).text\n",
    "    # Append the text to the 'statistics' array\n",
    "    statistics.append(statistic)\n",
    "\n",
    "    # Find the <td> element with the 'per90' attribute\n",
    "    per90_value = row.find('td', {'data-stat': 'per90'}).text\n",
    "    # Append the text to the 'per90' array\n",
    "    per90.append(per90_value)\n",
    "\n",
    "    # Find the <td> element with the 'percentile' attribute\n",
    "    percentile_value = row.find('td', {'data-stat': 'percentile'}).text\n",
    "    # Append the text to the 'percentile' array\n",
    "    percentile.append(percentile_value)"
   ]
  },
  {
   "cell_type": "code",
   "execution_count": 75,
   "id": "dba602a3",
   "metadata": {},
   "outputs": [
    {
     "name": "stdout",
     "output_type": "stream",
     "text": [
      "['40  \\xa0  ', '38  \\xa0  ', '68  \\xa0  ', '99  \\xa0  ', '99  \\xa0  ', '95  \\xa0  ', '99  \\xa0  ', '', '99  \\xa0  ', '68  \\xa0  ', '99  \\xa0  ', '56  \\xa0  ', '27  \\xa0  ', '53  \\xa0  ', '', '51  \\xa0  ', '95  \\xa0  ', '38  \\xa0  ', '54  \\xa0  ', '35  \\xa0  ']\n"
     ]
    }
   ],
   "source": [
    "print(percentile)"
   ]
  },
  {
   "cell_type": "code",
   "execution_count": 80,
   "id": "aecba732",
   "metadata": {},
   "outputs": [],
   "source": [
    "def extract_player_stats(player_soup):\n",
    "    # Find all <tr> elements with the attribute 'data-row'\n",
    "    rows = player_soup.find_all('tr')\n",
    "\n",
    "    # Initialize empty arrays to store the text values\n",
    "    statistics = []\n",
    "    per90 = []\n",
    "    percentile = []\n",
    "\n",
    "    # Iterate through each row\n",
    "    for row in rows:\n",
    "        # Find the <th> element with the 'statistic' attribute\n",
    "        statistic = row.find('th', {'data-stat': 'statistic'}).text\n",
    "        # Append the text to the 'statistics' array\n",
    "        if len(statistic)>1:\n",
    "            statistics.append(statistic)\n",
    "\n",
    "        # Find the <td> element with the 'per90' attribute\n",
    "        per90_value = row.find('td', {'data-stat': 'per90'}).text\n",
    "        # Append the text to the 'per90' array\n",
    "        if len(per90_value)>1:\n",
    "            per90.append(per90_value)\n",
    "\n",
    "        # Find the <td> element with the 'percentile' attribute\n",
    "        percentile_value = row.find('td', {'data-stat': 'percentile'}).text\n",
    "        # Append the text to the 'percentile' array\n",
    "        if len(per90_value)>1:\n",
    "            percentile.append(percentile_value)\n",
    "            \n",
    "    print(len(statistics))   \n",
    "    print(len(per90))\n",
    "    print(len(percentile))\n",
    "\n",
    "    \n",
    "    df_statistics = pd.DataFrame([per90],columns = statistics)\n",
    "    df_percentile = pd.DataFrame([percentile],columns =statistics)\n",
    "    \n",
    "    \n",
    "    return df_percentile, df_statistics"
   ]
  },
  {
   "cell_type": "code",
   "execution_count": 81,
   "id": "cb292e41",
   "metadata": {},
   "outputs": [
    {
     "name": "stdout",
     "output_type": "stream",
     "text": [
      "18\n",
      "18\n",
      "18\n"
     ]
    }
   ],
   "source": [
    "df_percentile, df_statistics = extract_player_stats(player_soup)"
   ]
  },
  {
   "cell_type": "code",
   "execution_count": 86,
   "id": "f8c440da",
   "metadata": {},
   "outputs": [
    {
     "data": {
      "text/plain": [
       "Index(['Non-Penalty Goals', 'Non-Penalty xG', 'Shots Total', 'Assists', 'xAG',\n",
       "       'npxG + xAG', 'Shot-Creating Actions', 'Passes Attempted',\n",
       "       'Pass Completion %', 'Progressive Passes', 'Dribbles Completed',\n",
       "       'Touches (Att Pen)', 'Progressive Passes Rec', 'Tackles',\n",
       "       'Interceptions', 'Blocks', 'Clearances', 'Aerials won'],\n",
       "      dtype='object')"
      ]
     },
     "execution_count": 86,
     "metadata": {},
     "output_type": "execute_result"
    }
   ],
   "source": [
    "df_statistics.columns"
   ]
  },
  {
   "cell_type": "code",
   "execution_count": null,
   "id": "321e12a4",
   "metadata": {},
   "outputs": [],
   "source": []
  },
  {
   "cell_type": "code",
   "execution_count": 54,
   "id": "5e8084ab",
   "metadata": {},
   "outputs": [
    {
     "data": {
      "text/plain": [
       "[<tr><th class=\"right poptip endpoint endpoint\" data-endpoint=\"/en/ajax/glossary.cgi?html=1&amp;stat=goals_pens\" data-stat=\"statistic\" data-tip=\"Non-Penalty Goals\" scope=\"row\" style=\"color: #000\">Non-Penalty Goals</th><td class=\"right\" csk=\"0.05\" data-stat=\"per90\">0.05</td><td class=\"left endpoint endpoint tooltip\" csk=\"40\" data-endpoint=\"/en/ajax/distribution.cgi?html=1&amp;person_id=49296448&amp;name_display=Joshua Kimmich&amp;pool=365_m1&amp;pos=MF&amp;stat=goals_pens&amp;pos_title=Midfielders\" data-stat=\"percentile\"><div align=\"right\" style=\"display: inline-block; width: 1.75em;\">40</div> <div style=\"width: min(30vw,190px); display: inline-block;\"> <div style=\"display: inline-block; width: 40%; background-color: rgb(175 150 150);\"> </div> </div> </td></tr>,\n",
       " <tr><th class=\"right poptip endpoint endpoint\" data-endpoint=\"/en/ajax/glossary.cgi?html=1&amp;stat=npxg\" data-stat=\"statistic\" data-tip=\"&lt;strong&gt;Non-Penalty Expected Goals&lt;/strong&gt;&lt;br&gt;Provided by Opta.&lt;br&gt;An underline indicates there is a match that is missing data, but will be updated when available.\" scope=\"row\" style=\"color: #000\">Non-Penalty xG</th><td class=\"right\" csk=\"0.06\" data-stat=\"per90\">0.06</td><td class=\"left endpoint endpoint tooltip\" csk=\"38\" data-endpoint=\"/en/ajax/distribution.cgi?html=1&amp;person_id=49296448&amp;name_display=Joshua Kimmich&amp;pool=365_m1&amp;pos=MF&amp;stat=npxg&amp;pos_title=Midfielders\" data-stat=\"percentile\"><div align=\"right\" style=\"display: inline-block; width: 1.75em;\">38</div> <div style=\"width: min(30vw,190px); display: inline-block;\"> <div style=\"display: inline-block; width: 38%; background-color: rgb(175 145 145);\"> </div> </div> </td></tr>,\n",
       " <tr><th class=\"right poptip endpoint endpoint\" data-endpoint=\"/en/ajax/glossary.cgi?html=1&amp;stat=shots\" data-stat=\"statistic\" data-tip=\"Shots Total&lt;br&gt;Does not include penalty kicks\" scope=\"row\" style=\"color: #000\">Shots Total</th><td class=\"right\" csk=\"1.23\" data-stat=\"per90\">1.23</td><td class=\"left endpoint endpoint tooltip\" csk=\"68\" data-endpoint=\"/en/ajax/distribution.cgi?html=1&amp;person_id=49296448&amp;name_display=Joshua Kimmich&amp;pool=365_m1&amp;pos=MF&amp;stat=shots&amp;pos_title=Midfielders\" data-stat=\"percentile\"><div align=\"right\" style=\"display: inline-block; width: 1.75em;\">68</div> <div style=\"width: min(30vw,190px); display: inline-block;\"> <div style=\"display: inline-block; width: 68%; background-color: rgb(130 175 130);\"> </div> </div> </td></tr>,\n",
       " <tr><th class=\"right poptip endpoint endpoint\" data-endpoint=\"/en/ajax/glossary.cgi?html=1&amp;stat=assists\" data-stat=\"statistic\" data-tip=\"Assists\" scope=\"row\" style=\"color: #000\">Assists</th><td class=\"right\" csk=\"0.36\" data-stat=\"per90\">0.36</td><td class=\"left endpoint endpoint tooltip\" csk=\"99\" data-endpoint=\"/en/ajax/distribution.cgi?html=1&amp;person_id=49296448&amp;name_display=Joshua Kimmich&amp;pool=365_m1&amp;pos=MF&amp;stat=assists&amp;pos_title=Midfielders\" data-stat=\"percentile\"><div align=\"right\" style=\"display: inline-block; width: 1.75em;\">99</div> <div style=\"width: min(30vw,190px); display: inline-block;\"> <div style=\"display: inline-block; width: 99%; background-color: rgb(52 175 52);\"> </div> </div> </td></tr>,\n",
       " <tr><th class=\"right poptip endpoint endpoint\" data-endpoint=\"/en/ajax/glossary.cgi?html=1&amp;stat=xg_assist\" data-stat=\"statistic\" data-tip=\"&lt;strong&gt;Expected Assisted Goals&lt;/strong&gt;&lt;br&gt;xG which follows a pass that assists a shot&lt;br&gt;Provided by Opta.&lt;br&gt;An underline indicates there is a match that is missing data, but will be updated when available.\" scope=\"row\" style=\"color: #000\">xAG</th><td class=\"right\" csk=\"0.34\" data-stat=\"per90\">0.34</td><td class=\"left endpoint endpoint tooltip\" csk=\"99\" data-endpoint=\"/en/ajax/distribution.cgi?html=1&amp;person_id=49296448&amp;name_display=Joshua Kimmich&amp;pool=365_m1&amp;pos=MF&amp;stat=xg_assist&amp;pos_title=Midfielders\" data-stat=\"percentile\"><div align=\"right\" style=\"display: inline-block; width: 1.75em;\">99</div> <div style=\"width: min(30vw,190px); display: inline-block;\"> <div style=\"display: inline-block; width: 99%; background-color: rgb(52 175 52);\"> </div> </div> </td></tr>,\n",
       " <tr><th class=\"right poptip endpoint endpoint\" data-endpoint=\"/en/ajax/glossary.cgi?html=1&amp;stat=npxg_xg_assist\" data-stat=\"statistic\" data-tip=\"Non-Penalty Expected Goals plus Assisted Goals&lt;br&gt;xG totals include penalty kicks, but do not include penalty shootouts (unless otherwise noted).&lt;br&gt;Provided by Opta.&lt;br&gt;An underline indicates there is a match that is missing data, but will be updated when available.&lt;br&gt;Minimum 30 minutes played per squad game to qualify as a leader\" scope=\"row\" style=\"color: #000\">npxG + xAG</th><td class=\"right\" csk=\"0.40\" data-stat=\"per90\">0.40</td><td class=\"left endpoint endpoint tooltip\" csk=\"95\" data-endpoint=\"/en/ajax/distribution.cgi?html=1&amp;person_id=49296448&amp;name_display=Joshua Kimmich&amp;pool=365_m1&amp;pos=MF&amp;stat=npxg_xg_assist&amp;pos_title=Midfielders\" data-stat=\"percentile\"><div align=\"right\" style=\"display: inline-block; width: 1.75em;\">95</div> <div style=\"width: min(30vw,190px); display: inline-block;\"> <div style=\"display: inline-block; width: 95%; background-color: rgb(62 175 62);\"> </div> </div> </td></tr>,\n",
       " <tr><th class=\"right poptip endpoint endpoint\" data-endpoint=\"/en/ajax/glossary.cgi?html=1&amp;stat=sca\" data-stat=\"statistic\" data-tip=\"Shot-Creating Actions&lt;br&gt;The two offensive actions directly leading to a shot, such as passes, dribbles and drawing fouls. Note: A single player can receive credit for multiple actions and the shot-taker can also receive credit.\" scope=\"row\" style=\"color: #000\">Shot-Creating Actions</th><td class=\"right\" csk=\"5.79\" data-stat=\"per90\">5.79</td><td class=\"left endpoint endpoint tooltip\" csk=\"99\" data-endpoint=\"/en/ajax/distribution.cgi?html=1&amp;person_id=49296448&amp;name_display=Joshua Kimmich&amp;pool=365_m1&amp;pos=MF&amp;stat=sca&amp;pos_title=Midfielders\" data-stat=\"percentile\"><div align=\"right\" style=\"display: inline-block; width: 1.75em;\">99</div> <div style=\"width: min(30vw,190px); display: inline-block;\"> <div style=\"display: inline-block; width: 99%; background-color: rgb(52 175 52);\"> </div> </div> </td></tr>,\n",
       " <tr class=\"spacer partial_table\" style=\"background-color:#ddd; padding:0px;\"><th class=\"right iz\" data-stat=\"statistic\" scope=\"row\" style=\"padding:1px;\"></th><td class=\"right iz\" data-stat=\"per90\" style=\"padding:1px;\"></td><td class=\"left iz\" data-stat=\"percentile\" style=\"padding:1px;\"></td></tr>,\n",
       " <tr><th class=\"right poptip endpoint endpoint\" data-endpoint=\"/en/ajax/glossary.cgi?html=1&amp;stat=passes\" data-stat=\"statistic\" data-tip=\"Passes Attempted\" scope=\"row\" style=\"color: #000\">Passes Attempted</th><td class=\"right\" csk=\"92.98\" data-stat=\"per90\">92.98</td><td class=\"left endpoint endpoint tooltip\" csk=\"99\" data-endpoint=\"/en/ajax/distribution.cgi?html=1&amp;person_id=49296448&amp;name_display=Joshua Kimmich&amp;pool=365_m1&amp;pos=MF&amp;stat=passes&amp;pos_title=Midfielders\" data-stat=\"percentile\"><div align=\"right\" style=\"display: inline-block; width: 1.75em;\">99</div> <div style=\"width: min(30vw,190px); display: inline-block;\"> <div style=\"display: inline-block; width: 99%; background-color: rgb(52 175 52);\"> </div> </div> </td></tr>,\n",
       " <tr><th class=\"right poptip endpoint endpoint\" data-endpoint=\"/en/ajax/glossary.cgi?html=1&amp;stat=passes_pct\" data-stat=\"statistic\" data-tip=\"Pass Completion Percentage&lt;br&gt;Minimum 30 minutes played per squad game to qualify as a leader\" scope=\"row\" style=\"color: #000\">Pass Completion %</th><td class=\"right\" csk=\"84.6\" data-stat=\"per90\">84.6%</td><td class=\"left endpoint endpoint tooltip\" csk=\"68\" data-endpoint=\"/en/ajax/distribution.cgi?html=1&amp;person_id=49296448&amp;name_display=Joshua Kimmich&amp;pool=365_m1&amp;pos=MF&amp;stat=passes_pct&amp;pos_title=Midfielders\" data-stat=\"percentile\"><div align=\"right\" style=\"display: inline-block; width: 1.75em;\">68</div> <div style=\"width: min(30vw,190px); display: inline-block;\"> <div style=\"display: inline-block; width: 68%; background-color: rgb(130 175 130);\"> </div> </div> </td></tr>,\n",
       " <tr><th class=\"right poptip endpoint endpoint\" data-endpoint=\"/en/ajax/glossary.cgi?html=1&amp;stat=progressive_passes\" data-stat=\"statistic\" data-tip=\"Progressive Passes&lt;br&gt;Completed passes that move the ball towards the opponent's goal at least 10 yards from its furthest point in the last six passes, or any completed pass into the penalty area. Excludes passes from the defending 40% of the pitch\" scope=\"row\" style=\"color: #000\">Progressive Passes</th><td class=\"right\" csk=\"8.85\" data-stat=\"per90\">8.85</td><td class=\"left endpoint endpoint tooltip\" csk=\"99\" data-endpoint=\"/en/ajax/distribution.cgi?html=1&amp;person_id=49296448&amp;name_display=Joshua Kimmich&amp;pool=365_m1&amp;pos=MF&amp;stat=progressive_passes&amp;pos_title=Midfielders\" data-stat=\"percentile\"><div align=\"right\" style=\"display: inline-block; width: 1.75em;\">99</div> <div style=\"width: min(30vw,190px); display: inline-block;\"> <div style=\"display: inline-block; width: 99%; background-color: rgb(52 175 52);\"> </div> </div> </td></tr>,\n",
       " <tr><th class=\"right poptip endpoint endpoint\" data-endpoint=\"/en/ajax/glossary.cgi?html=1&amp;stat=dribbles_completed\" data-stat=\"statistic\" data-tip=\"Dribbles Completed Successfully\" scope=\"row\" style=\"color: #000\">Dribbles Completed</th><td class=\"right\" csk=\"0.75\" data-stat=\"per90\">0.75</td><td class=\"left endpoint endpoint tooltip\" csk=\"56\" data-endpoint=\"/en/ajax/distribution.cgi?html=1&amp;person_id=49296448&amp;name_display=Joshua Kimmich&amp;pool=365_m1&amp;pos=MF&amp;stat=dribbles_completed&amp;pos_title=Midfielders\" data-stat=\"percentile\"><div align=\"right\" style=\"display: inline-block; width: 1.75em;\">56</div> <div style=\"width: min(30vw,190px); display: inline-block;\"> <div style=\"display: inline-block; width: 56%; background-color: rgb(160 175 160);\"> </div> </div> </td></tr>,\n",
       " <tr><th class=\"right poptip endpoint endpoint\" data-endpoint=\"/en/ajax/glossary.cgi?html=1&amp;stat=touches_att_pen_area\" data-stat=\"statistic\" data-tip=\"Touches in attacking penalty area\" scope=\"row\" style=\"color: #000\">Touches (Att Pen)</th><td class=\"right\" csk=\"0.67\" data-stat=\"per90\">0.67</td><td class=\"left endpoint endpoint tooltip\" csk=\"27\" data-endpoint=\"/en/ajax/distribution.cgi?html=1&amp;person_id=49296448&amp;name_display=Joshua Kimmich&amp;pool=365_m1&amp;pos=MF&amp;stat=touches_att_pen_area&amp;pos_title=Midfielders\" data-stat=\"percentile\"><div align=\"right\" style=\"display: inline-block; width: 1.75em;\">27</div> <div style=\"width: min(30vw,190px); display: inline-block;\"> <div style=\"display: inline-block; width: 27%; background-color: rgb(175 118 118);\"> </div> </div> </td></tr>,\n",
       " <tr><th class=\"right poptip endpoint endpoint\" data-endpoint=\"/en/ajax/glossary.cgi?html=1&amp;stat=progressive_passes_received\" data-stat=\"statistic\" data-tip=\"Progressive Passes Received&lt;br&gt;Completed passes that move the ball towards the opponent's goal at least 10 yards from its furthest point in the last six passes, or any completed pass into the penalty area. Excludes passes from the defending 40% of the pitch\" scope=\"row\" style=\"color: #000\">Progressive Passes Rec</th><td class=\"right\" csk=\"1.65\" data-stat=\"per90\">1.65</td><td class=\"left endpoint endpoint tooltip\" csk=\"53\" data-endpoint=\"/en/ajax/distribution.cgi?html=1&amp;person_id=49296448&amp;name_display=Joshua Kimmich&amp;pool=365_m1&amp;pos=MF&amp;stat=progressive_passes_received&amp;pos_title=Midfielders\" data-stat=\"percentile\"><div align=\"right\" style=\"display: inline-block; width: 1.75em;\">53</div> <div style=\"width: min(30vw,190px); display: inline-block;\"> <div style=\"display: inline-block; width: 53%; background-color: rgb(168 175 168);\"> </div> </div> </td></tr>,\n",
       " <tr class=\"spacer partial_table\" style=\"background-color:#ddd; padding:0px;\"><th class=\"right iz\" data-stat=\"statistic\" scope=\"row\" style=\"padding:1px;\"></th><td class=\"right iz\" data-stat=\"per90\" style=\"padding:1px;\"></td><td class=\"left iz\" data-stat=\"percentile\" style=\"padding:1px;\"></td></tr>,\n",
       " <tr><th class=\"right poptip endpoint endpoint\" data-endpoint=\"/en/ajax/glossary.cgi?html=1&amp;stat=tackles\" data-stat=\"statistic\" data-tip=\"Number of players tackled\" scope=\"row\" style=\"color: #000\">Tackles</th><td class=\"right\" csk=\"2.08\" data-stat=\"per90\">2.08</td><td class=\"left endpoint endpoint tooltip\" csk=\"51\" data-endpoint=\"/en/ajax/distribution.cgi?html=1&amp;person_id=49296448&amp;name_display=Joshua Kimmich&amp;pool=365_m1&amp;pos=MF&amp;stat=tackles&amp;pos_title=Midfielders\" data-stat=\"percentile\"><div align=\"right\" style=\"display: inline-block; width: 1.75em;\">51</div> <div style=\"width: min(30vw,190px); display: inline-block;\"> <div style=\"display: inline-block; width: 51%; background-color: rgb(172 175 172);\"> </div> </div> </td></tr>,\n",
       " <tr><th class=\"right poptip endpoint endpoint\" data-endpoint=\"/en/ajax/glossary.cgi?html=1&amp;stat=interceptions\" data-stat=\"statistic\" data-tip=\"Interceptions\" scope=\"row\" style=\"color: #000\">Interceptions</th><td class=\"right\" csk=\"1.95\" data-stat=\"per90\">1.95</td><td class=\"left endpoint endpoint tooltip\" csk=\"95\" data-endpoint=\"/en/ajax/distribution.cgi?html=1&amp;person_id=49296448&amp;name_display=Joshua Kimmich&amp;pool=365_m1&amp;pos=MF&amp;stat=interceptions&amp;pos_title=Midfielders\" data-stat=\"percentile\"><div align=\"right\" style=\"display: inline-block; width: 1.75em;\">95</div> <div style=\"width: min(30vw,190px); display: inline-block;\"> <div style=\"display: inline-block; width: 95%; background-color: rgb(62 175 62);\"> </div> </div> </td></tr>,\n",
       " <tr><th class=\"right poptip endpoint endpoint\" data-endpoint=\"/en/ajax/glossary.cgi?html=1&amp;stat=blocks\" data-stat=\"statistic\" data-tip=\"Number of times blocking the ball by standing in its path\" scope=\"row\" style=\"color: #000\">Blocks</th><td class=\"right\" csk=\"1.11\" data-stat=\"per90\">1.11</td><td class=\"left endpoint endpoint tooltip\" csk=\"38\" data-endpoint=\"/en/ajax/distribution.cgi?html=1&amp;person_id=49296448&amp;name_display=Joshua Kimmich&amp;pool=365_m1&amp;pos=MF&amp;stat=blocks&amp;pos_title=Midfielders\" data-stat=\"percentile\"><div align=\"right\" style=\"display: inline-block; width: 1.75em;\">38</div> <div style=\"width: min(30vw,190px); display: inline-block;\"> <div style=\"display: inline-block; width: 38%; background-color: rgb(175 145 145);\"> </div> </div> </td></tr>,\n",
       " <tr><th class=\"right poptip endpoint endpoint\" data-endpoint=\"/en/ajax/glossary.cgi?html=1&amp;stat=clearances\" data-stat=\"statistic\" data-tip=\"Clearances\" scope=\"row\" style=\"color: #000\">Clearances</th><td class=\"right\" csk=\"1.05\" data-stat=\"per90\">1.05</td><td class=\"left endpoint endpoint tooltip\" csk=\"54\" data-endpoint=\"/en/ajax/distribution.cgi?html=1&amp;person_id=49296448&amp;name_display=Joshua Kimmich&amp;pool=365_m1&amp;pos=MF&amp;stat=clearances&amp;pos_title=Midfielders\" data-stat=\"percentile\"><div align=\"right\" style=\"display: inline-block; width: 1.75em;\">54</div> <div style=\"width: min(30vw,190px); display: inline-block;\"> <div style=\"display: inline-block; width: 54%; background-color: rgb(165 175 165);\"> </div> </div> </td></tr>,\n",
       " <tr><th class=\"right poptip endpoint endpoint\" data-endpoint=\"/en/ajax/glossary.cgi?html=1&amp;stat=aerials_won\" data-stat=\"statistic\" data-tip=\"Aerials won\" scope=\"row\" style=\"color: #000\">Aerials won</th><td class=\"right\" csk=\"0.67\" data-stat=\"per90\">0.67</td><td class=\"left endpoint endpoint tooltip\" csk=\"35\" data-endpoint=\"/en/ajax/distribution.cgi?html=1&amp;person_id=49296448&amp;name_display=Joshua Kimmich&amp;pool=365_m1&amp;pos=MF&amp;stat=aerials_won&amp;pos_title=Midfielders\" data-stat=\"percentile\"><div align=\"right\" style=\"display: inline-block; width: 1.75em;\">35</div> <div style=\"width: min(30vw,190px); display: inline-block;\"> <div style=\"display: inline-block; width: 35%; background-color: rgb(175 138 138);\"> </div> </div> </td></tr>]"
      ]
     },
     "execution_count": 54,
     "metadata": {},
     "output_type": "execute_result"
    }
   ],
   "source": [
    "rows = player_soup.find_all('tr')\n"
   ]
  },
  {
   "cell_type": "code",
   "execution_count": 30,
   "id": "be17f306",
   "metadata": {},
   "outputs": [
    {
     "data": {
      "text/plain": [
       "[]"
      ]
     },
     "execution_count": 30,
     "metadata": {},
     "output_type": "execute_result"
    }
   ],
   "source": [
    "data_stat_list_player"
   ]
  },
  {
   "cell_type": "code",
   "execution_count": null,
   "id": "b2a960ba",
   "metadata": {},
   "outputs": [],
   "source": [
    "#Extraer feautures generales\n",
    "soup_stats = soup_team.find_all('tr')"
   ]
  },
  {
   "cell_type": "code",
   "execution_count": null,
   "id": "e48bad3d",
   "metadata": {},
   "outputs": [],
   "source": [
    "soup_stats"
   ]
  },
  {
   "cell_type": "code",
   "execution_count": null,
   "id": "65a910f1",
   "metadata": {},
   "outputs": [],
   "source": [
    "th_tag = soup_stats[0].find('th', {'data-stat': True, 'csk': True})\n",
    "data_stat_value = th_tag['data-stat']\n",
    "csk_value = th_tag['csk']\n",
    "\n",
    "tuple_data = (data_stat_value, csk_value)"
   ]
  },
  {
   "cell_type": "code",
   "execution_count": null,
   "id": "567e74b7",
   "metadata": {},
   "outputs": [],
   "source": [
    "tuple_data"
   ]
  },
  {
   "cell_type": "code",
   "execution_count": null,
   "id": "f2278fea",
   "metadata": {},
   "outputs": [],
   "source": [
    "th_tag = soup_stats[0].find('td', {'data-stat': True, 'csk': True})\n",
    "data_stat_value = th_tag['data-stat']\n",
    "csk_value = th_tag['csk']\n",
    "\n",
    "tuple_data = (data_stat_value, csk_value)"
   ]
  },
  {
   "cell_type": "code",
   "execution_count": null,
   "id": "aefae446",
   "metadata": {},
   "outputs": [],
   "source": [
    "data_stat_list_values = [td.text for td in soup_stats[0].find_all('td', {'data-stat': True})]\n",
    "print(data_stat_list_values)"
   ]
  },
  {
   "cell_type": "code",
   "execution_count": null,
   "id": "2f12f5f2",
   "metadata": {},
   "outputs": [],
   "source": [
    "len(data_stat_list_values)"
   ]
  },
  {
   "cell_type": "code",
   "execution_count": null,
   "id": "aebd9a4d",
   "metadata": {},
   "outputs": [],
   "source": [
    "#Util para sacar los headers para el DF\n",
    "data_stat_list_player = [td['data-stat'] for td in soup_stats[0].find_all('td', {'data-stat': True})]\n",
    "data_stat_list[28] = 'player'"
   ]
  },
  {
   "cell_type": "code",
   "execution_count": null,
   "id": "535ed620",
   "metadata": {},
   "outputs": [],
   "source": [
    "data = []\n",
    "for player in soup_stats:\n",
    "    data_stat_list_values = [td.text for td in player.find_all('td', {'data-stat': True})]\n",
    "    a_tag = player.find('a')\n",
    "    name = a_tag.text\n",
    "    data_stat_list_values[28] = name\n",
    "    data.append(data_stat_list_values)"
   ]
  },
  {
   "cell_type": "code",
   "execution_count": null,
   "id": "7b55da54",
   "metadata": {},
   "outputs": [],
   "source": [
    "soup_stats[0]"
   ]
  },
  {
   "cell_type": "code",
   "execution_count": null,
   "id": "979f37aa",
   "metadata": {},
   "outputs": [],
   "source": [
    "data_stat_list"
   ]
  },
  {
   "cell_type": "code",
   "execution_count": null,
   "id": "421065f3",
   "metadata": {},
   "outputs": [],
   "source": [
    "links_competitions[:1]"
   ]
  },
  {
   "cell_type": "markdown",
   "id": "c25c74ca",
   "metadata": {},
   "source": [
    "### Funciones limpias"
   ]
  },
  {
   "cell_type": "code",
   "execution_count": 88,
   "id": "9aed0fb0",
   "metadata": {},
   "outputs": [
    {
     "name": "stdout",
     "output_type": "stream",
     "text": [
      "200\n",
      "200\n",
      "200\n",
      "200\n",
      "200\n"
     ]
    }
   ],
   "source": [
    "links_competitions = ['https://fbref.com/en/comps/12/2017-2018/2017-2018-La-Liga-Stats','https://fbref.com/en/comps/9/2017-2018/2017-2018-Premier-League-Stats', \n",
    "                      'https://fbref.com/en/comps/11/2017-2018/2017-2018-Serie-A-Stats','https://fbref.com/en/comps/13/2017-2018/2017-2018-Ligue-1-Stats',\n",
    "                      'https://fbref.com/en/comps/20/2017-2018/2017-2018-Bundesliga-Stats']\n",
    "\n",
    "general_columns = ['nationality','position','age','games','games_starts','minutes','minutes_90s','goals','assists',\n",
    "                   'goals_pens','pens_made','pens_att','cards_yellow','cards_red','goals_per90','assists_per90',\n",
    "                   'goals_assists_per90','goals_pens_per90','goals_assists_pens_per90','xg','npxg','xg_assist',\n",
    "                   'npxg_xg_assist','xg_per90','xg_assist_per90','xg_xg_assist_per90','npxg_per90',\n",
    "                   'npxg_xg_assist_per90','player']\n",
    "data = []\n",
    "\n",
    "for link in links_competitions:\n",
    "    r = requests.get(link)\n",
    "    print(r.status_code)\n",
    "    soup = BeautifulSoup(r.text)\n",
    "    links = []\n",
    "    soup = soup.tbody\n",
    "    for a in soup.find_all('a', href=True):\n",
    "        links.append(a['href'])\n",
    "    links_equipos = []\n",
    "    for link in links:\n",
    "        if (link.find('Stats') != -1) and (link.find('squads') != -1):\n",
    "            links_equipos.append(link)\n",
    "    links_equipos = list(set(links_equipos))\n",
    "    for link_equipo in links_equipos:\n",
    "        r_team = requests.get('https://fbref.com/'+link_equipo)\n",
    "        soup_team = BeautifulSoup(r_team.text)\n",
    "        soup_team = soup_team.tbody\n",
    "        links_jugadores = []\n",
    "        for a in soup_team.find_all('a', href=True):\n",
    "            link = a['href']\n",
    "            if (link.find('players') != -1) and (link.find('Logs') == -1):\n",
    "                links_jugadores.append(link)\n",
    "        #código para extraer datos de cada jugador\n",
    "        soup_stats = soup_team.find_all('tr')      \n",
    "        for player in soup_stats:\n",
    "            data_stat_list_values = [td.text for td in player.find_all('td', {'data-stat': True})]\n",
    "            a_tag = player.find('a')\n",
    "            name = a_tag.text\n",
    "            data_stat_list_values[28] = name\n",
    "            data.append(data_stat_list_values)\n",
    "    df = pd.DataFrame(data,columns=general_columns)\n",
    "    df.to_csv('./datos/players_general'+link.split('/')[-1]+'.csv')\n",
    "    data = []"
   ]
  },
  {
   "cell_type": "code",
   "execution_count": null,
   "id": "a9fccd79",
   "metadata": {},
   "outputs": [],
   "source": [
    "df = pd.DataFrame(data,columns=general_columns)"
   ]
  },
  {
   "cell_type": "code",
   "execution_count": null,
   "id": "c8b1a4f9",
   "metadata": {},
   "outputs": [],
   "source": [
    "df.to_csv('la_liga_2017_2018.csv')"
   ]
  },
  {
   "cell_type": "code",
   "execution_count": null,
   "id": "a9801c3c",
   "metadata": {},
   "outputs": [],
   "source": [
    "links_competitions[1].split('/')[-1]"
   ]
  }
 ],
 "metadata": {
  "kernelspec": {
   "display_name": "Python 3 (ipykernel)",
   "language": "python",
   "name": "python3"
  },
  "language_info": {
   "codemirror_mode": {
    "name": "ipython",
    "version": 3
   },
   "file_extension": ".py",
   "mimetype": "text/x-python",
   "name": "python",
   "nbconvert_exporter": "python",
   "pygments_lexer": "ipython3",
   "version": "3.9.12"
  }
 },
 "nbformat": 4,
 "nbformat_minor": 5
}
