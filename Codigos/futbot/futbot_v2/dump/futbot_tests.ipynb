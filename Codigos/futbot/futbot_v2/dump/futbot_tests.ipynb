{
 "cells": [
  {
   "cell_type": "code",
   "execution_count": 3,
   "id": "c46cc34c",
   "metadata": {},
   "outputs": [],
   "source": [
    "\n",
    "from dotenv import load_dotenv\n",
    "import openai\n",
    "import os \n",
    "\n",
    "import random\n",
    "\n",
    "\n",
    "import pandas as pd\n"
   ]
  },
  {
   "cell_type": "code",
   "execution_count": 2,
   "id": "cba7ff0d",
   "metadata": {},
   "outputs": [],
   "source": [
    "load_dotenv()\n",
    "openai.organization = os.environ['OPENAI_ORG']\n",
    "openai.api_key = os.environ['OPENAI_API_KEY']"
   ]
  },
  {
   "cell_type": "code",
   "execution_count": 13,
   "id": "84da6518",
   "metadata": {},
   "outputs": [],
   "source": [
    "df = pd.read_csv('./../../data/wyscout_tabular/germany.csv')"
   ]
  },
  {
   "cell_type": "code",
   "execution_count": 10,
   "id": "24e8ad8a",
   "metadata": {},
   "outputs": [],
   "source": [
    "teams = pd.read_json('./../../data/wyscout/Teams/teams.json')\n",
    "matches = pd.read_json('./../../data/wyscout/Matches/matches_Germany.json')\n",
    "players = pd.read_json('./../../data/wyscout/players.json')"
   ]
  },
  {
   "cell_type": "code",
   "execution_count": 14,
   "id": "20443833",
   "metadata": {},
   "outputs": [
    {
     "data": {
      "text/plain": [
       "Index(['Unnamed: 0', 'eventId', 'subEventName', 'playerId', 'matchId',\n",
       "       'eventName', 'teamId', 'matchPeriod', 'eventSec', 'subEventId', 'id',\n",
       "       'x_inicio', 'y_inicio', 'x_fin', 'y_fin', 'tag_0', 'tag_1', 'tag_2',\n",
       "       'tag_3', 'tag_4', 'tag_5'],\n",
       "      dtype='object')"
      ]
     },
     "execution_count": 14,
     "metadata": {},
     "output_type": "execute_result"
    }
   ],
   "source": [
    "df.columns"
   ]
  },
  {
   "cell_type": "code",
   "execution_count": 17,
   "id": "aa4ed10c",
   "metadata": {},
   "outputs": [
    {
     "data": {
      "text/plain": [
       "Index(['city', 'name', 'wyId', 'officialName', 'area', 'type'], dtype='object')"
      ]
     },
     "execution_count": 17,
     "metadata": {},
     "output_type": "execute_result"
    }
   ],
   "source": [
    "teams.columns"
   ]
  },
  {
   "cell_type": "code",
   "execution_count": 18,
   "id": "81115a37",
   "metadata": {},
   "outputs": [
    {
     "data": {
      "text/plain": [
       "Index(['passportArea', 'weight', 'firstName', 'middleName', 'lastName',\n",
       "       'currentTeamId', 'birthDate', 'height', 'role', 'birthArea', 'wyId',\n",
       "       'foot', 'shortName', 'currentNationalTeamId'],\n",
       "      dtype='object')"
      ]
     },
     "execution_count": 18,
     "metadata": {},
     "output_type": "execute_result"
    }
   ],
   "source": [
    "players.columns"
   ]
  },
  {
   "cell_type": "code",
   "execution_count": 16,
   "id": "84b9c265",
   "metadata": {},
   "outputs": [],
   "source": [
    "df = df.merge(teams, left_on='teamId', right_on='wyId', how='left')"
   ]
  },
  {
   "cell_type": "code",
   "execution_count": 19,
   "id": "734b6ae6",
   "metadata": {},
   "outputs": [],
   "source": [
    "df  = df.merge(players, left_on='playerId', right_on ='wyId', how='left')"
   ]
  },
  {
   "cell_type": "code",
   "execution_count": 20,
   "id": "e91c30ed",
   "metadata": {},
   "outputs": [],
   "source": [
    "def create_prompt(event):\n",
    "    \n",
    "    team = str(event['name']).encode('utf-8').decode('unicode_escape')\n",
    "    player = str(event['shortName']).encode('utf-8').decode('unicode_escape')\n",
    "    event_type = event['eventName']\n",
    "    \n",
    "    game_sec = int(event['eventSec']%60)\n",
    "    game_min = int(event['eventSec']/60)\n",
    "    half = event['matchPeriod']\n",
    "    \n",
    "    if game_sec < 10:\n",
    "        game_sec = \"0\"+str(game_sec)\n",
    "    if game_min < 10:\n",
    "        game_min = \"0\"+str(game_min)\n",
    "    if half == '2H':\n",
    "        game_min +=45\n",
    "        \n",
    "    prompt = f\"\"\"Data of the event:\n",
    "    - player: {player}\n",
    "    - team: {team}\n",
    "    - action: {event_type}\n",
    "    - game time: {game_min}:{game_sec}\n",
    "    \n",
    "    Rewrite the event as a tweet\n",
    "    \"\"\"\n",
    "        \n",
    "    return prompt\n",
    "    \n",
    "    "
   ]
  },
  {
   "cell_type": "code",
   "execution_count": 23,
   "id": "d18a9811",
   "metadata": {},
   "outputs": [
    {
     "data": {
      "text/plain": [
       "'Data of the event:\\n    - player: K. Volland\\n    - team: Bayer Leverkusen\\n    - action: Pass\\n    - game time: 00:02\\n    \\n    Rewrite the event as a tweet\\n    '"
      ]
     },
     "execution_count": 23,
     "metadata": {},
     "output_type": "execute_result"
    }
   ],
   "source": [
    "create_prompt(df.iloc[0])"
   ]
  },
  {
   "cell_type": "code",
   "execution_count": 25,
   "id": "211638a7",
   "metadata": {},
   "outputs": [
    {
     "data": {
      "text/plain": [
       "\"Unnamed: 0                                                               0\\neventId                                                                  8\\nsubEventName                                                   Simple pass\\nplayerId                                                             15231\\nmatchId                                                            2516739\\neventName                                                             Pass\\nteamId                                                                2446\\nmatchPeriod                                                             1H\\neventSec                                                          2.409746\\nsubEventId                                                            85.0\\nid                                                               179896442\\nx_inicio                                                                50\\ny_inicio                                                                50\\nx_fin                                                                 50.0\\ny_fin                                                                 48.0\\ntag_0                                                               1801.0\\ntag_1                                                                  NaN\\ntag_2                                                                  NaN\\ntag_3                                                                  NaN\\ntag_4                                                                  NaN\\ntag_5                                                                  NaN\\ncity                                                            Leverkusen\\nname                                                      Bayer Leverkusen\\nwyId_x                                                                2446\\nofficialName                                       TSV Bayer 04 Leverkusen\\narea                     {'name': 'Germany', 'id': '276', 'alpha3code':...\\ntype                                                                  club\\npassportArea             {'name': 'Germany', 'id': '276', 'alpha3code':...\\nweight                                                                81.0\\nfirstName                                                            Kevin\\nmiddleName                                                                \\nlastName                                                           Volland\\ncurrentTeamId                                                         2446\\nbirthDate                                                       1992-07-30\\nheight                                                               179.0\\nrole                     {'code2': 'FW', 'code3': 'FWD', 'name': 'Forwa...\\nbirthArea                {'name': 'Germany', 'id': '276', 'alpha3code':...\\nwyId_y                                                             15231.0\\nfoot                                                                  left\\nshortName                                                       K. Volland\\ncurrentNationalTeamId                                                 null\""
      ]
     },
     "execution_count": 25,
     "metadata": {},
     "output_type": "execute_result"
    }
   ],
   "source": [
    "df.iloc[0].to_string()"
   ]
  },
  {
   "cell_type": "code",
   "execution_count": 27,
   "id": "b10e6ec3",
   "metadata": {},
   "outputs": [
    {
     "data": {
      "text/plain": [
       "array(['Newcastle United', 'Celta de Vigo', 'Espanyol',\n",
       "       'Deportivo Alav\\\\u00e9s', 'Levante', 'Troyes', 'Getafe',\n",
       "       \"Borussia M'gladbach\", 'Huddersfield Town', 'Athletic Club',\n",
       "       'Atl\\\\u00e9tico Madrid', 'Olympique Lyonnais', 'PSG', 'Valencia',\n",
       "       'Real Madrid', 'Barcelona', 'Las Palmas', 'Legan\\\\u00e9s', 'SPAL',\n",
       "       'Swansea City', 'Olympique Marseille', 'Nantes', 'Nice', 'Rennes',\n",
       "       'Strasbourg', 'Eibar', 'AFC Bournemouth', 'Brighton & Hove Albion',\n",
       "       'Werder Bremen', 'Bayer Leverkusen', 'Borussia Dortmund',\n",
       "       'Bayern M\\\\u00fcnchen', 'Stuttgart', 'Schalke 04', 'Milan',\n",
       "       'Angers', 'Juventus', 'Roma', 'Sassuolo', 'Burnley', 'Bordeaux',\n",
       "       'Hannover 96', 'Dijon', 'Hertha BSC', 'Wolfsburg', 'Hamburger SV',\n",
       "       'Freiburg', 'Bologna', 'Metz', 'Sampdoria', 'Chievo', 'Lazio',\n",
       "       'Udinese', 'Internazionale', 'Leicester City', 'West Ham United',\n",
       "       'Stoke City', 'Benevento', 'Saint-\\\\u00c9tienne', 'Girona',\n",
       "       'Watford', 'Hoffenheim', 'Cagliari', 'Atalanta', 'Fiorentina',\n",
       "       'Everton', 'West Bromwich Albion', 'Manchester City',\n",
       "       'Tottenham Hotspur', 'Augsburg', 'Crystal Palace', 'Monaco',\n",
       "       'Mainz 05', 'Lille', 'Eintracht Frankfurt', 'Southampton',\n",
       "       'K\\\\u00f6ln', 'Liverpool', 'Chelsea', 'Manchester United',\n",
       "       'Torino', 'Napoli', 'Deportivo La Coru\\\\u00f1a', 'RB Leipzig',\n",
       "       'Arsenal', 'Caen', 'Toulouse', 'Montpellier', 'Guingamp',\n",
       "       'Amiens SC', 'Crotone', 'Hellas Verona', 'Genoa', 'Real Betis',\n",
       "       'Real Sociedad', 'Sevilla', 'M\\\\u00e1laga', 'Villarreal',\n",
       "       'Korea Republic', 'Hungary', 'Turkey', 'Russia', 'Sweden',\n",
       "       'Tunisia', 'Brazil', 'Germany', 'Albania', 'Romania', 'Ukraine',\n",
       "       'Morocco', 'Slovakia', 'Colombia', 'Panama', 'Australia',\n",
       "       'Argentina', 'Northern Ireland', 'Portugal', 'Belgium', 'Denmark',\n",
       "       'Uruguay', 'Wales', 'Costa Rica', 'England', 'Egypt', 'Japan',\n",
       "       'Iran', 'Austria', 'Iceland', 'Croatia', 'Mexico',\n",
       "       'Republic of Ireland', 'Czech Republic', 'Senegal', 'Italy',\n",
       "       'Peru', 'France', 'Saudi Arabia', 'Spain', 'Serbia', 'Switzerland',\n",
       "       'Poland', 'Nigeria'], dtype=object)"
      ]
     },
     "execution_count": 27,
     "metadata": {},
     "output_type": "execute_result"
    }
   ],
   "source": [
    "teams['name'].unique()"
   ]
  },
  {
   "cell_type": "code",
   "execution_count": null,
   "id": "503cd66d",
   "metadata": {},
   "outputs": [],
   "source": []
  },
  {
   "cell_type": "code",
   "execution_count": null,
   "id": "b834a02f",
   "metadata": {},
   "outputs": [],
   "source": []
  },
  {
   "cell_type": "code",
   "execution_count": null,
   "id": "59d4ad90",
   "metadata": {},
   "outputs": [],
   "source": []
  },
  {
   "cell_type": "code",
   "execution_count": null,
   "id": "0ed7053f",
   "metadata": {},
   "outputs": [],
   "source": []
  }
 ],
 "metadata": {
  "kernelspec": {
   "display_name": "Python 3 (ipykernel)",
   "language": "python",
   "name": "python3"
  },
  "language_info": {
   "codemirror_mode": {
    "name": "ipython",
    "version": 3
   },
   "file_extension": ".py",
   "mimetype": "text/x-python",
   "name": "python",
   "nbconvert_exporter": "python",
   "pygments_lexer": "ipython3",
   "version": "3.9.12"
  }
 },
 "nbformat": 4,
 "nbformat_minor": 5
}
