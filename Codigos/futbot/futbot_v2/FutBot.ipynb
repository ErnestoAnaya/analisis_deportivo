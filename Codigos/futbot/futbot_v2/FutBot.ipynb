{
 "cells": [
  {
   "cell_type": "code",
   "execution_count": 8,
   "metadata": {},
   "outputs": [],
   "source": [
    "import os\n",
    "\n",
    "import pandas as pd\n",
    "\n",
    "from dotenv import load_dotenv\n",
    "import openai\n",
    "\n",
    "import datetime"
   ]
  },
  {
   "cell_type": "code",
   "execution_count": 11,
   "metadata": {},
   "outputs": [],
   "source": [
    "load_dotenv()\n",
    "\n",
    "openai.organization = os.environ['OPENAI_ORG']\n",
    "openai.api_key = os.environ['OPENAI_API_KEY']"
   ]
  },
  {
   "cell_type": "code",
   "execution_count": 14,
   "metadata": {},
   "outputs": [
    {
     "name": "stderr",
     "output_type": "stream",
     "text": [
      "c:\\Users\\ssds6\\AppData\\Local\\Programs\\Python\\Python310\\lib\\site-packages\\tqdm\\auto.py:21: TqdmWarning: IProgress not found. Please update jupyter and ipywidgets. See https://ipywidgets.readthedocs.io/en/stable/user_install.html\n",
      "  from .autonotebook import tqdm as notebook_tqdm\n",
      "Downloading (…)olve/main/vocab.json: 100%|██████████| 1.04M/1.04M [00:01<00:00, 593kB/s]\n",
      "c:\\Users\\ssds6\\AppData\\Local\\Programs\\Python\\Python310\\lib\\site-packages\\huggingface_hub\\file_download.py:133: UserWarning: `huggingface_hub` cache-system uses symlinks by default to efficiently store duplicated files but your machine does not support them in C:\\Users\\ssds6\\.cache\\huggingface\\hub. Caching files will still work but in a degraded version that might require more space on your disk. This warning can be disabled by setting the `HF_HUB_DISABLE_SYMLINKS_WARNING` environment variable. For more details, see https://huggingface.co/docs/huggingface_hub/how-to-cache#limitations.\n",
      "To support symlinks on Windows, you either need to activate Developer Mode or to run Python as an administrator. In order to see activate developer mode, see this article: https://docs.microsoft.com/en-us/windows/apps/get-started/enable-your-device-for-development\n",
      "  warnings.warn(message)\n",
      "Downloading (…)olve/main/merges.txt: 100%|██████████| 456k/456k [00:01<00:00, 453kB/s]\n",
      "Downloading (…)lve/main/config.json: 100%|██████████| 665/665 [00:00<00:00, 663kB/s]\n"
     ]
    }
   ],
   "source": [
    "from transformers import GPT2Tokenizer\n",
    "\n",
    "\n",
    "TOKENIZER = GPT2Tokenizer.from_pretrained(\"gpt2\")\n",
    "\n",
    "\n",
    "def get_number_of_tokens(text: str) -> int:\n",
    "    output = TOKENIZER(text)\n",
    "    return len(output['input_ids'])"
   ]
  },
  {
   "cell_type": "code",
   "execution_count": 15,
   "metadata": {},
   "outputs": [],
   "source": [
    "def get_gpt3_completion(prompt, engine=\"davinci\", **kwargs):\n",
    "    engines = {\n",
    "        'davinci': 'text-davinci-002',\n",
    "        'curie': 'text-curie-001',\n",
    "        'babbage': 'text-babbage-001',\n",
    "        'ada': 'text-ada-001'\n",
    "    }\n",
    "    \n",
    "    engine = engines.get(engine, engine)\n",
    "    \n",
    "    default = dict(\n",
    "        max_tokens=3500 if engine == 'text-davinci-002' else 1500,\n",
    "        stop=\" END\" if engine not in engines else None\n",
    "    )\n",
    "    \n",
    "    final_kwargs = {**default, **kwargs}\n",
    "    response = openai.Completion.create(\n",
    "        prompt=prompt,\n",
    "        engine=engine,\n",
    "        **final_kwargs\n",
    "    )\n",
    "    \n",
    "    answer = response['choices'][0]['text']\n",
    "    return answer"
   ]
  },
  {
   "cell_type": "code",
   "execution_count": 20,
   "metadata": {},
   "outputs": [
    {
     "ename": "FileNotFoundError",
     "evalue": "[Errno 2] No such file or directory: 'C:\\\\Users\\\\ssds6\\\\OneDrive\\\\Escritorio\\\\analisis_deportivo\\\\data\\\\fineTuning\\\\2517004\\\\playerSeasonInfo.xlsx'",
     "output_type": "error",
     "traceback": [
      "\u001b[1;31m---------------------------------------------------------------------------\u001b[0m",
      "\u001b[1;31mFileNotFoundError\u001b[0m                         Traceback (most recent call last)",
      "\u001b[1;32mc:\\Users\\ssds6\\OneDrive\\Escritorio\\analisis_deportivo\\Codigos\\futbot\\futbot_v2\\FutBot.ipynb Cell 5\u001b[0m in \u001b[0;36m<cell line: 4>\u001b[1;34m()\u001b[0m\n\u001b[0;32m      <a href='vscode-notebook-cell:/c%3A/Users/ssds6/OneDrive/Escritorio/analisis_deportivo/Codigos/futbot/futbot_v2/FutBot.ipynb#W4sZmlsZQ%3D%3D?line=1'>2</a>\u001b[0m ids \u001b[39m=\u001b[39m \u001b[39m2517004\u001b[39m \u001b[39m#2516982 #2516941\u001b[39;00m\n\u001b[0;32m      <a href='vscode-notebook-cell:/c%3A/Users/ssds6/OneDrive/Escritorio/analisis_deportivo/Codigos/futbot/futbot_v2/FutBot.ipynb#W4sZmlsZQ%3D%3D?line=2'>3</a>\u001b[0m path \u001b[39m=\u001b[39m \u001b[39mfr\u001b[39m\u001b[39m\"\u001b[39m\u001b[39mC:\u001b[39m\u001b[39m\\\u001b[39m\u001b[39mUsers\u001b[39m\u001b[39m\\\u001b[39m\u001b[39mssds6\u001b[39m\u001b[39m\\\u001b[39m\u001b[39mOneDrive\u001b[39m\u001b[39m\\\u001b[39m\u001b[39mEscritorio\u001b[39m\u001b[39m\\\u001b[39m\u001b[39manalisis_deportivo\u001b[39m\u001b[39m\\\u001b[39m\u001b[39mdata\u001b[39m\u001b[39m\\\u001b[39m\u001b[39mfineTuning\u001b[39m\u001b[39m\\\u001b[39m\u001b[39m{\u001b[39;00mids\u001b[39m}\u001b[39;00m\u001b[39m\"\u001b[39m\n\u001b[1;32m----> <a href='vscode-notebook-cell:/c%3A/Users/ssds6/OneDrive/Escritorio/analisis_deportivo/Codigos/futbot/futbot_v2/FutBot.ipynb#W4sZmlsZQ%3D%3D?line=3'>4</a>\u001b[0m metricas \u001b[39m=\u001b[39m pd\u001b[39m.\u001b[39;49mread_excel(os\u001b[39m.\u001b[39;49mpath\u001b[39m.\u001b[39;49mjoin(path,\u001b[39m\"\u001b[39;49m\u001b[39mplayerSeasonInfo.xlsx\u001b[39;49m\u001b[39m\"\u001b[39;49m))\n\u001b[0;32m      <a href='vscode-notebook-cell:/c%3A/Users/ssds6/OneDrive/Escritorio/analisis_deportivo/Codigos/futbot/futbot_v2/FutBot.ipynb#W4sZmlsZQ%3D%3D?line=4'>5</a>\u001b[0m tabla \u001b[39m=\u001b[39m pd\u001b[39m.\u001b[39mread_excel(os\u001b[39m.\u001b[39mpath\u001b[39m.\u001b[39mjoin(path,\u001b[39m\"\u001b[39m\u001b[39mTabla.xlsx\u001b[39m\u001b[39m\"\u001b[39m))\n\u001b[0;32m      <a href='vscode-notebook-cell:/c%3A/Users/ssds6/OneDrive/Escritorio/analisis_deportivo/Codigos/futbot/futbot_v2/FutBot.ipynb#W4sZmlsZQ%3D%3D?line=5'>6</a>\u001b[0m tabla[\u001b[39m'\u001b[39m\u001b[39mPosicion\u001b[39m\u001b[39m'\u001b[39m] \u001b[39m=\u001b[39m tabla\u001b[39m.\u001b[39mindex \u001b[39m+\u001b[39m\u001b[39m1\u001b[39m\n",
      "File \u001b[1;32mc:\\Users\\ssds6\\AppData\\Local\\Programs\\Python\\Python310\\lib\\site-packages\\pandas\\util\\_decorators.py:311\u001b[0m, in \u001b[0;36mdeprecate_nonkeyword_arguments.<locals>.decorate.<locals>.wrapper\u001b[1;34m(*args, **kwargs)\u001b[0m\n\u001b[0;32m    305\u001b[0m \u001b[39mif\u001b[39;00m \u001b[39mlen\u001b[39m(args) \u001b[39m>\u001b[39m num_allow_args:\n\u001b[0;32m    306\u001b[0m     warnings\u001b[39m.\u001b[39mwarn(\n\u001b[0;32m    307\u001b[0m         msg\u001b[39m.\u001b[39mformat(arguments\u001b[39m=\u001b[39marguments),\n\u001b[0;32m    308\u001b[0m         \u001b[39mFutureWarning\u001b[39;00m,\n\u001b[0;32m    309\u001b[0m         stacklevel\u001b[39m=\u001b[39mstacklevel,\n\u001b[0;32m    310\u001b[0m     )\n\u001b[1;32m--> 311\u001b[0m \u001b[39mreturn\u001b[39;00m func(\u001b[39m*\u001b[39margs, \u001b[39m*\u001b[39m\u001b[39m*\u001b[39mkwargs)\n",
      "File \u001b[1;32mc:\\Users\\ssds6\\AppData\\Local\\Programs\\Python\\Python310\\lib\\site-packages\\pandas\\io\\excel\\_base.py:457\u001b[0m, in \u001b[0;36mread_excel\u001b[1;34m(io, sheet_name, header, names, index_col, usecols, squeeze, dtype, engine, converters, true_values, false_values, skiprows, nrows, na_values, keep_default_na, na_filter, verbose, parse_dates, date_parser, thousands, decimal, comment, skipfooter, convert_float, mangle_dupe_cols, storage_options)\u001b[0m\n\u001b[0;32m    455\u001b[0m \u001b[39mif\u001b[39;00m \u001b[39mnot\u001b[39;00m \u001b[39misinstance\u001b[39m(io, ExcelFile):\n\u001b[0;32m    456\u001b[0m     should_close \u001b[39m=\u001b[39m \u001b[39mTrue\u001b[39;00m\n\u001b[1;32m--> 457\u001b[0m     io \u001b[39m=\u001b[39m ExcelFile(io, storage_options\u001b[39m=\u001b[39;49mstorage_options, engine\u001b[39m=\u001b[39;49mengine)\n\u001b[0;32m    458\u001b[0m \u001b[39melif\u001b[39;00m engine \u001b[39mand\u001b[39;00m engine \u001b[39m!=\u001b[39m io\u001b[39m.\u001b[39mengine:\n\u001b[0;32m    459\u001b[0m     \u001b[39mraise\u001b[39;00m \u001b[39mValueError\u001b[39;00m(\n\u001b[0;32m    460\u001b[0m         \u001b[39m\"\u001b[39m\u001b[39mEngine should not be specified when passing \u001b[39m\u001b[39m\"\u001b[39m\n\u001b[0;32m    461\u001b[0m         \u001b[39m\"\u001b[39m\u001b[39man ExcelFile - ExcelFile already has the engine set\u001b[39m\u001b[39m\"\u001b[39m\n\u001b[0;32m    462\u001b[0m     )\n",
      "File \u001b[1;32mc:\\Users\\ssds6\\AppData\\Local\\Programs\\Python\\Python310\\lib\\site-packages\\pandas\\io\\excel\\_base.py:1376\u001b[0m, in \u001b[0;36mExcelFile.__init__\u001b[1;34m(self, path_or_buffer, engine, storage_options)\u001b[0m\n\u001b[0;32m   1374\u001b[0m     ext \u001b[39m=\u001b[39m \u001b[39m\"\u001b[39m\u001b[39mxls\u001b[39m\u001b[39m\"\u001b[39m\n\u001b[0;32m   1375\u001b[0m \u001b[39melse\u001b[39;00m:\n\u001b[1;32m-> 1376\u001b[0m     ext \u001b[39m=\u001b[39m inspect_excel_format(\n\u001b[0;32m   1377\u001b[0m         content_or_path\u001b[39m=\u001b[39;49mpath_or_buffer, storage_options\u001b[39m=\u001b[39;49mstorage_options\n\u001b[0;32m   1378\u001b[0m     )\n\u001b[0;32m   1379\u001b[0m     \u001b[39mif\u001b[39;00m ext \u001b[39mis\u001b[39;00m \u001b[39mNone\u001b[39;00m:\n\u001b[0;32m   1380\u001b[0m         \u001b[39mraise\u001b[39;00m \u001b[39mValueError\u001b[39;00m(\n\u001b[0;32m   1381\u001b[0m             \u001b[39m\"\u001b[39m\u001b[39mExcel file format cannot be determined, you must specify \u001b[39m\u001b[39m\"\u001b[39m\n\u001b[0;32m   1382\u001b[0m             \u001b[39m\"\u001b[39m\u001b[39man engine manually.\u001b[39m\u001b[39m\"\u001b[39m\n\u001b[0;32m   1383\u001b[0m         )\n",
      "File \u001b[1;32mc:\\Users\\ssds6\\AppData\\Local\\Programs\\Python\\Python310\\lib\\site-packages\\pandas\\io\\excel\\_base.py:1250\u001b[0m, in \u001b[0;36minspect_excel_format\u001b[1;34m(content_or_path, storage_options)\u001b[0m\n\u001b[0;32m   1247\u001b[0m \u001b[39mif\u001b[39;00m \u001b[39misinstance\u001b[39m(content_or_path, \u001b[39mbytes\u001b[39m):\n\u001b[0;32m   1248\u001b[0m     content_or_path \u001b[39m=\u001b[39m BytesIO(content_or_path)\n\u001b[1;32m-> 1250\u001b[0m \u001b[39mwith\u001b[39;00m get_handle(\n\u001b[0;32m   1251\u001b[0m     content_or_path, \u001b[39m\"\u001b[39;49m\u001b[39mrb\u001b[39;49m\u001b[39m\"\u001b[39;49m, storage_options\u001b[39m=\u001b[39;49mstorage_options, is_text\u001b[39m=\u001b[39;49m\u001b[39mFalse\u001b[39;49;00m\n\u001b[0;32m   1252\u001b[0m ) \u001b[39mas\u001b[39;00m handle:\n\u001b[0;32m   1253\u001b[0m     stream \u001b[39m=\u001b[39m handle\u001b[39m.\u001b[39mhandle\n\u001b[0;32m   1254\u001b[0m     stream\u001b[39m.\u001b[39mseek(\u001b[39m0\u001b[39m)\n",
      "File \u001b[1;32mc:\\Users\\ssds6\\AppData\\Local\\Programs\\Python\\Python310\\lib\\site-packages\\pandas\\io\\common.py:798\u001b[0m, in \u001b[0;36mget_handle\u001b[1;34m(path_or_buf, mode, encoding, compression, memory_map, is_text, errors, storage_options)\u001b[0m\n\u001b[0;32m    789\u001b[0m         handle \u001b[39m=\u001b[39m \u001b[39mopen\u001b[39m(\n\u001b[0;32m    790\u001b[0m             handle,\n\u001b[0;32m    791\u001b[0m             ioargs\u001b[39m.\u001b[39mmode,\n\u001b[1;32m   (...)\u001b[0m\n\u001b[0;32m    794\u001b[0m             newline\u001b[39m=\u001b[39m\u001b[39m\"\u001b[39m\u001b[39m\"\u001b[39m,\n\u001b[0;32m    795\u001b[0m         )\n\u001b[0;32m    796\u001b[0m     \u001b[39melse\u001b[39;00m:\n\u001b[0;32m    797\u001b[0m         \u001b[39m# Binary mode\u001b[39;00m\n\u001b[1;32m--> 798\u001b[0m         handle \u001b[39m=\u001b[39m \u001b[39mopen\u001b[39;49m(handle, ioargs\u001b[39m.\u001b[39;49mmode)\n\u001b[0;32m    799\u001b[0m     handles\u001b[39m.\u001b[39mappend(handle)\n\u001b[0;32m    801\u001b[0m \u001b[39m# Convert BytesIO or file objects passed with an encoding\u001b[39;00m\n",
      "\u001b[1;31mFileNotFoundError\u001b[0m: [Errno 2] No such file or directory: 'C:\\\\Users\\\\ssds6\\\\OneDrive\\\\Escritorio\\\\analisis_deportivo\\\\data\\\\fineTuning\\\\2517004\\\\playerSeasonInfo.xlsx'"
     ]
    }
   ],
   "source": [
    "#Load Datos tabulares\n",
    "ids = 2517004 #2516982 #2516941\n",
    "path = fr\"C:\\Users\\ssds6\\OneDrive\\Escritorio\\analisis_deportivo\\data\\fineTuning\\{ids}\"\n",
    "metricas = pd.read_excel(os.path.join(path,\"playerSeasonInfo.xlsx\"))\n",
    "tabla = pd.read_excel(os.path.join(path,\"Tabla.xlsx\"))\n",
    "tabla['Posicion'] = tabla.index +1\n",
    "partido = pd.read_excel(os.path.join(path,\"matchInfo.xlsx\"))"
   ]
  },
  {
   "cell_type": "code",
   "execution_count": null,
   "metadata": {},
   "outputs": [
    {
     "data": {
      "text/html": [
       "<div>\n",
       "<style scoped>\n",
       "    .dataframe tbody tr th:only-of-type {\n",
       "        vertical-align: middle;\n",
       "    }\n",
       "\n",
       "    .dataframe tbody tr th {\n",
       "        vertical-align: top;\n",
       "    }\n",
       "\n",
       "    .dataframe thead th {\n",
       "        text-align: right;\n",
       "    }\n",
       "</style>\n",
       "<table border=\"1\" class=\"dataframe\">\n",
       "  <thead>\n",
       "    <tr style=\"text-align: right;\">\n",
       "      <th></th>\n",
       "      <th>Unnamed: 0</th>\n",
       "      <th>shortName</th>\n",
       "      <th>currentTeamId</th>\n",
       "      <th>goals</th>\n",
       "      <th>goal_assisted</th>\n",
       "      <th>matches</th>\n",
       "      <th>red_card</th>\n",
       "      <th>yellow_card</th>\n",
       "    </tr>\n",
       "  </thead>\n",
       "  <tbody>\n",
       "    <tr>\n",
       "      <th>0</th>\n",
       "      <td>8</td>\n",
       "      <td>N. \\u015eahin</td>\n",
       "      <td>Borussia Dortmund</td>\n",
       "      <td>2</td>\n",
       "      <td>2</td>\n",
       "      <td>17</td>\n",
       "      <td>0</td>\n",
       "      <td>2</td>\n",
       "    </tr>\n",
       "    <tr>\n",
       "      <th>1</th>\n",
       "      <td>18</td>\n",
       "      <td>Pablo \\u00cdnsua</td>\n",
       "      <td>Schalke 04</td>\n",
       "      <td>0</td>\n",
       "      <td>0</td>\n",
       "      <td>1</td>\n",
       "      <td>0</td>\n",
       "      <td>1</td>\n",
       "    </tr>\n",
       "    <tr>\n",
       "      <th>2</th>\n",
       "      <td>23</td>\n",
       "      <td>F. Di Santo</td>\n",
       "      <td>Schalke 04</td>\n",
       "      <td>3</td>\n",
       "      <td>1</td>\n",
       "      <td>27</td>\n",
       "      <td>0</td>\n",
       "      <td>2</td>\n",
       "    </tr>\n",
       "    <tr>\n",
       "      <th>3</th>\n",
       "      <td>26</td>\n",
       "      <td>S. Papastathopoulos</td>\n",
       "      <td>Borussia Dortmund</td>\n",
       "      <td>2</td>\n",
       "      <td>0</td>\n",
       "      <td>27</td>\n",
       "      <td>1</td>\n",
       "      <td>3</td>\n",
       "    </tr>\n",
       "    <tr>\n",
       "      <th>4</th>\n",
       "      <td>27</td>\n",
       "      <td>Naldo</td>\n",
       "      <td>Schalke 04</td>\n",
       "      <td>7</td>\n",
       "      <td>2</td>\n",
       "      <td>30</td>\n",
       "      <td>0</td>\n",
       "      <td>4</td>\n",
       "    </tr>\n",
       "  </tbody>\n",
       "</table>\n",
       "</div>"
      ],
      "text/plain": [
       "   Unnamed: 0            shortName      currentTeamId  goals  goal_assisted  \\\n",
       "0           8        N. \\u015eahin  Borussia Dortmund      2              2   \n",
       "1          18     Pablo \\u00cdnsua         Schalke 04      0              0   \n",
       "2          23          F. Di Santo         Schalke 04      3              1   \n",
       "3          26  S. Papastathopoulos  Borussia Dortmund      2              0   \n",
       "4          27                Naldo         Schalke 04      7              2   \n",
       "\n",
       "   matches  red_card  yellow_card  \n",
       "0       17         0            2  \n",
       "1        1         0            1  \n",
       "2       27         0            2  \n",
       "3       27         1            3  \n",
       "4       30         0            4  "
      ]
     },
     "execution_count": 14,
     "metadata": {},
     "output_type": "execute_result"
    }
   ],
   "source": [
    "metricas.head()"
   ]
  },
  {
   "cell_type": "code",
   "execution_count": null,
   "metadata": {},
   "outputs": [
    {
     "data": {
      "text/html": [
       "<div>\n",
       "<style scoped>\n",
       "    .dataframe tbody tr th:only-of-type {\n",
       "        vertical-align: middle;\n",
       "    }\n",
       "\n",
       "    .dataframe tbody tr th {\n",
       "        vertical-align: top;\n",
       "    }\n",
       "\n",
       "    .dataframe thead th {\n",
       "        text-align: right;\n",
       "    }\n",
       "</style>\n",
       "<table border=\"1\" class=\"dataframe\">\n",
       "  <thead>\n",
       "    <tr style=\"text-align: right;\">\n",
       "      <th></th>\n",
       "      <th>Unnamed: 0</th>\n",
       "      <th>index</th>\n",
       "      <th>local</th>\n",
       "      <th>visita</th>\n",
       "      <th>Jornada</th>\n",
       "      <th>Fecha</th>\n",
       "      <th>venue</th>\n",
       "      <th>competitionId</th>\n",
       "      <th>coachIdLocal</th>\n",
       "      <th>coachIdVisita</th>\n",
       "    </tr>\n",
       "  </thead>\n",
       "  <tbody>\n",
       "    <tr>\n",
       "      <th>0</th>\n",
       "      <td>0</td>\n",
       "      <td>38</td>\n",
       "      <td>Schalke 04</td>\n",
       "      <td>Borussia Dortmund</td>\n",
       "      <td>30</td>\n",
       "      <td>2018-04-15 13:30:00</td>\n",
       "      <td>VELTINS-Arena</td>\n",
       "      <td>German first division</td>\n",
       "      <td>D. Tedesco</td>\n",
       "      <td>NaN</td>\n",
       "    </tr>\n",
       "  </tbody>\n",
       "</table>\n",
       "</div>"
      ],
      "text/plain": [
       "   Unnamed: 0  index       local             visita  Jornada  \\\n",
       "0           0     38  Schalke 04  Borussia Dortmund       30   \n",
       "\n",
       "                 Fecha          venue          competitionId coachIdLocal  \\\n",
       "0  2018-04-15 13:30:00  VELTINS-Arena  German first division   D. Tedesco   \n",
       "\n",
       "   coachIdVisita  \n",
       "0            NaN  "
      ]
     },
     "execution_count": 20,
     "metadata": {},
     "output_type": "execute_result"
    }
   ],
   "source": [
    "partido"
   ]
  },
  {
   "cell_type": "code",
   "execution_count": null,
   "metadata": {},
   "outputs": [
    {
     "data": {
      "text/html": [
       "<div>\n",
       "<style scoped>\n",
       "    .dataframe tbody tr th:only-of-type {\n",
       "        vertical-align: middle;\n",
       "    }\n",
       "\n",
       "    .dataframe tbody tr th {\n",
       "        vertical-align: top;\n",
       "    }\n",
       "\n",
       "    .dataframe thead th {\n",
       "        text-align: right;\n",
       "    }\n",
       "</style>\n",
       "<table border=\"1\" class=\"dataframe\">\n",
       "  <thead>\n",
       "    <tr style=\"text-align: right;\">\n",
       "      <th></th>\n",
       "      <th>Unnamed: 0</th>\n",
       "      <th>victorias</th>\n",
       "      <th>empates</th>\n",
       "      <th>derrotas</th>\n",
       "      <th>gf</th>\n",
       "      <th>ga</th>\n",
       "      <th>gd</th>\n",
       "      <th>Puntos</th>\n",
       "      <th>Posicion</th>\n",
       "    </tr>\n",
       "  </thead>\n",
       "  <tbody>\n",
       "    <tr>\n",
       "      <th>0</th>\n",
       "      <td>Bayern M\\u00fcnchen</td>\n",
       "      <td>24</td>\n",
       "      <td>3</td>\n",
       "      <td>3</td>\n",
       "      <td>81</td>\n",
       "      <td>22</td>\n",
       "      <td>59</td>\n",
       "      <td>75</td>\n",
       "      <td>1</td>\n",
       "    </tr>\n",
       "    <tr>\n",
       "      <th>1</th>\n",
       "      <td>Schalke 04</td>\n",
       "      <td>16</td>\n",
       "      <td>7</td>\n",
       "      <td>7</td>\n",
       "      <td>47</td>\n",
       "      <td>33</td>\n",
       "      <td>14</td>\n",
       "      <td>55</td>\n",
       "      <td>2</td>\n",
       "    </tr>\n",
       "    <tr>\n",
       "      <th>2</th>\n",
       "      <td>Bayer Leverkusen</td>\n",
       "      <td>14</td>\n",
       "      <td>9</td>\n",
       "      <td>7</td>\n",
       "      <td>55</td>\n",
       "      <td>37</td>\n",
       "      <td>18</td>\n",
       "      <td>51</td>\n",
       "      <td>3</td>\n",
       "    </tr>\n",
       "    <tr>\n",
       "      <th>3</th>\n",
       "      <td>Borussia Dortmund</td>\n",
       "      <td>14</td>\n",
       "      <td>9</td>\n",
       "      <td>7</td>\n",
       "      <td>57</td>\n",
       "      <td>41</td>\n",
       "      <td>16</td>\n",
       "      <td>51</td>\n",
       "      <td>4</td>\n",
       "    </tr>\n",
       "    <tr>\n",
       "      <th>4</th>\n",
       "      <td>Hoffenheim</td>\n",
       "      <td>12</td>\n",
       "      <td>10</td>\n",
       "      <td>8</td>\n",
       "      <td>55</td>\n",
       "      <td>42</td>\n",
       "      <td>13</td>\n",
       "      <td>46</td>\n",
       "      <td>5</td>\n",
       "    </tr>\n",
       "  </tbody>\n",
       "</table>\n",
       "</div>"
      ],
      "text/plain": [
       "            Unnamed: 0  victorias  empates  derrotas  gf  ga  gd  Puntos  \\\n",
       "0  Bayern M\\u00fcnchen         24        3         3  81  22  59      75   \n",
       "1           Schalke 04         16        7         7  47  33  14      55   \n",
       "2     Bayer Leverkusen         14        9         7  55  37  18      51   \n",
       "3    Borussia Dortmund         14        9         7  57  41  16      51   \n",
       "4           Hoffenheim         12       10         8  55  42  13      46   \n",
       "\n",
       "   Posicion  \n",
       "0         1  \n",
       "1         2  \n",
       "2         3  \n",
       "3         4  \n",
       "4         5  "
      ]
     },
     "execution_count": 16,
     "metadata": {},
     "output_type": "execute_result"
    }
   ],
   "source": [
    "tabla.head()"
   ]
  },
  {
   "cell_type": "code",
   "execution_count": null,
   "metadata": {},
   "outputs": [],
   "source": [
    "#Extraer informacion\n",
    "# Partido\n",
    "matchInfo ={\n",
    "'Home Team' : partido.iloc[0]['local'],\n",
    "'Away Team' : partido.iloc[0]['visita'],\n",
    "'Gameweek' : partido.iloc[0]['Jornada'],\n",
    "'Venue' : partido.iloc[0]['venue'],\n",
    "'Competition' : \"Bundesliga\",\n",
    "'HomeCoach' : partido.iloc[0]['coachIdLocal'],\n",
    "'AwayCoach' : partido.iloc[0]['coachIdVisita']}\n",
    "\n",
    "Dateutc = datetime.datetime.strptime(partido.iloc[0]['Fecha'],'%Y-%m-%d %H:%M:%S')\n",
    "matchInfo['Date'] = str(Dateutc.date())\n",
    "matchInfo['Time UTC'] = str(Dateutc.time())\n",
    "\n",
    "#Torneo\n",
    "homeTable = tabla[tabla['Unnamed: 0']==HomeTeam].reset_index()\n",
    "\n",
    "homeTable = {\n",
    "'Home Position' : homeTable.iloc[0]['Posicion'],\n",
    "'Home Points' : homeTable.iloc[0]['Puntos'],\n",
    "'Home Wins' : homeTable.iloc[0]['victorias'],\n",
    "'Home Ties' : homeTable.iloc[0]['empates'],\n",
    "'Home Defeats' : homeTable.iloc[0]['derrotas'],\n",
    "'Home Goals Scored':homeTable.iloc[0]['gf'],\n",
    "'Home Goals Against':homeTable.iloc[0]['ga']}\n",
    "\n",
    "idx = tabla.index.get_loc(homeTable['Home Position']-1)\n",
    "test = tabla.iloc[idx - 1 : idx + 2].reset_index()\n",
    "\n",
    "homeTable['Team Above Home Team'] = test.iloc[0]['Unnamed: 0']\n",
    "homeTable['Points Team Above Home Team'] = test.iloc[0]['Puntos']\n",
    "\n",
    "homeTable['Team Below Home Team'] = test.iloc[2]['Unnamed: 0']\n",
    "homeTable['Points Team Below Home Team'] = test.iloc[2]['Puntos']\n",
    "\n",
    "awayTable = tabla[tabla['Unnamed: 0']==AwayTeam].reset_index()\n",
    "\n",
    "awayTable = {\n",
    "'Away Position' : awayTable.iloc[0]['Posicion'],\n",
    "'Away Points' : awayTable.iloc[0]['Puntos'],\n",
    "'Away Wins' : awayTable.iloc[0]['victorias'],\n",
    "'Away Ties' : awayTable.iloc[0]['empates'],\n",
    "'Away Defeats' : awayTable.iloc[0]['derrotas'],\n",
    "'Away Goals Scored':awayTable.iloc[0]['gf'],\n",
    "'Away Goals Against':awayTable.iloc[0]['ga']}\n",
    "\n",
    "idx = tabla.index.get_loc(awayTable['Away Position']-1)\n",
    "test = tabla.iloc[idx - 1 : idx + 2].reset_index()\n",
    "\n",
    "awayTable['Team Above Away Team'] = test.iloc[0]['Unnamed: 0']\n",
    "awayTable['Points Team Above Away Team'] = test.iloc[0]['Puntos']\n",
    "\n",
    "awayTable['Team Below Away Team'] = test.iloc[2]['Unnamed: 0']\n",
    "awayTable['Points Team Below Away Team'] = test.iloc[2]['Puntos']\n",
    "\n",
    "#Metricas\n",
    "#Home\n",
    "homeStats = {}\n",
    "metricasHome = metricas[metricas['currentTeamId'] == HomeTeam]\n",
    "metricasHome = metricasHome.sort_values(by='goals', ascending=False).reset_index()\n",
    "homeStats['Home Top Scorer'] = metricasHome.iloc[0]['Unnamed: 0']\n",
    "metricasHome = metricasHome.sort_values(by='goal_assisted',ascending=False).reset_index()\n",
    "homeStats['Home Top Assister'] = metricasHome.iloc[0]['Unnamed: 0']\n",
    "metricasHome = metricasHome.sort_values(by='red_card',ascending=False).reset_index(drop=True)\n",
    "homeStats['Home Most Sent Off'] = metricasHome.iloc[0]['Unnamed: 0']\n",
    "#Away\n",
    "awayStats = {}\n",
    "metricasAway = metricas[metricas['currentTeamId'] == AwayTeam]\n",
    "metricasAway = metricasAway.sort_values(by='goals', ascending=False).reset_index()\n",
    "awayStats['Away Top Scorer'] = metricasAway.iloc[0]['Unnamed: 0']\n",
    "metricasAway = metricasAway.sort_values(by='goal_assisted', ascending=False).reset_index()\n",
    "awayStats['Away Top Assister'] = metricasAway.iloc[0]['Unnamed: 0']\n",
    "metricasAway = metricasAway.sort_values(by='red_card', ascending=False).reset_index(drop=True)\n",
    "awayStats['Away Most SentOff'] = metricasAway.iloc[0]['Unnamed: 0']"
   ]
  },
  {
   "cell_type": "code",
   "execution_count": null,
   "metadata": {},
   "outputs": [
    {
     "data": {
      "text/plain": [
       "'The individual stats info on the home team is: Home Top Scorer : 247 ; Home Top Assister : 92 ; Home Most Sent Off : 92 ;  The position info on the home team is: Home Position : 2 ; Home Points : 55 ; Home Wins : 16 ; Home Ties : 7 ; Home Defeats : 7 ; Home Goals Scored : 47 ; Home Goals Against : 33 ; Team Above Home Team : Bayern M\\\\u00fcnchen ; Points Team Above Home Team : 75 ; Team Below Home Team : Bayer Leverkusen ; Points Team Below Home Team : 51 ; '"
      ]
     },
     "execution_count": 69,
     "metadata": {},
     "output_type": "execute_result"
    }
   ],
   "source": [
    "#Escribir datos para prompt\n",
    "separador=' : '\n",
    "\n",
    "match_prompt = ''\n",
    "\n",
    "for k,v in matchInfo.items():\n",
    "    aux = k + separador + str(v) + ' ; '\n",
    "    match_prompt += aux\n",
    "\n",
    "home_team_prompt = ''\n",
    "home_stats = ''\n",
    "for k,v in homeStats.items():\n",
    "    aux = k + separador + str(v) + ' ; '\n",
    "    home_stats += aux\n",
    "\n",
    "home_table = ''\n",
    "for k,v in homeTable.items():\n",
    "    aux = k + separador + str(v) + ' ; '\n",
    "    home_table += aux\n",
    "    \n",
    "home_team_prompt = 'The individual stats info on the home team is: ' + home_stats + ' The position info on the home team is: ' + home_table\n",
    "home_team_prompt"
   ]
  },
  {
   "cell_type": "code",
   "execution_count": null,
   "metadata": {},
   "outputs": [
    {
     "name": "stdout",
     "output_type": "stream",
     "text": [
      "None\n"
     ]
    }
   ],
   "source": []
  },
  {
   "cell_type": "code",
   "execution_count": null,
   "metadata": {},
   "outputs": [
    {
     "data": {
      "text/plain": [
       "Index(['Unnamed: 0', 'shortName', 'currentTeamId', 'goals', 'goal_assisted',\n",
       "       'matches', 'red_card', 'yellow_card'],\n",
       "      dtype='object')"
      ]
     },
     "execution_count": 43,
     "metadata": {},
     "output_type": "execute_result"
    }
   ],
   "source": [
    "metricas.columns"
   ]
  },
  {
   "cell_type": "code",
   "execution_count": null,
   "metadata": {},
   "outputs": [],
   "source": [
    "prompt = \"\"\"\n",
    "\"\"\"\n",
    "\n",
    "comp = get_gpt3_completion(prompt)"
   ]
  },
  {
   "cell_type": "code",
   "execution_count": null,
   "metadata": {},
   "outputs": [],
   "source": []
  },
  {
   "cell_type": "code",
   "execution_count": null,
   "metadata": {},
   "outputs": [],
   "source": [
    "comp"
   ]
  }
 ],
 "metadata": {
  "kernelspec": {
   "display_name": "Python 3",
   "language": "python",
   "name": "python3"
  },
  "language_info": {
   "codemirror_mode": {
    "name": "ipython",
    "version": 3
   },
   "file_extension": ".py",
   "mimetype": "text/x-python",
   "name": "python",
   "nbconvert_exporter": "python",
   "pygments_lexer": "ipython3",
   "version": "3.10.5"
  }
 },
 "nbformat": 4,
 "nbformat_minor": 4
}
