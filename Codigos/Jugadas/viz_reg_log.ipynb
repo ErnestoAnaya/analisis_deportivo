{
 "cells": [
  {
   "cell_type": "code",
   "execution_count": 124,
   "id": "e647dac2",
   "metadata": {},
   "outputs": [],
   "source": [
    "import pandas as pd\n",
    "import numpy as np\n",
    "from sklearn import preprocessing\n",
    "import matplotlib.pyplot as plt \n",
    "import seaborn as sns\n",
    "\n",
    "from sklearn.linear_model import LogisticRegression\n",
    "from sklearn.model_selection import train_test_split"
   ]
  },
  {
   "cell_type": "code",
   "execution_count": 125,
   "id": "a9a8fde2",
   "metadata": {},
   "outputs": [],
   "source": [
    "df = pd.read_csv('germany.csv')"
   ]
  },
  {
   "cell_type": "code",
   "execution_count": 126,
   "id": "9aa2b330",
   "metadata": {},
   "outputs": [],
   "source": [
    "def separar_jugadas_2(df):\n",
    "\n",
    "  team1 = df.teamId.unique()[0]\n",
    "  team2 = df.teamId.unique()[1]\n",
    "\n",
    "  #eliminar eventos que no queremos\n",
    "\n",
    "  df1 = df.drop(df[(df['tag_0'] == 701) | # quitar duelos perdidos. Parece que solo aparecen en los \n",
    "                  (df['tag_1'] == 701) |\n",
    "                  (df['tag_2'] == 701) |\n",
    "                  (df['tag_3'] == 701) |\n",
    "                  (df['tag_4'] == 701) |\n",
    "                  (df['tag_5'] == 701)].index)\n",
    "  \n",
    "  df1 = df1.drop(df1[((df1['eventName'] == 'Duel') & (df1['teamId'].shift(-1) == df1['teamId'].shift(1)))].index) #Team - Duel - Team\n",
    "\n",
    "     \n",
    "  df1 = df1[(df1['eventName'] != \"Save attempt\")]\n",
    "\n",
    "  df1['playId'] = ( ((df1['teamId'] != df1['teamId'].shift(2)) &  ((df1['teamId'] != df1['teamId'].shift(1))) |  #No las cuenta si alguna de las últimas 2 acciones son del otro equipo\n",
    "                       (df1['eventName'].shift(1) == 'Interruption') | #sumar si el evento pasado es un interruption\n",
    "                       (df1['matchPeriod'].shift(1) != df1['matchPeriod']) | #Asegura que en la transn 1H-2H se genere nueva jugada \n",
    "                       (df1['eventName'] == 'Free Kick') #Asegurar que los tiros libres inicien una nueva jugada\n",
    "                       )).cumsum()                     \n",
    "\n",
    "  (df1.loc[\n",
    "      ((df1['teamId'] != df1['teamId'].shift(1)) & \n",
    "       (df1['teamId'] != df1['teamId'].shift(-1))),'playId']) = 0\n",
    "    \n",
    "  df['playId'] = (pd.concat((df,df1['playId']),axis=1))['playId'].fillna(0)\n",
    "\n",
    "  return df"
   ]
  },
  {
   "cell_type": "code",
   "execution_count": 127,
   "id": "b6baff15",
   "metadata": {},
   "outputs": [
    {
     "data": {
      "text/html": [
       "<div>\n",
       "<style scoped>\n",
       "    .dataframe tbody tr th:only-of-type {\n",
       "        vertical-align: middle;\n",
       "    }\n",
       "\n",
       "    .dataframe tbody tr th {\n",
       "        vertical-align: top;\n",
       "    }\n",
       "\n",
       "    .dataframe thead th {\n",
       "        text-align: right;\n",
       "    }\n",
       "</style>\n",
       "<table border=\"1\" class=\"dataframe\">\n",
       "  <thead>\n",
       "    <tr style=\"text-align: right;\">\n",
       "      <th></th>\n",
       "      <th>Unnamed: 0</th>\n",
       "      <th>eventId</th>\n",
       "      <th>subEventName</th>\n",
       "      <th>playerId</th>\n",
       "      <th>matchId</th>\n",
       "      <th>eventName</th>\n",
       "      <th>teamId</th>\n",
       "      <th>matchPeriod</th>\n",
       "      <th>eventSec</th>\n",
       "      <th>subEventId</th>\n",
       "      <th>...</th>\n",
       "      <th>y_inicio</th>\n",
       "      <th>x_fin</th>\n",
       "      <th>y_fin</th>\n",
       "      <th>tag_0</th>\n",
       "      <th>tag_1</th>\n",
       "      <th>tag_2</th>\n",
       "      <th>tag_3</th>\n",
       "      <th>tag_4</th>\n",
       "      <th>tag_5</th>\n",
       "      <th>playId</th>\n",
       "    </tr>\n",
       "  </thead>\n",
       "  <tbody>\n",
       "    <tr>\n",
       "      <th>0</th>\n",
       "      <td>0</td>\n",
       "      <td>8</td>\n",
       "      <td>Simple pass</td>\n",
       "      <td>15231</td>\n",
       "      <td>2516739</td>\n",
       "      <td>Pass</td>\n",
       "      <td>2446</td>\n",
       "      <td>1H</td>\n",
       "      <td>2.409746</td>\n",
       "      <td>85.0</td>\n",
       "      <td>...</td>\n",
       "      <td>50</td>\n",
       "      <td>50.0</td>\n",
       "      <td>48.0</td>\n",
       "      <td>1801.0</td>\n",
       "      <td>NaN</td>\n",
       "      <td>NaN</td>\n",
       "      <td>NaN</td>\n",
       "      <td>NaN</td>\n",
       "      <td>NaN</td>\n",
       "      <td>1.0</td>\n",
       "    </tr>\n",
       "    <tr>\n",
       "      <th>1</th>\n",
       "      <td>1</td>\n",
       "      <td>8</td>\n",
       "      <td>Simple pass</td>\n",
       "      <td>14786</td>\n",
       "      <td>2516739</td>\n",
       "      <td>Pass</td>\n",
       "      <td>2446</td>\n",
       "      <td>1H</td>\n",
       "      <td>2.506082</td>\n",
       "      <td>85.0</td>\n",
       "      <td>...</td>\n",
       "      <td>48</td>\n",
       "      <td>22.0</td>\n",
       "      <td>22.0</td>\n",
       "      <td>1801.0</td>\n",
       "      <td>NaN</td>\n",
       "      <td>NaN</td>\n",
       "      <td>NaN</td>\n",
       "      <td>NaN</td>\n",
       "      <td>NaN</td>\n",
       "      <td>1.0</td>\n",
       "    </tr>\n",
       "    <tr>\n",
       "      <th>2</th>\n",
       "      <td>2</td>\n",
       "      <td>8</td>\n",
       "      <td>Simple pass</td>\n",
       "      <td>14803</td>\n",
       "      <td>2516739</td>\n",
       "      <td>Pass</td>\n",
       "      <td>2446</td>\n",
       "      <td>1H</td>\n",
       "      <td>6.946706</td>\n",
       "      <td>85.0</td>\n",
       "      <td>...</td>\n",
       "      <td>22</td>\n",
       "      <td>6.0</td>\n",
       "      <td>46.0</td>\n",
       "      <td>1801.0</td>\n",
       "      <td>NaN</td>\n",
       "      <td>NaN</td>\n",
       "      <td>NaN</td>\n",
       "      <td>NaN</td>\n",
       "      <td>NaN</td>\n",
       "      <td>1.0</td>\n",
       "    </tr>\n",
       "    <tr>\n",
       "      <th>3</th>\n",
       "      <td>3</td>\n",
       "      <td>8</td>\n",
       "      <td>Simple pass</td>\n",
       "      <td>14768</td>\n",
       "      <td>2516739</td>\n",
       "      <td>Pass</td>\n",
       "      <td>2446</td>\n",
       "      <td>1H</td>\n",
       "      <td>10.786491</td>\n",
       "      <td>85.0</td>\n",
       "      <td>...</td>\n",
       "      <td>46</td>\n",
       "      <td>20.0</td>\n",
       "      <td>10.0</td>\n",
       "      <td>1801.0</td>\n",
       "      <td>NaN</td>\n",
       "      <td>NaN</td>\n",
       "      <td>NaN</td>\n",
       "      <td>NaN</td>\n",
       "      <td>NaN</td>\n",
       "      <td>1.0</td>\n",
       "    </tr>\n",
       "    <tr>\n",
       "      <th>4</th>\n",
       "      <td>4</td>\n",
       "      <td>8</td>\n",
       "      <td>Simple pass</td>\n",
       "      <td>14803</td>\n",
       "      <td>2516739</td>\n",
       "      <td>Pass</td>\n",
       "      <td>2446</td>\n",
       "      <td>1H</td>\n",
       "      <td>12.684514</td>\n",
       "      <td>85.0</td>\n",
       "      <td>...</td>\n",
       "      <td>10</td>\n",
       "      <td>27.0</td>\n",
       "      <td>4.0</td>\n",
       "      <td>1801.0</td>\n",
       "      <td>NaN</td>\n",
       "      <td>NaN</td>\n",
       "      <td>NaN</td>\n",
       "      <td>NaN</td>\n",
       "      <td>NaN</td>\n",
       "      <td>1.0</td>\n",
       "    </tr>\n",
       "    <tr>\n",
       "      <th>...</th>\n",
       "      <td>...</td>\n",
       "      <td>...</td>\n",
       "      <td>...</td>\n",
       "      <td>...</td>\n",
       "      <td>...</td>\n",
       "      <td>...</td>\n",
       "      <td>...</td>\n",
       "      <td>...</td>\n",
       "      <td>...</td>\n",
       "      <td>...</td>\n",
       "      <td>...</td>\n",
       "      <td>...</td>\n",
       "      <td>...</td>\n",
       "      <td>...</td>\n",
       "      <td>...</td>\n",
       "      <td>...</td>\n",
       "      <td>...</td>\n",
       "      <td>...</td>\n",
       "      <td>...</td>\n",
       "      <td>...</td>\n",
       "      <td>...</td>\n",
       "    </tr>\n",
       "    <tr>\n",
       "      <th>519402</th>\n",
       "      <td>519402</td>\n",
       "      <td>1</td>\n",
       "      <td>Ground attacking duel</td>\n",
       "      <td>15317</td>\n",
       "      <td>2517044</td>\n",
       "      <td>Duel</td>\n",
       "      <td>2463</td>\n",
       "      <td>2H</td>\n",
       "      <td>2825.097992</td>\n",
       "      <td>11.0</td>\n",
       "      <td>...</td>\n",
       "      <td>9</td>\n",
       "      <td>90.0</td>\n",
       "      <td>6.0</td>\n",
       "      <td>702.0</td>\n",
       "      <td>1801.0</td>\n",
       "      <td>NaN</td>\n",
       "      <td>NaN</td>\n",
       "      <td>NaN</td>\n",
       "      <td>NaN</td>\n",
       "      <td>0.0</td>\n",
       "    </tr>\n",
       "    <tr>\n",
       "      <th>519403</th>\n",
       "      <td>519403</td>\n",
       "      <td>1</td>\n",
       "      <td>Ground defending duel</td>\n",
       "      <td>14804</td>\n",
       "      <td>2517044</td>\n",
       "      <td>Duel</td>\n",
       "      <td>2451</td>\n",
       "      <td>2H</td>\n",
       "      <td>2825.519102</td>\n",
       "      <td>12.0</td>\n",
       "      <td>...</td>\n",
       "      <td>94</td>\n",
       "      <td>0.0</td>\n",
       "      <td>95.0</td>\n",
       "      <td>703.0</td>\n",
       "      <td>1801.0</td>\n",
       "      <td>NaN</td>\n",
       "      <td>NaN</td>\n",
       "      <td>NaN</td>\n",
       "      <td>NaN</td>\n",
       "      <td>101089.0</td>\n",
       "    </tr>\n",
       "    <tr>\n",
       "      <th>519404</th>\n",
       "      <td>519404</td>\n",
       "      <td>1</td>\n",
       "      <td>Ground attacking duel</td>\n",
       "      <td>15317</td>\n",
       "      <td>2517044</td>\n",
       "      <td>Duel</td>\n",
       "      <td>2463</td>\n",
       "      <td>2H</td>\n",
       "      <td>2826.053788</td>\n",
       "      <td>11.0</td>\n",
       "      <td>...</td>\n",
       "      <td>6</td>\n",
       "      <td>100.0</td>\n",
       "      <td>5.0</td>\n",
       "      <td>701.0</td>\n",
       "      <td>1802.0</td>\n",
       "      <td>NaN</td>\n",
       "      <td>NaN</td>\n",
       "      <td>NaN</td>\n",
       "      <td>NaN</td>\n",
       "      <td>0.0</td>\n",
       "    </tr>\n",
       "    <tr>\n",
       "      <th>519405</th>\n",
       "      <td>519405</td>\n",
       "      <td>8</td>\n",
       "      <td>Simple pass</td>\n",
       "      <td>14804</td>\n",
       "      <td>2517044</td>\n",
       "      <td>Pass</td>\n",
       "      <td>2451</td>\n",
       "      <td>2H</td>\n",
       "      <td>2828.080925</td>\n",
       "      <td>85.0</td>\n",
       "      <td>...</td>\n",
       "      <td>95</td>\n",
       "      <td>5.0</td>\n",
       "      <td>93.0</td>\n",
       "      <td>1802.0</td>\n",
       "      <td>NaN</td>\n",
       "      <td>NaN</td>\n",
       "      <td>NaN</td>\n",
       "      <td>NaN</td>\n",
       "      <td>NaN</td>\n",
       "      <td>101089.0</td>\n",
       "    </tr>\n",
       "    <tr>\n",
       "      <th>519406</th>\n",
       "      <td>519406</td>\n",
       "      <td>7</td>\n",
       "      <td>Touch</td>\n",
       "      <td>15317</td>\n",
       "      <td>2517044</td>\n",
       "      <td>Others on the ball</td>\n",
       "      <td>2463</td>\n",
       "      <td>2H</td>\n",
       "      <td>2829.509819</td>\n",
       "      <td>72.0</td>\n",
       "      <td>...</td>\n",
       "      <td>7</td>\n",
       "      <td>100.0</td>\n",
       "      <td>100.0</td>\n",
       "      <td>1401.0</td>\n",
       "      <td>NaN</td>\n",
       "      <td>NaN</td>\n",
       "      <td>NaN</td>\n",
       "      <td>NaN</td>\n",
       "      <td>NaN</td>\n",
       "      <td>0.0</td>\n",
       "    </tr>\n",
       "  </tbody>\n",
       "</table>\n",
       "<p>519407 rows × 22 columns</p>\n",
       "</div>"
      ],
      "text/plain": [
       "        Unnamed: 0  eventId           subEventName  playerId  matchId  \\\n",
       "0                0        8            Simple pass     15231  2516739   \n",
       "1                1        8            Simple pass     14786  2516739   \n",
       "2                2        8            Simple pass     14803  2516739   \n",
       "3                3        8            Simple pass     14768  2516739   \n",
       "4                4        8            Simple pass     14803  2516739   \n",
       "...            ...      ...                    ...       ...      ...   \n",
       "519402      519402        1  Ground attacking duel     15317  2517044   \n",
       "519403      519403        1  Ground defending duel     14804  2517044   \n",
       "519404      519404        1  Ground attacking duel     15317  2517044   \n",
       "519405      519405        8            Simple pass     14804  2517044   \n",
       "519406      519406        7                  Touch     15317  2517044   \n",
       "\n",
       "                 eventName  teamId matchPeriod     eventSec  subEventId  ...  \\\n",
       "0                     Pass    2446          1H     2.409746        85.0  ...   \n",
       "1                     Pass    2446          1H     2.506082        85.0  ...   \n",
       "2                     Pass    2446          1H     6.946706        85.0  ...   \n",
       "3                     Pass    2446          1H    10.786491        85.0  ...   \n",
       "4                     Pass    2446          1H    12.684514        85.0  ...   \n",
       "...                    ...     ...         ...          ...         ...  ...   \n",
       "519402                Duel    2463          2H  2825.097992        11.0  ...   \n",
       "519403                Duel    2451          2H  2825.519102        12.0  ...   \n",
       "519404                Duel    2463          2H  2826.053788        11.0  ...   \n",
       "519405                Pass    2451          2H  2828.080925        85.0  ...   \n",
       "519406  Others on the ball    2463          2H  2829.509819        72.0  ...   \n",
       "\n",
       "        y_inicio  x_fin  y_fin   tag_0   tag_1  tag_2  tag_3  tag_4  tag_5  \\\n",
       "0             50   50.0   48.0  1801.0     NaN    NaN    NaN    NaN    NaN   \n",
       "1             48   22.0   22.0  1801.0     NaN    NaN    NaN    NaN    NaN   \n",
       "2             22    6.0   46.0  1801.0     NaN    NaN    NaN    NaN    NaN   \n",
       "3             46   20.0   10.0  1801.0     NaN    NaN    NaN    NaN    NaN   \n",
       "4             10   27.0    4.0  1801.0     NaN    NaN    NaN    NaN    NaN   \n",
       "...          ...    ...    ...     ...     ...    ...    ...    ...    ...   \n",
       "519402         9   90.0    6.0   702.0  1801.0    NaN    NaN    NaN    NaN   \n",
       "519403        94    0.0   95.0   703.0  1801.0    NaN    NaN    NaN    NaN   \n",
       "519404         6  100.0    5.0   701.0  1802.0    NaN    NaN    NaN    NaN   \n",
       "519405        95    5.0   93.0  1802.0     NaN    NaN    NaN    NaN    NaN   \n",
       "519406         7  100.0  100.0  1401.0     NaN    NaN    NaN    NaN    NaN   \n",
       "\n",
       "          playId  \n",
       "0            1.0  \n",
       "1            1.0  \n",
       "2            1.0  \n",
       "3            1.0  \n",
       "4            1.0  \n",
       "...          ...  \n",
       "519402       0.0  \n",
       "519403  101089.0  \n",
       "519404       0.0  \n",
       "519405  101089.0  \n",
       "519406       0.0  \n",
       "\n",
       "[519407 rows x 22 columns]"
      ]
     },
     "execution_count": 127,
     "metadata": {},
     "output_type": "execute_result"
    }
   ],
   "source": [
    "jug_sep = separar_jugadas_2(df) #jug_sep 384412 eventos\n",
    "jug_sep                         #519407"
   ]
  },
  {
   "cell_type": "markdown",
   "id": "6f642d73",
   "metadata": {},
   "source": [
    "# verificar que los tiros están del mismo lado"
   ]
  },
  {
   "cell_type": "code",
   "execution_count": 128,
   "id": "78d0024b",
   "metadata": {},
   "outputs": [
    {
     "data": {
      "text/html": [
       "<div>\n",
       "<style scoped>\n",
       "    .dataframe tbody tr th:only-of-type {\n",
       "        vertical-align: middle;\n",
       "    }\n",
       "\n",
       "    .dataframe tbody tr th {\n",
       "        vertical-align: top;\n",
       "    }\n",
       "\n",
       "    .dataframe thead th {\n",
       "        text-align: right;\n",
       "    }\n",
       "</style>\n",
       "<table border=\"1\" class=\"dataframe\">\n",
       "  <thead>\n",
       "    <tr style=\"text-align: right;\">\n",
       "      <th></th>\n",
       "      <th>Unnamed: 0</th>\n",
       "      <th>eventId</th>\n",
       "      <th>subEventName</th>\n",
       "      <th>playerId</th>\n",
       "      <th>matchId</th>\n",
       "      <th>eventName</th>\n",
       "      <th>teamId</th>\n",
       "      <th>matchPeriod</th>\n",
       "      <th>eventSec</th>\n",
       "      <th>subEventId</th>\n",
       "      <th>...</th>\n",
       "      <th>x_inicio</th>\n",
       "      <th>y_inicio</th>\n",
       "      <th>y_fin</th>\n",
       "      <th>tag_0</th>\n",
       "      <th>tag_1</th>\n",
       "      <th>tag_2</th>\n",
       "      <th>tag_3</th>\n",
       "      <th>tag_4</th>\n",
       "      <th>tag_5</th>\n",
       "      <th>playId</th>\n",
       "    </tr>\n",
       "    <tr>\n",
       "      <th>x_fin</th>\n",
       "      <th></th>\n",
       "      <th></th>\n",
       "      <th></th>\n",
       "      <th></th>\n",
       "      <th></th>\n",
       "      <th></th>\n",
       "      <th></th>\n",
       "      <th></th>\n",
       "      <th></th>\n",
       "      <th></th>\n",
       "      <th></th>\n",
       "      <th></th>\n",
       "      <th></th>\n",
       "      <th></th>\n",
       "      <th></th>\n",
       "      <th></th>\n",
       "      <th></th>\n",
       "      <th></th>\n",
       "      <th></th>\n",
       "      <th></th>\n",
       "      <th></th>\n",
       "    </tr>\n",
       "  </thead>\n",
       "  <tbody>\n",
       "    <tr>\n",
       "      <th>0.0</th>\n",
       "      <td>3829</td>\n",
       "      <td>3829</td>\n",
       "      <td>3829</td>\n",
       "      <td>3829</td>\n",
       "      <td>3829</td>\n",
       "      <td>3829</td>\n",
       "      <td>3829</td>\n",
       "      <td>3829</td>\n",
       "      <td>3829</td>\n",
       "      <td>3829</td>\n",
       "      <td>...</td>\n",
       "      <td>3829</td>\n",
       "      <td>3829</td>\n",
       "      <td>3829</td>\n",
       "      <td>3829</td>\n",
       "      <td>3829</td>\n",
       "      <td>3829</td>\n",
       "      <td>2813</td>\n",
       "      <td>581</td>\n",
       "      <td>37</td>\n",
       "      <td>3829</td>\n",
       "    </tr>\n",
       "    <tr>\n",
       "      <th>100.0</th>\n",
       "      <td>3069</td>\n",
       "      <td>3069</td>\n",
       "      <td>3069</td>\n",
       "      <td>3069</td>\n",
       "      <td>3069</td>\n",
       "      <td>3069</td>\n",
       "      <td>3069</td>\n",
       "      <td>3069</td>\n",
       "      <td>3069</td>\n",
       "      <td>3069</td>\n",
       "      <td>...</td>\n",
       "      <td>3069</td>\n",
       "      <td>3069</td>\n",
       "      <td>3069</td>\n",
       "      <td>3069</td>\n",
       "      <td>3069</td>\n",
       "      <td>3069</td>\n",
       "      <td>2231</td>\n",
       "      <td>448</td>\n",
       "      <td>31</td>\n",
       "      <td>3069</td>\n",
       "    </tr>\n",
       "  </tbody>\n",
       "</table>\n",
       "<p>2 rows × 21 columns</p>\n",
       "</div>"
      ],
      "text/plain": [
       "       Unnamed: 0  eventId  subEventName  playerId  matchId  eventName  \\\n",
       "x_fin                                                                    \n",
       "0.0          3829     3829          3829      3829     3829       3829   \n",
       "100.0        3069     3069          3069      3069     3069       3069   \n",
       "\n",
       "       teamId  matchPeriod  eventSec  subEventId  ...  x_inicio  y_inicio  \\\n",
       "x_fin                                             ...                       \n",
       "0.0      3829         3829      3829        3829  ...      3829      3829   \n",
       "100.0    3069         3069      3069        3069  ...      3069      3069   \n",
       "\n",
       "       y_fin  tag_0  tag_1  tag_2  tag_3  tag_4  tag_5  playId  \n",
       "x_fin                                                           \n",
       "0.0     3829   3829   3829   3829   2813    581     37    3829  \n",
       "100.0   3069   3069   3069   3069   2231    448     31    3069  \n",
       "\n",
       "[2 rows x 21 columns]"
      ]
     },
     "execution_count": 128,
     "metadata": {},
     "output_type": "execute_result"
    },
    {
     "data": {
      "image/png": "[encoded data removed]",
      "text/plain": [
       "<Figure size 432x288 with 1 Axes>"
      ]
     },
     "metadata": {
      "needs_background": "light"
     },
     "output_type": "display_data"
    }
   ],
   "source": [
    "# ver los tiros\n",
    "\n",
    "tiros = df[df['eventName'] == 'Shot']\n",
    "\n",
    "sns.scatterplot(data=tiros, x=\"x_inicio\", y=\"y_inicio\")\n",
    "sns.scatterplot(data=tiros, x=\"x_fin\", y=\"y_inicio\") #pensar que hacer con los tiros. (co x_fin)\n",
    "\n",
    "tiros.groupby(['x_fin']).count()\n"
   ]
  },
  {
   "cell_type": "markdown",
   "id": "35c64708",
   "metadata": {},
   "source": [
    "## conseguir goles\n",
    "\n",
    "- solo nos importan las jugadas que terminan en goles.\n",
    "- no nos interesan autogoles, penales o jugadas a balón parado"
   ]
  },
  {
   "cell_type": "code",
   "execution_count": 146,
   "id": "0213e63e",
   "metadata": {},
   "outputs": [],
   "source": [
    "#ver goles\n",
    "#def plays_w_goals()\n",
    "tiros\n",
    "#fuentes dicen que en 2017-2018 se metieron 855 goles\n",
    "goles = jug_sep[(jug_sep['tag_0'] == 101) | \n",
    "                  (jug_sep['tag_1'] == 101) |\n",
    "                  (jug_sep['tag_2'] == 101) |\n",
    "                  (jug_sep['tag_3'] == 101) |\n",
    "                  (jug_sep['tag_4'] == 101) |\n",
    "                  (jug_sep['tag_5'] == 101) |\n",
    "                  (jug_sep['tag_0'] == 102) | \n",
    "                  (jug_sep['tag_1'] == 102) |\n",
    "                  (jug_sep['tag_2'] == 102) |\n",
    "                  (jug_sep['tag_3'] == 102) |\n",
    "                  (jug_sep['tag_4'] == 102) |\n",
    "                  (jug_sep['tag_5'] == 102)]\n",
    "\n",
    "goles = goles[(goles['eventName'] == 'Shot') |\n",
    "     (goles['eventName'] == 'Free Kick') | #con penales se llega a 833\n",
    "     (goles['eventName'] == 'Pass') |  #con pases se llega a 834 (fue un autogol)\n",
    "     (goles['eventName'] == 'Others on the ball')] # con others on the ball se llega a los 855\n",
    "\n",
    "#eventos que estpan involucrados en goles: Shot, Save attempt, Free Kick, Pass, Others on the ball\n",
    "\n",
    "jug_goles = goles[(goles['playId'] != 0) &\n",
    "                  (goles['eventName'] != \"Free Kick\") &\n",
    "                  (goles['eventName'] != \"Pass\") &\n",
    "                  (goles['eventName'] != \"Others on the ball\")\n",
    "                  \n",
    "                 ].copy()\n",
    "\n",
    "jug_goles['is_goal'] = 1 #son 675 goles los que nos interesan.  de los 6898 tiros. como el 10 %\n",
    "\n",
    "\n",
    "#modificar is_shot para que solo sea 1 o 0. \n",
    "jug_goles = jug_goles.groupby(['playId'], as_index=False).sum()[['playId', 'is_goal']].sort_values(by=['is_goal']) # la jugada 81066 tiene 2 goles\n",
    "\n",
    "#jug_sep[jug_sep['playId'] == 81066] #arreglar después\n",
    "#events_w_shot\n",
    "\n",
    "jug_goles2 = pd.merge(jug_sep2, jug_goles, how=\"left\", on=[\"playId\"])\n",
    "jug_goles2 = jug_goles2[jug_goles2['y'] == 1] #todos los eventos de jugadas que terminan en tiros\n",
    "\n"
   ]
  },
  {
   "cell_type": "code",
   "execution_count": 130,
   "id": "e68383de",
   "metadata": {},
   "outputs": [
    {
     "data": {
      "text/html": [
       "<div>\n",
       "<style scoped>\n",
       "    .dataframe tbody tr th:only-of-type {\n",
       "        vertical-align: middle;\n",
       "    }\n",
       "\n",
       "    .dataframe tbody tr th {\n",
       "        vertical-align: top;\n",
       "    }\n",
       "\n",
       "    .dataframe thead th {\n",
       "        text-align: right;\n",
       "    }\n",
       "</style>\n",
       "<table border=\"1\" class=\"dataframe\">\n",
       "  <thead>\n",
       "    <tr style=\"text-align: right;\">\n",
       "      <th></th>\n",
       "      <th>playId</th>\n",
       "      <th>play_w_shot</th>\n",
       "    </tr>\n",
       "  </thead>\n",
       "  <tbody>\n",
       "    <tr>\n",
       "      <th>48391</th>\n",
       "      <td>52341.0</td>\n",
       "      <td>1.0</td>\n",
       "    </tr>\n",
       "    <tr>\n",
       "      <th>7720</th>\n",
       "      <td>8326.0</td>\n",
       "      <td>1.0</td>\n",
       "    </tr>\n",
       "    <tr>\n",
       "      <th>41676</th>\n",
       "      <td>45099.0</td>\n",
       "      <td>1.0</td>\n",
       "    </tr>\n",
       "    <tr>\n",
       "      <th>86318</th>\n",
       "      <td>93314.0</td>\n",
       "      <td>1.0</td>\n",
       "    </tr>\n",
       "    <tr>\n",
       "      <th>41681</th>\n",
       "      <td>45104.0</td>\n",
       "      <td>1.0</td>\n",
       "    </tr>\n",
       "    <tr>\n",
       "      <th>...</th>\n",
       "      <td>...</td>\n",
       "      <td>...</td>\n",
       "    </tr>\n",
       "    <tr>\n",
       "      <th>32288</th>\n",
       "      <td>34939.0</td>\n",
       "      <td>0.0</td>\n",
       "    </tr>\n",
       "    <tr>\n",
       "      <th>32287</th>\n",
       "      <td>34938.0</td>\n",
       "      <td>0.0</td>\n",
       "    </tr>\n",
       "    <tr>\n",
       "      <th>32286</th>\n",
       "      <td>34937.0</td>\n",
       "      <td>0.0</td>\n",
       "    </tr>\n",
       "    <tr>\n",
       "      <th>32285</th>\n",
       "      <td>34936.0</td>\n",
       "      <td>0.0</td>\n",
       "    </tr>\n",
       "    <tr>\n",
       "      <th>93542</th>\n",
       "      <td>101089.0</td>\n",
       "      <td>0.0</td>\n",
       "    </tr>\n",
       "  </tbody>\n",
       "</table>\n",
       "<p>93543 rows × 2 columns</p>\n",
       "</div>"
      ],
      "text/plain": [
       "         playId  play_w_shot\n",
       "48391   52341.0          1.0\n",
       "7720     8326.0          1.0\n",
       "41676   45099.0          1.0\n",
       "86318   93314.0          1.0\n",
       "41681   45104.0          1.0\n",
       "...         ...          ...\n",
       "32288   34939.0          0.0\n",
       "32287   34938.0          0.0\n",
       "32286   34937.0          0.0\n",
       "32285   34936.0          0.0\n",
       "93542  101089.0          0.0\n",
       "\n",
       "[93543 rows x 2 columns]"
      ]
     },
     "execution_count": 130,
     "metadata": {},
     "output_type": "execute_result"
    }
   ],
   "source": [
    "\n",
    "# preparar datos para reresión logística\n",
    "\n",
    "#tirar los eventos con play_id=0\n",
    "jug_sep_ = jug_sep[jug_sep['playId'] != 0].copy()\n",
    "\n",
    "#hay 6898 eventos que terminan en tiros, 512509 eventos NO terminan en tiro\n",
    "#\n",
    "jug_sep_.loc[jug_sep['eventName'] == 'Shot', 'is_shot'] = 1\n",
    "jug_sep_['is_shot'] = jug_sep_['is_shot'].fillna(0)\n",
    "\n",
    "#hay jugadas que tienen más de un tiro. De un total de 93544 jugadas\n",
    "# 3 jugadas tienen 3.   78044,26233,35201\n",
    "# 170 jugadas tienen 2\n",
    "\n",
    "\n",
    "#modificar is_shot para que solo sea 1 o 0. \n",
    "jugadas = jug_sep_.groupby(['playId'], as_index=False).sum()[['playId', 'is_shot']]\n",
    "jugadas['is_shot'] = jugadas['is_shot'].mask(jugadas['is_shot'] > 1, other=1)  #solo confirmar que si es el mismo número de registros que si son tiros\n",
    "jugadas = jugadas.rename(columns={\"is_shot\": \"play_w_shot\"})\n",
    "\n",
    "jugadas.sort_values(by=['play_w_shot'], ascending = False)\n"
   ]
  },
  {
   "cell_type": "code",
   "execution_count": 131,
   "id": "7252cd01",
   "metadata": {
    "scrolled": false
   },
   "outputs": [],
   "source": [
    "\n",
    "#join con los eventos, by playId\n",
    "jug_sep2 = pd.merge(jug_sep, jugadas, how=\"left\", on=[\"playId\"])\n",
    "#407655\n",
    "jug_sep2 = jug_sep2.rename(columns={\"play_w_shot\": \"y\"})\n",
    "#ver porque se pasa a 384412 eventos"
   ]
  },
  {
   "cell_type": "markdown",
   "id": "d2bec9f0",
   "metadata": {},
   "source": [
    "#### Data final corresponde a los eventos que corresponden a jugadas y se predice cuales terminan en tiros\n",
    "#### Datafinal2 corresponde a los eventos de jugadas que terminan en tiros y terminan en gol."
   ]
  },
  {
   "cell_type": "code",
   "execution_count": 145,
   "id": "2bc28939",
   "metadata": {},
   "outputs": [
    {
     "data": {
      "text/html": [
       "<div>\n",
       "<style scoped>\n",
       "    .dataframe tbody tr th:only-of-type {\n",
       "        vertical-align: middle;\n",
       "    }\n",
       "\n",
       "    .dataframe tbody tr th {\n",
       "        vertical-align: top;\n",
       "    }\n",
       "\n",
       "    .dataframe thead th {\n",
       "        text-align: right;\n",
       "    }\n",
       "</style>\n",
       "<table border=\"1\" class=\"dataframe\">\n",
       "  <thead>\n",
       "    <tr style=\"text-align: right;\">\n",
       "      <th></th>\n",
       "      <th>x_inicio</th>\n",
       "      <th>y_inicio</th>\n",
       "      <th>y_fin</th>\n",
       "      <th>y</th>\n",
       "    </tr>\n",
       "  </thead>\n",
       "  <tbody>\n",
       "    <tr>\n",
       "      <th>0</th>\n",
       "      <td>50</td>\n",
       "      <td>50</td>\n",
       "      <td>48.0</td>\n",
       "      <td>0.0</td>\n",
       "    </tr>\n",
       "    <tr>\n",
       "      <th>1</th>\n",
       "      <td>50</td>\n",
       "      <td>48</td>\n",
       "      <td>22.0</td>\n",
       "      <td>0.0</td>\n",
       "    </tr>\n",
       "    <tr>\n",
       "      <th>2</th>\n",
       "      <td>22</td>\n",
       "      <td>22</td>\n",
       "      <td>46.0</td>\n",
       "      <td>0.0</td>\n",
       "    </tr>\n",
       "    <tr>\n",
       "      <th>3</th>\n",
       "      <td>6</td>\n",
       "      <td>46</td>\n",
       "      <td>10.0</td>\n",
       "      <td>0.0</td>\n",
       "    </tr>\n",
       "    <tr>\n",
       "      <th>4</th>\n",
       "      <td>20</td>\n",
       "      <td>10</td>\n",
       "      <td>4.0</td>\n",
       "      <td>0.0</td>\n",
       "    </tr>\n",
       "    <tr>\n",
       "      <th>...</th>\n",
       "      <td>...</td>\n",
       "      <td>...</td>\n",
       "      <td>...</td>\n",
       "      <td>...</td>\n",
       "    </tr>\n",
       "    <tr>\n",
       "      <th>519396</th>\n",
       "      <td>78</td>\n",
       "      <td>53</td>\n",
       "      <td>46.0</td>\n",
       "      <td>1.0</td>\n",
       "    </tr>\n",
       "    <tr>\n",
       "      <th>519397</th>\n",
       "      <td>83</td>\n",
       "      <td>46</td>\n",
       "      <td>100.0</td>\n",
       "      <td>1.0</td>\n",
       "    </tr>\n",
       "    <tr>\n",
       "      <th>519398</th>\n",
       "      <td>17</td>\n",
       "      <td>53</td>\n",
       "      <td>60.0</td>\n",
       "      <td>0.0</td>\n",
       "    </tr>\n",
       "    <tr>\n",
       "      <th>519403</th>\n",
       "      <td>10</td>\n",
       "      <td>94</td>\n",
       "      <td>95.0</td>\n",
       "      <td>0.0</td>\n",
       "    </tr>\n",
       "    <tr>\n",
       "      <th>519405</th>\n",
       "      <td>0</td>\n",
       "      <td>95</td>\n",
       "      <td>93.0</td>\n",
       "      <td>0.0</td>\n",
       "    </tr>\n",
       "  </tbody>\n",
       "</table>\n",
       "<p>384324 rows × 4 columns</p>\n",
       "</div>"
      ],
      "text/plain": [
       "        x_inicio  y_inicio  y_fin    y\n",
       "0             50        50   48.0  0.0\n",
       "1             50        48   22.0  0.0\n",
       "2             22        22   46.0  0.0\n",
       "3              6        46   10.0  0.0\n",
       "4             20        10    4.0  0.0\n",
       "...          ...       ...    ...  ...\n",
       "519396        78        53   46.0  1.0\n",
       "519397        83        46  100.0  1.0\n",
       "519398        17        53   60.0  0.0\n",
       "519403        10        94   95.0  0.0\n",
       "519405         0        95   93.0  0.0\n",
       "\n",
       "[384324 rows x 4 columns]"
      ]
     },
     "execution_count": 145,
     "metadata": {},
     "output_type": "execute_result"
    }
   ],
   "source": [
    "\n",
    "\n",
    "data_final = jug_sep2[['x_inicio','y_inicio','y_fin','y']]\n",
    "\n",
    "data_final = data_final.dropna() # hay registros que no tienen coordenadas registradas\n",
    "#vale la pena ver que eventos son y si hay una razón \n",
    "\n",
    "data_final #384324 ya sin registros vacíos, 384412 originalmente"
   ]
  },
  {
   "cell_type": "code",
   "execution_count": 216,
   "id": "62b53ad6",
   "metadata": {},
   "outputs": [
    {
     "name": "stderr",
     "output_type": "stream",
     "text": [
      "C:\\Users\\Ernie\\AppData\\Local\\Temp\\ipykernel_12436\\4197177135.py:1: FutureWarning: In a future version of pandas all arguments of DataFrame.drop except for the argument 'labels' will be keyword-only.\n",
      "  data_final_2 = jug_goles2.drop('y',1)\n"
     ]
    },
    {
     "data": {
      "text/html": [
       "<div>\n",
       "<style scoped>\n",
       "    .dataframe tbody tr th:only-of-type {\n",
       "        vertical-align: middle;\n",
       "    }\n",
       "\n",
       "    .dataframe tbody tr th {\n",
       "        vertical-align: top;\n",
       "    }\n",
       "\n",
       "    .dataframe thead th {\n",
       "        text-align: right;\n",
       "    }\n",
       "</style>\n",
       "<table border=\"1\" class=\"dataframe\">\n",
       "  <thead>\n",
       "    <tr style=\"text-align: right;\">\n",
       "      <th></th>\n",
       "      <th>x_inicio</th>\n",
       "      <th>y_inicio</th>\n",
       "      <th>y_fin</th>\n",
       "      <th>y</th>\n",
       "    </tr>\n",
       "  </thead>\n",
       "  <tbody>\n",
       "    <tr>\n",
       "      <th>177</th>\n",
       "      <td>79</td>\n",
       "      <td>15</td>\n",
       "      <td>59.0</td>\n",
       "      <td>1.0</td>\n",
       "    </tr>\n",
       "    <tr>\n",
       "      <th>178</th>\n",
       "      <td>95</td>\n",
       "      <td>59</td>\n",
       "      <td>0.0</td>\n",
       "      <td>1.0</td>\n",
       "    </tr>\n",
       "    <tr>\n",
       "      <th>348</th>\n",
       "      <td>89</td>\n",
       "      <td>34</td>\n",
       "      <td>53.0</td>\n",
       "      <td>1.0</td>\n",
       "    </tr>\n",
       "    <tr>\n",
       "      <th>349</th>\n",
       "      <td>98</td>\n",
       "      <td>53</td>\n",
       "      <td>0.0</td>\n",
       "      <td>1.0</td>\n",
       "    </tr>\n",
       "    <tr>\n",
       "      <th>1130</th>\n",
       "      <td>23</td>\n",
       "      <td>73</td>\n",
       "      <td>29.0</td>\n",
       "      <td>1.0</td>\n",
       "    </tr>\n",
       "    <tr>\n",
       "      <th>...</th>\n",
       "      <td>...</td>\n",
       "      <td>...</td>\n",
       "      <td>...</td>\n",
       "      <td>...</td>\n",
       "    </tr>\n",
       "    <tr>\n",
       "      <th>66650</th>\n",
       "      <td>18</td>\n",
       "      <td>12</td>\n",
       "      <td>10.0</td>\n",
       "      <td>0.0</td>\n",
       "    </tr>\n",
       "    <tr>\n",
       "      <th>66651</th>\n",
       "      <td>44</td>\n",
       "      <td>10</td>\n",
       "      <td>19.0</td>\n",
       "      <td>0.0</td>\n",
       "    </tr>\n",
       "    <tr>\n",
       "      <th>66652</th>\n",
       "      <td>36</td>\n",
       "      <td>19</td>\n",
       "      <td>26.0</td>\n",
       "      <td>0.0</td>\n",
       "    </tr>\n",
       "    <tr>\n",
       "      <th>66653</th>\n",
       "      <td>29</td>\n",
       "      <td>26</td>\n",
       "      <td>20.0</td>\n",
       "      <td>0.0</td>\n",
       "    </tr>\n",
       "    <tr>\n",
       "      <th>66654</th>\n",
       "      <td>32</td>\n",
       "      <td>20</td>\n",
       "      <td>70.0</td>\n",
       "      <td>0.0</td>\n",
       "    </tr>\n",
       "  </tbody>\n",
       "</table>\n",
       "<p>8704 rows × 4 columns</p>\n",
       "</div>"
      ],
      "text/plain": [
       "       x_inicio  y_inicio  y_fin    y\n",
       "177          79        15   59.0  1.0\n",
       "178          95        59    0.0  1.0\n",
       "348          89        34   53.0  1.0\n",
       "349          98        53    0.0  1.0\n",
       "1130         23        73   29.0  1.0\n",
       "...         ...       ...    ...  ...\n",
       "66650        18        12   10.0  0.0\n",
       "66651        44        10   19.0  0.0\n",
       "66652        36        19   26.0  0.0\n",
       "66653        29        26   20.0  0.0\n",
       "66654        32        20   70.0  0.0\n",
       "\n",
       "[8704 rows x 4 columns]"
      ]
     },
     "execution_count": 216,
     "metadata": {},
     "output_type": "execute_result"
    }
   ],
   "source": [
    "data_final_2 = jug_goles2.drop('y',1)\n",
    "\n",
    "data_final_2 = data_final_2[['x_inicio','y_inicio','y_fin','is_goal']]\n",
    "data_final_2['is_goal'] = data_final_2['is_goal'].fillna(0)\n",
    "data_final_2 = data_final_2.rename(columns={\"is_goal\": \"y\"})\n",
    "data_final_2 = data_final_2.dropna() # hay 2 registros que no tienen coordenadas registradas\n",
    "\n",
    "#prueba con menos datos\n",
    "temp1 = data_final_2[data_final_2['y'] == 1]#4204 eventos fueron involucrados en gol. de los 34938 eventos que estuvieron en tiros. \n",
    "temp2 = data_final_2[data_final_2['y'] == 0].head(4500)\n",
    "\n",
    "data_final_2 = pd.concat([temp1,temp2])"
   ]
  },
  {
   "cell_type": "code",
   "execution_count": 133,
   "id": "605d3b86",
   "metadata": {},
   "outputs": [],
   "source": [
    "#over sampling, no se terminó usando\n",
    "\n",
    "x = data_final.loc[:, data_final.columns != 'y']\n",
    "y = data_final.loc[:, data_final.columns == 'y']\n",
    "\n",
    "x_train, x_test, y_train, y_test = train_test_split(x, y, test_size=0.3, random_state=0)\n",
    "columns = x_train.columns"
   ]
  },
  {
   "cell_type": "code",
   "execution_count": 134,
   "id": "73f146b1",
   "metadata": {},
   "outputs": [],
   "source": [
    "logisticRegr = LogisticRegression()"
   ]
  },
  {
   "cell_type": "code",
   "execution_count": 135,
   "id": "2cfee270",
   "metadata": {},
   "outputs": [
    {
     "name": "stderr",
     "output_type": "stream",
     "text": [
      "C:\\Users\\Ernie\\anaconda3\\envs\\sport_analysis\\lib\\site-packages\\sklearn\\utils\\validation.py:1111: DataConversionWarning: A column-vector y was passed when a 1d array was expected. Please change the shape of y to (n_samples, ), for example using ravel().\n",
      "  y = column_or_1d(y, warn=True)\n"
     ]
    },
    {
     "data": {
      "text/html": [
       "<style>#sk-container-id-4 {color: black;background-color: white;}#sk-container-id-4 pre{padding: 0;}#sk-container-id-4 div.sk-toggleable {background-color: white;}#sk-container-id-4 label.sk-toggleable__label {cursor: pointer;display: block;width: 100%;margin-bottom: 0;padding: 0.3em;box-sizing: border-box;text-align: center;}#sk-container-id-4 label.sk-toggleable__label-arrow:before {content: \"▸\";float: left;margin-right: 0.25em;color: #696969;}#sk-container-id-4 label.sk-toggleable__label-arrow:hover:before {color: black;}#sk-container-id-4 div.sk-estimator:hover label.sk-toggleable__label-arrow:before {color: black;}#sk-container-id-4 div.sk-toggleable__content {max-height: 0;max-width: 0;overflow: hidden;text-align: left;background-color: #f0f8ff;}#sk-container-id-4 div.sk-toggleable__content pre {margin: 0.2em;color: black;border-radius: 0.25em;background-color: #f0f8ff;}#sk-container-id-4 input.sk-toggleable__control:checked~div.sk-toggleable__content {max-height: 200px;max-width: 100%;overflow: auto;}#sk-container-id-4 input.sk-toggleable__control:checked~label.sk-toggleable__label-arrow:before {content: \"▾\";}#sk-container-id-4 div.sk-estimator input.sk-toggleable__control:checked~label.sk-toggleable__label {background-color: #d4ebff;}#sk-container-id-4 div.sk-label input.sk-toggleable__control:checked~label.sk-toggleable__label {background-color: #d4ebff;}#sk-container-id-4 input.sk-hidden--visually {border: 0;clip: rect(1px 1px 1px 1px);clip: rect(1px, 1px, 1px, 1px);height: 1px;margin: -1px;overflow: hidden;padding: 0;position: absolute;width: 1px;}#sk-container-id-4 div.sk-estimator {font-family: monospace;background-color: #f0f8ff;border: 1px dotted black;border-radius: 0.25em;box-sizing: border-box;margin-bottom: 0.5em;}#sk-container-id-4 div.sk-estimator:hover {background-color: #d4ebff;}#sk-container-id-4 div.sk-parallel-item::after {content: \"\";width: 100%;border-bottom: 1px solid gray;flex-grow: 1;}#sk-container-id-4 div.sk-label:hover label.sk-toggleable__label {background-color: #d4ebff;}#sk-container-id-4 div.sk-serial::before {content: \"\";position: absolute;border-left: 1px solid gray;box-sizing: border-box;top: 0;bottom: 0;left: 50%;z-index: 0;}#sk-container-id-4 div.sk-serial {display: flex;flex-direction: column;align-items: center;background-color: white;padding-right: 0.2em;padding-left: 0.2em;position: relative;}#sk-container-id-4 div.sk-item {position: relative;z-index: 1;}#sk-container-id-4 div.sk-parallel {display: flex;align-items: stretch;justify-content: center;background-color: white;position: relative;}#sk-container-id-4 div.sk-item::before, #sk-container-id-4 div.sk-parallel-item::before {content: \"\";position: absolute;border-left: 1px solid gray;box-sizing: border-box;top: 0;bottom: 0;left: 50%;z-index: -1;}#sk-container-id-4 div.sk-parallel-item {display: flex;flex-direction: column;z-index: 1;position: relative;background-color: white;}#sk-container-id-4 div.sk-parallel-item:first-child::after {align-self: flex-end;width: 50%;}#sk-container-id-4 div.sk-parallel-item:last-child::after {align-self: flex-start;width: 50%;}#sk-container-id-4 div.sk-parallel-item:only-child::after {width: 0;}#sk-container-id-4 div.sk-dashed-wrapped {border: 1px dashed gray;margin: 0 0.4em 0.5em 0.4em;box-sizing: border-box;padding-bottom: 0.4em;background-color: white;}#sk-container-id-4 div.sk-label label {font-family: monospace;font-weight: bold;display: inline-block;line-height: 1.2em;}#sk-container-id-4 div.sk-label-container {text-align: center;}#sk-container-id-4 div.sk-container {/* jupyter's `normalize.less` sets `[hidden] { display: none; }` but bootstrap.min.css set `[hidden] { display: none !important; }` so we also need the `!important` here to be able to override the default hidden behavior on the sphinx rendered scikit-learn.org. See: https://github.com/scikit-learn/scikit-learn/issues/21755 */display: inline-block !important;position: relative;}#sk-container-id-4 div.sk-text-repr-fallback {display: none;}</style><div id=\"sk-container-id-4\" class=\"sk-top-container\"><div class=\"sk-text-repr-fallback\"><pre>LogisticRegression()</pre><b>In a Jupyter environment, please rerun this cell to show the HTML representation or trust the notebook. <br />On GitHub, the HTML representation is unable to render, please try loading this page with nbviewer.org.</b></div><div class=\"sk-container\" hidden><div class=\"sk-item\"><div class=\"sk-estimator sk-toggleable\"><input class=\"sk-toggleable__control sk-hidden--visually\" id=\"sk-estimator-id-4\" type=\"checkbox\" checked><label for=\"sk-estimator-id-4\" class=\"sk-toggleable__label sk-toggleable__label-arrow\">LogisticRegression</label><div class=\"sk-toggleable__content\"><pre>LogisticRegression()</pre></div></div></div></div></div>"
      ],
      "text/plain": [
       "LogisticRegression()"
      ]
     },
     "execution_count": 135,
     "metadata": {},
     "output_type": "execute_result"
    }
   ],
   "source": [
    "logisticRegr.fit(x_train, y_train)"
   ]
  },
  {
   "cell_type": "code",
   "execution_count": 136,
   "id": "f7f3aa74",
   "metadata": {},
   "outputs": [],
   "source": [
    "#logisticRegr.predict(x_test[0])\n",
    "predictions = logisticRegr.predict(x_test)"
   ]
  },
  {
   "cell_type": "code",
   "execution_count": 137,
   "id": "78f648fe",
   "metadata": {},
   "outputs": [
    {
     "name": "stdout",
     "output_type": "stream",
     "text": [
      "0.9106836198372912\n"
     ]
    }
   ],
   "source": [
    "score = logisticRegr.score(x_test, y_test)\n",
    "print(score)"
   ]
  },
  {
   "cell_type": "code",
   "execution_count": 138,
   "id": "29908e35",
   "metadata": {},
   "outputs": [],
   "source": [
    "import matplotlib.pyplot as plt\n",
    "import seaborn as sns\n",
    "from sklearn import metrics"
   ]
  },
  {
   "cell_type": "code",
   "execution_count": 139,
   "id": "65c248d7",
   "metadata": {},
   "outputs": [
    {
     "name": "stdout",
     "output_type": "stream",
     "text": [
      "[[105000      0]\n",
      " [ 10298      0]]\n"
     ]
    }
   ],
   "source": [
    "cm = metrics.confusion_matrix(y_test, predictions)\n",
    "print(cm)"
   ]
  },
  {
   "cell_type": "markdown",
   "id": "4b0d2fb0",
   "metadata": {},
   "source": [
    "# conclsusión 1\n",
    "- parece que el modelo de eventos para predecir si es tiro no parece ser tan prometedor.\n",
    "- al menos si se usan solo las coordenadas"
   ]
  },
  {
   "cell_type": "markdown",
   "id": "d1bbc52a",
   "metadata": {},
   "source": [
    "# prueba 2: modelo para ver que eventos terminan en gol (de tiros)"
   ]
  },
  {
   "cell_type": "code",
   "execution_count": 212,
   "id": "d8a346c5",
   "metadata": {},
   "outputs": [
    {
     "data": {
      "text/plain": [
       "<AxesSubplot:xlabel='x_inicio', ylabel='y_inicio'>"
      ]
     },
     "execution_count": 212,
     "metadata": {},
     "output_type": "execute_result"
    },
    {
     "data": {
      "image/png": "[encoded data removed]",
      "text/plain": [
       "<Figure size 432x288 with 1 Axes>"
      ]
     },
     "metadata": {
      "needs_background": "light"
     },
     "output_type": "display_data"
    }
   ],
   "source": [
    "no_gol = data_final_2[data_final_2['y'] == 0]\n",
    "yes_gol = data_final_2[data_final_2['y'] == 1]\n",
    "\n",
    "#sns.scatterplot(data=no_gol, x=\"x_inicio\", y=\"y_inicio\", alpha=0.2)\n",
    "sns.scatterplot(data=yes_gol, x=\"x_inicio\", y=\"y_inicio\", alpha = 0.2)\n",
    "#sns.scatterplot(data=data_final_2, x=\"x_fin\", y=\"y_inicio\")"
   ]
  },
  {
   "cell_type": "code",
   "execution_count": 227,
   "id": "941d2e01",
   "metadata": {},
   "outputs": [],
   "source": [
    "x2 = data_final_2.loc[:, data_final_2.columns != 'y']\n",
    "y2 = data_final_2.loc[:, data_final_2.columns == 'y']\n",
    "\n",
    "x_train2, x_test2, y_train2, y_test2 = train_test_split(x2, y2, test_size=0.3, random_state=0)\n",
    "columns = x_train.columns"
   ]
  },
  {
   "cell_type": "code",
   "execution_count": 228,
   "id": "480116f4",
   "metadata": {},
   "outputs": [],
   "source": [
    "logisticRegr = LogisticRegression()#ver impacto de max_iter"
   ]
  },
  {
   "cell_type": "code",
   "execution_count": 229,
   "id": "b934227e",
   "metadata": {},
   "outputs": [
    {
     "data": {
      "text/html": [
       "<style>#sk-container-id-12 {color: black;background-color: white;}#sk-container-id-12 pre{padding: 0;}#sk-container-id-12 div.sk-toggleable {background-color: white;}#sk-container-id-12 label.sk-toggleable__label {cursor: pointer;display: block;width: 100%;margin-bottom: 0;padding: 0.3em;box-sizing: border-box;text-align: center;}#sk-container-id-12 label.sk-toggleable__label-arrow:before {content: \"▸\";float: left;margin-right: 0.25em;color: #696969;}#sk-container-id-12 label.sk-toggleable__label-arrow:hover:before {color: black;}#sk-container-id-12 div.sk-estimator:hover label.sk-toggleable__label-arrow:before {color: black;}#sk-container-id-12 div.sk-toggleable__content {max-height: 0;max-width: 0;overflow: hidden;text-align: left;background-color: #f0f8ff;}#sk-container-id-12 div.sk-toggleable__content pre {margin: 0.2em;color: black;border-radius: 0.25em;background-color: #f0f8ff;}#sk-container-id-12 input.sk-toggleable__control:checked~div.sk-toggleable__content {max-height: 200px;max-width: 100%;overflow: auto;}#sk-container-id-12 input.sk-toggleable__control:checked~label.sk-toggleable__label-arrow:before {content: \"▾\";}#sk-container-id-12 div.sk-estimator input.sk-toggleable__control:checked~label.sk-toggleable__label {background-color: #d4ebff;}#sk-container-id-12 div.sk-label input.sk-toggleable__control:checked~label.sk-toggleable__label {background-color: #d4ebff;}#sk-container-id-12 input.sk-hidden--visually {border: 0;clip: rect(1px 1px 1px 1px);clip: rect(1px, 1px, 1px, 1px);height: 1px;margin: -1px;overflow: hidden;padding: 0;position: absolute;width: 1px;}#sk-container-id-12 div.sk-estimator {font-family: monospace;background-color: #f0f8ff;border: 1px dotted black;border-radius: 0.25em;box-sizing: border-box;margin-bottom: 0.5em;}#sk-container-id-12 div.sk-estimator:hover {background-color: #d4ebff;}#sk-container-id-12 div.sk-parallel-item::after {content: \"\";width: 100%;border-bottom: 1px solid gray;flex-grow: 1;}#sk-container-id-12 div.sk-label:hover label.sk-toggleable__label {background-color: #d4ebff;}#sk-container-id-12 div.sk-serial::before {content: \"\";position: absolute;border-left: 1px solid gray;box-sizing: border-box;top: 0;bottom: 0;left: 50%;z-index: 0;}#sk-container-id-12 div.sk-serial {display: flex;flex-direction: column;align-items: center;background-color: white;padding-right: 0.2em;padding-left: 0.2em;position: relative;}#sk-container-id-12 div.sk-item {position: relative;z-index: 1;}#sk-container-id-12 div.sk-parallel {display: flex;align-items: stretch;justify-content: center;background-color: white;position: relative;}#sk-container-id-12 div.sk-item::before, #sk-container-id-12 div.sk-parallel-item::before {content: \"\";position: absolute;border-left: 1px solid gray;box-sizing: border-box;top: 0;bottom: 0;left: 50%;z-index: -1;}#sk-container-id-12 div.sk-parallel-item {display: flex;flex-direction: column;z-index: 1;position: relative;background-color: white;}#sk-container-id-12 div.sk-parallel-item:first-child::after {align-self: flex-end;width: 50%;}#sk-container-id-12 div.sk-parallel-item:last-child::after {align-self: flex-start;width: 50%;}#sk-container-id-12 div.sk-parallel-item:only-child::after {width: 0;}#sk-container-id-12 div.sk-dashed-wrapped {border: 1px dashed gray;margin: 0 0.4em 0.5em 0.4em;box-sizing: border-box;padding-bottom: 0.4em;background-color: white;}#sk-container-id-12 div.sk-label label {font-family: monospace;font-weight: bold;display: inline-block;line-height: 1.2em;}#sk-container-id-12 div.sk-label-container {text-align: center;}#sk-container-id-12 div.sk-container {/* jupyter's `normalize.less` sets `[hidden] { display: none; }` but bootstrap.min.css set `[hidden] { display: none !important; }` so we also need the `!important` here to be able to override the default hidden behavior on the sphinx rendered scikit-learn.org. See: https://github.com/scikit-learn/scikit-learn/issues/21755 */display: inline-block !important;position: relative;}#sk-container-id-12 div.sk-text-repr-fallback {display: none;}</style><div id=\"sk-container-id-12\" class=\"sk-top-container\"><div class=\"sk-text-repr-fallback\"><pre>LogisticRegression()</pre><b>In a Jupyter environment, please rerun this cell to show the HTML representation or trust the notebook. <br />On GitHub, the HTML representation is unable to render, please try loading this page with nbviewer.org.</b></div><div class=\"sk-container\" hidden><div class=\"sk-item\"><div class=\"sk-estimator sk-toggleable\"><input class=\"sk-toggleable__control sk-hidden--visually\" id=\"sk-estimator-id-12\" type=\"checkbox\" checked><label for=\"sk-estimator-id-12\" class=\"sk-toggleable__label sk-toggleable__label-arrow\">LogisticRegression</label><div class=\"sk-toggleable__content\"><pre>LogisticRegression()</pre></div></div></div></div></div>"
      ],
      "text/plain": [
       "LogisticRegression()"
      ]
     },
     "execution_count": 229,
     "metadata": {},
     "output_type": "execute_result"
    }
   ],
   "source": [
    "logisticRegr.fit(x_train2, y_train2.values.ravel()) \n",
    "\n"
   ]
  },
  {
   "cell_type": "code",
   "execution_count": 230,
   "id": "8bbfb0e2",
   "metadata": {},
   "outputs": [],
   "source": [
    "predictions2 = logisticRegr.predict(x_test2)"
   ]
  },
  {
   "cell_type": "code",
   "execution_count": 231,
   "id": "d7a918a4",
   "metadata": {},
   "outputs": [
    {
     "name": "stdout",
     "output_type": "stream",
     "text": [
      "0.4729396867248348\n"
     ]
    }
   ],
   "source": [
    "score = logisticRegr.score(x_test, y_test)\n",
    "print(score)"
   ]
  },
  {
   "cell_type": "code",
   "execution_count": 232,
   "id": "e5950c82",
   "metadata": {},
   "outputs": [
    {
     "name": "stdout",
     "output_type": "stream",
     "text": [
      "[[1054  292]\n",
      " [ 892  374]]\n"
     ]
    }
   ],
   "source": [
    "cm = metrics.confusion_matrix(y_test2, predictions2)\n",
    "print(cm)"
   ]
  },
  {
   "cell_type": "markdown",
   "id": "e13409fd",
   "metadata": {},
   "source": [
    "# Conclusión 2\n",
    "\n",
    "- ver que tan importante que los datos estén balanceados (ver que tal con la prueba 1)\n",
    "- con los datos originales "
   ]
  },
  {
   "cell_type": "code",
   "execution_count": 238,
   "id": "4aa4c661",
   "metadata": {
    "scrolled": true
   },
   "outputs": [
    {
     "data": {
      "text/plain": [
       "<matplotlib.collections.PathCollection at 0x28499bcf430>"
      ]
     },
     "execution_count": 238,
     "metadata": {},
     "output_type": "execute_result"
    },
    {
     "data": {
      "image/png": "[encoded data removed]",
      "text/plain": [
       "<Figure size 432x288 with 1 Axes>"
      ]
     },
     "metadata": {
      "needs_background": "light"
     },
     "output_type": "display_data"
    }
   ],
   "source": [
    "plt.scatter(data_final_2['x_inicio'], data_final_2['y'], alpha=0.006)"
   ]
  },
  {
   "cell_type": "code",
   "execution_count": 240,
   "id": "ccb1705e",
   "metadata": {},
   "outputs": [
    {
     "data": {
      "text/plain": [
       "<seaborn.axisgrid.FacetGrid at 0x28499c16e50>"
      ]
     },
     "execution_count": 240,
     "metadata": {},
     "output_type": "execute_result"
    },
    {
     "data": {
      "image/png": "[encoded data removed]",
      "text/plain": [
       "<Figure size 360x360 with 1 Axes>"
      ]
     },
     "metadata": {
      "needs_background": "light"
     },
     "output_type": "display_data"
    }
   ],
   "source": [
    "sns.displot(no_gol, x=\"x_inicio\", kind=\"kde\")"
   ]
  },
  {
   "cell_type": "code",
   "execution_count": 241,
   "id": "2a0cf710",
   "metadata": {},
   "outputs": [
    {
     "data": {
      "text/plain": [
       "<seaborn.axisgrid.FacetGrid at 0x28499c40550>"
      ]
     },
     "execution_count": 241,
     "metadata": {},
     "output_type": "execute_result"
    },
    {
     "data": {
      "image/png": "[encoded data removed]",
      "text/plain": [
       "<Figure size 360x360 with 1 Axes>"
      ]
     },
     "metadata": {
      "needs_background": "light"
     },
     "output_type": "display_data"
    }
   ],
   "source": [
    "sns.displot(yes_gol, x=\"x_inicio\", kind=\"kde\")"
   ]
  },
  {
   "cell_type": "code",
   "execution_count": 252,
   "id": "918627ec",
   "metadata": {},
   "outputs": [
    {
     "data": {
      "text/plain": [
       "<seaborn.axisgrid.FacetGrid at 0x2849a02d940>"
      ]
     },
     "execution_count": 252,
     "metadata": {},
     "output_type": "execute_result"
    },
    {
     "data": {
      "image/png": "[encoded data removed]",
      "text/plain": [
       "<Figure size 360x360 with 1 Axes>"
      ]
     },
     "metadata": {
      "needs_background": "light"
     },
     "output_type": "display_data"
    }
   ],
   "source": [
    "sns.lmplot(x=\"x_inicio\", y=\"y\", data=data_final_2,\n",
    "                y_jitter=.02, logistic=True, truncate=False)"
   ]
  },
  {
   "cell_type": "code",
   "execution_count": 279,
   "id": "1ac7b36c",
   "metadata": {},
   "outputs": [
    {
     "data": {
      "text/plain": [
       "<AxesSubplot:xlabel='x_inicio', ylabel='y'>"
      ]
     },
     "execution_count": 279,
     "metadata": {},
     "output_type": "execute_result"
    },
    {
     "data": {
      "image/png": "[encoded data removed]",
      "text/plain": [
       "<Figure size 432x288 with 1 Axes>"
      ]
     },
     "metadata": {
      "needs_background": "light"
     },
     "output_type": "display_data"
    }
   ],
   "source": [
    "sns.regplot(x='x_inicio', y='y', data=data_final_2, logistic=True)"
   ]
  },
  {
   "cell_type": "code",
   "execution_count": 258,
   "id": "b0cf06f7",
   "metadata": {},
   "outputs": [
    {
     "name": "stdout",
     "output_type": "stream",
     "text": [
      "Optimization terminated successfully.\n",
      "         Current function value: 0.691649\n",
      "         Iterations 3\n",
      "                           Logit Regression Results                           \n",
      "==============================================================================\n",
      "Dep. Variable:                      y   No. Observations:                 6092\n",
      "Model:                          Logit   Df Residuals:                     6089\n",
      "Method:                           MLE   Df Model:                            2\n",
      "Date:                Sat, 02 Jul 2022   Pseudo R-squ.:                0.001255\n",
      "Time:                        17:49:49   Log-Likelihood:                -4213.5\n",
      "converged:                       True   LL-Null:                       -4218.8\n",
      "Covariance Type:            nonrobust   LLR p-value:                  0.005013\n",
      "==============================================================================\n",
      "                 coef    std err          z      P>|z|      [0.025      0.975]\n",
      "------------------------------------------------------------------------------\n",
      "x_inicio      -0.0025      0.001     -3.633      0.000      -0.004      -0.001\n",
      "y_inicio       0.0008      0.001      0.758      0.449      -0.001       0.003\n",
      "y_fin          0.0009      0.001      1.032      0.302      -0.001       0.003\n",
      "==============================================================================\n"
     ]
    }
   ],
   "source": [
    "import statsmodels.api as sm\n",
    "\n",
    "logit_model=sm.Logit(y_train2,x_train2)\n",
    "result=logit_model.fit()\n",
    "print(result.summary())"
   ]
  },
  {
   "cell_type": "code",
   "execution_count": 277,
   "id": "c954a582",
   "metadata": {},
   "outputs": [
    {
     "name": "stdout",
     "output_type": "stream",
     "text": [
      "Confusion Matrix : \n",
      " [[1181  165]\n",
      " [1037  229]]\n",
      "Test accuracy =  0.5398162327718223\n"
     ]
    }
   ],
   "source": [
    "yhat = result.predict(x_test2)\n",
    "prediction = list(map(round, yhat))\n",
    "\n",
    "\n",
    "from sklearn.metrics import (confusion_matrix, \n",
    "                           accuracy_score)\n",
    "  \n",
    "# confusion matrix\n",
    "cm = confusion_matrix(y_test2, prediction) \n",
    "print (\"Confusion Matrix : \\n\", cm) \n",
    "  \n",
    "# accuracy score of the model\n",
    "print('Test accuracy = ', accuracy_score(y_test2, prediction))"
   ]
  },
  {
   "cell_type": "code",
   "execution_count": null,
   "id": "b3c29f88",
   "metadata": {},
   "outputs": [],
   "source": [
    "sm.graphics.plot_partregress('Lottery', 'Wealth', ['Region', 'Literacy'], data=data_final_2, obs_labels=False)"
   ]
  },
  {
   "cell_type": "code",
   "execution_count": 263,
   "id": "4ca60ada",
   "metadata": {},
   "outputs": [],
   "source": [
    "from sklearn import linear_model\n",
    "from scipy.special import expit\n",
    " \n",
    "#model = linear_model.LogisticRegression(C=1e5, solver='lbfgs')\n",
    "#model.fit(iris_data[:,0].reshape(-1,1), iris_target)"
   ]
  },
  {
   "cell_type": "code",
   "execution_count": 269,
   "id": "fd4f52a7",
   "metadata": {},
   "outputs": [
    {
     "data": {
      "text/plain": [
       "[<matplotlib.lines.Line2D at 0x284afaa1550>,\n",
       " <matplotlib.lines.Line2D at 0x284afaa1580>,\n",
       " <matplotlib.lines.Line2D at 0x284afaa16a0>]"
      ]
     },
     "execution_count": 269,
     "metadata": {},
     "output_type": "execute_result"
    },
    {
     "data": {
      "image/png": "[encoded data removed]",
      "text/plain": [
       "<Figure size 432x288 with 1 Axes>"
      ]
     },
     "metadata": {
      "needs_background": "light"
     },
     "output_type": "display_data"
    }
   ],
   "source": [
    "coef_ = -0.0025\n",
    "intercept_ = 0.001\n",
    "\n",
    "y_test = x_test * coef_ + intercept_\n",
    " \n",
    "sigmoid = expit(y_test)\n",
    "#sigmoid = sigmoid['x_inicio']\n",
    "\n",
    "plt.scatter(data_final_2['x_inicio'], data_final_2['y'], alpha=0.006)\n",
    "\n",
    "plt.plot(x_test,sigmoid,c=\"green\", label = \"logistic fit\")"
   ]
  }
 ],
 "metadata": {
  "kernelspec": {
   "display_name": "Python 3 (ipykernel)",
   "language": "python",
   "name": "python3"
  },
  "language_info": {
   "codemirror_mode": {
    "name": "ipython",
    "version": 3
   },
   "file_extension": ".py",
   "mimetype": "text/x-python",
   "name": "python",
   "nbconvert_exporter": "python",
   "pygments_lexer": "ipython3",
   "version": "3.9.12"
  }
 },
 "nbformat": 4,
 "nbformat_minor": 5
}
